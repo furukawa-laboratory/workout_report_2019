{
 "cells": [
  {
   "cell_type": "markdown",
   "metadata": {},
   "source": [
    "# sklearnを用いたOneHotEncoding Data\n",
    "### OneHotEncoderの挙動が良く分からない人向け"
   ]
  },
  {
   "cell_type": "code",
   "execution_count": 1,
   "metadata": {},
   "outputs": [
    {
     "name": "stdout",
     "output_type": "stream",
     "text": [
      "[[0 1 6 2]\n",
      " [1 5 3 5]\n",
      " [2 4 2 7]\n",
      " [1 0 4 2]]\n"
     ]
    },
    {
     "data": {
      "text/plain": [
       "OneHotEncoder(categorical_features=None, categories=None,\n",
       "       dtype=<class 'numpy.float64'>, handle_unknown='ignore',\n",
       "       n_values=None, sparse=True)"
      ]
     },
     "execution_count": 1,
     "metadata": {},
     "output_type": "execute_result"
    }
   ],
   "source": [
    "import numpy as np\n",
    "from sklearn.preprocessing import OneHotEncoder\n",
    "encoder=OneHotEncoder(handle_unknown='ignore')\n",
    "X = np.array([[0,1,6,2], [1,5,3,5], [2,4,2,7], [1,0,4,2]])\n",
    "print(X)\n",
    "encoder.fit(X)"
   ]
  },
  {
   "cell_type": "code",
   "execution_count": 2,
   "metadata": {},
   "outputs": [
    {
     "name": "stdout",
     "output_type": "stream",
     "text": [
      "encodedX: [[0. 0. 1. 0. 1. 0. 0. 1. 0. 0. 0. 0. 0. 1.]]\n",
      "encodedX.shape: (1, 14)\n"
     ]
    }
   ],
   "source": [
    "# indiciesは２次元行列なら何でもよい\n",
    "indicies = [[2,1,2,7]]\n",
    "encodedX = encoder.transform(indicies).toarray()\n",
    "print('encodedX: {}'.format(encodedX))\n",
    "print('encodedX.shape: {}'.format(encodedX.shape))"
   ]
  },
  {
   "cell_type": "markdown",
   "metadata": {},
   "source": [
    "### ここでencodedXが良く分からないし、encodedX.shapeはなぜか(1,14)になる\n",
    "## what?\n",
    "### 以下、その説明"
   ]
  },
  {
   "cell_type": "code",
   "execution_count": 3,
   "metadata": {},
   "outputs": [
    {
     "name": "stdout",
     "output_type": "stream",
     "text": [
      "配列 X\n",
      "[[0 1 6 2]\n",
      " [1 5 3 5]\n",
      " [2 4 2 7]\n",
      " [1 0 4 2]]\n",
      "\n",
      "encoderのfeature_names\n",
      "Xの1列目_0\n",
      "Xの1列目_1\n",
      "Xの1列目_2\n",
      "Xの2列目_0\n",
      "Xの2列目_1\n",
      "Xの2列目_4\n",
      "Xの2列目_5\n",
      "Xの3列目_2\n",
      "Xの3列目_3\n",
      "Xの3列目_4\n",
      "Xの3列目_6\n",
      "Xの4列目_2\n",
      "Xの4列目_5\n",
      "Xの4列目_7\n"
     ]
    }
   ],
   "source": [
    "print('配列 X')\n",
    "print(X)\n",
    "print('')\n",
    "print('encoderのfeature_names')\n",
    "encoder_features = encoder.get_feature_names(input_features=['Xの1列目','Xの2列目','Xの3列目','Xの4列目'])\n",
    "for t in encoder_features:\n",
    "    print(t)"
   ]
  },
  {
   "cell_type": "markdown",
   "metadata": {},
   "source": [
    "### OneHotEncoder(encoder)は配列Xのn列目を、重複していたら要素を削除し、残りをfeatureとするので、feature_namesは16要素(4×4配列の要素)ではなく14要素(列の重複している要素は削除)になった。具体的には、Xの1列目[0,1,2,1]は1が重複しているので[0,1,2]に、2列目は重複していないので[1,5,4,0]、3列目も[6,3,2,4]、4列目は重複分を消して[2,5,7]となる。"
   ]
  },
  {
   "cell_type": "markdown",
   "metadata": {},
   "source": [
    "### 上で、encodeされた後の要素数(featureの数)について分かったので、XをOneHotEncodeする"
   ]
  },
  {
   "cell_type": "code",
   "execution_count": 4,
   "metadata": {},
   "outputs": [
    {
     "name": "stdout",
     "output_type": "stream",
     "text": [
      "onehotベクトルで1にしたい値をindiciesに記入する\n",
      "Xの1列目_0 --onehot--> 1\n",
      "Xの1列目_1 --onehot--> 0\n",
      "Xの1列目_2 --onehot--> 0\n",
      "Xの2列目_0 --onehot--> 0\n",
      "Xの2列目_1 --onehot--> 0\n",
      "Xの2列目_4 --onehot--> 0\n",
      "Xの2列目_5 --onehot--> 0\n",
      "Xの3列目_2 --onehot--> 0\n",
      "Xの3列目_3 --onehot--> 1\n",
      "Xの3列目_4 --onehot--> 0\n",
      "Xの3列目_6 --onehot--> 0\n",
      "Xの4列目_2 --onehot--> 0\n",
      "Xの4列目_5 --onehot--> 0\n",
      "Xの4列目_7 --onehot--> 0\n"
     ]
    }
   ],
   "source": [
    "# indiciesは２次元行列なら何でもよい\n",
    "# ※featureにない数値を入れるとOneHotEncoderの引数handle_unknownがignoreであれば全て0, ignoreでなければエラーがでる\n",
    "indicies = [[0,6,3,4]]\n",
    "print('onehotベクトルで1にしたい値をindiciesに記入する')\n",
    "encodedX = encoder.transform(indicies).toarray()\n",
    "for i, encoder_transform in enumerate(encodedX[0]):\n",
    "    print(encoder_features[i],'--onehot-->', int(encoder_transform))"
   ]
  },
  {
   "cell_type": "markdown",
   "metadata": {},
   "source": [
    "### indiciesを変えるとonehotの結果も変わることが分かる!!!"
   ]
  },
  {
   "cell_type": "markdown",
   "metadata": {},
   "source": [
    "## OneHotEncoderの他の例"
   ]
  },
  {
   "cell_type": "code",
   "execution_count": 5,
   "metadata": {},
   "outputs": [
    {
     "data": {
      "text/plain": [
       "OneHotEncoder(categorical_features=None, categories=None,\n",
       "       dtype=<class 'numpy.float64'>, handle_unknown='ignore',\n",
       "       n_values=None, sparse=True)"
      ]
     },
     "execution_count": 5,
     "metadata": {},
     "output_type": "execute_result"
    }
   ],
   "source": [
    "enc = OneHotEncoder(handle_unknown='ignore')\n",
    "MF = [['Male', 1], ['Female', 3], ['Female', 2]]\n",
    "enc.fit(MF)"
   ]
  },
  {
   "cell_type": "code",
   "execution_count": 6,
   "metadata": {},
   "outputs": [
    {
     "name": "stdout",
     "output_type": "stream",
     "text": [
      "['Female' 'Male']\n",
      "[1 2 3]\n"
     ]
    }
   ],
   "source": [
    "for i in enc.categories_:\n",
    "    print(i)"
   ]
  },
  {
   "cell_type": "code",
   "execution_count": 7,
   "metadata": {},
   "outputs": [
    {
     "name": "stdout",
     "output_type": "stream",
     "text": [
      "x0_Female\n",
      "x0_Male\n",
      "x1_1\n",
      "x1_2\n",
      "x1_3\n"
     ]
    }
   ],
   "source": [
    "for i in enc.get_feature_names():\n",
    "    print(i)"
   ]
  }
 ],
 "metadata": {
  "kernelspec": {
   "display_name": "Python 3",
   "language": "python",
   "name": "python3"
  },
  "language_info": {
   "codemirror_mode": {
    "name": "ipython",
    "version": 3
   },
   "file_extension": ".py",
   "mimetype": "text/x-python",
   "name": "python",
   "nbconvert_exporter": "python",
   "pygments_lexer": "ipython3",
   "version": "3.7.1"
  }
 },
 "nbformat": 4,
 "nbformat_minor": 2
}
