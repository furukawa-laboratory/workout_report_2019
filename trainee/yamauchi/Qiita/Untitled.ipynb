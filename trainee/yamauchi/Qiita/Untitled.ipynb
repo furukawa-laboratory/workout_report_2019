{
 "cells": [
  {
   "cell_type": "markdown",
   "metadata": {},
   "source": [
    "# SVMのスクラッチ実装"
   ]
  },
  {
   "cell_type": "markdown",
   "metadata": {},
   "source": [
    "2クラスのパターン識別器をSVMによって構成する"
   ]
  },
  {
   "cell_type": "code",
   "execution_count": 10,
   "metadata": {},
   "outputs": [],
   "source": [
    "import numpy as np\n",
    "import matplotlib.pyplot as plt\n",
    "from sklearn.datasets import make_regression\n",
    "%matplotlib inline"
   ]
  },
  {
   "cell_type": "markdown",
   "metadata": {},
   "source": [
    "## データ作成"
   ]
  },
  {
   "cell_type": "code",
   "execution_count": 80,
   "metadata": {},
   "outputs": [],
   "source": [
    "x1 = np.random.randn(15)\n",
    "y1 = np.random.randn(15)\n",
    "x2 = np.random.randn(15)+3\n",
    "y2 = np.random.randn(15)+5"
   ]
  },
  {
   "cell_type": "markdown",
   "metadata": {},
   "source": [
    "### SVMをプロットする関数"
   ]
  },
  {
   "cell_type": "code",
   "execution_count": 105,
   "metadata": {},
   "outputs": [],
   "source": [
    "def plot_svm(x,y):\n",
    "    plt.plot(x1,y1,\"bo\")\n",
    "    plt.plot(x2,y2,\"ro\")\n",
    "    plt.plot(x,y,\"b-\")\n",
    "    plt.show()\n",
    "    return 0"
   ]
  },
  {
   "cell_type": "markdown",
   "metadata": {},
   "source": [
    "### 直線を返す関数"
   ]
  },
  {
   "cell_type": "code",
   "execution_count": 106,
   "metadata": {},
   "outputs": [],
   "source": [
    "def linear(a,b):\n",
    "    x = np.linspace(-2,5,8)\n",
    "    y = a*x + b\n",
    "    return (x,y)"
   ]
  },
  {
   "cell_type": "code",
   "execution_count": 107,
   "metadata": {},
   "outputs": [
    {
     "data": {
      "image/png": "[encoded data removed]",
      "text/plain": [
       "<Figure size 432x288 with 1 Axes>"
      ]
     },
     "metadata": {
      "needs_background": "light"
     },
     "output_type": "display_data"
    },
    {
     "data": {
      "text/plain": [
       "0"
      ]
     },
     "execution_count": 107,
     "metadata": {},
     "output_type": "execute_result"
    }
   ],
   "source": [
    "x,y = linear(-1,4)\n",
    "plot_svm(x,y)"
   ]
  },
  {
   "cell_type": "markdown",
   "metadata": {},
   "source": [
    "### 直線と点の距離を計算する関数"
   ]
  },
  {
   "cell_type": "code",
   "execution_count": 108,
   "metadata": {},
   "outputs": [],
   "source": [
    "def calc_d():\n",
    "    x,y = linear(-1,4)\n",
    "    d = []\n",
    "    for i in range(15):\n",
    "        u = np.array([x[0]-x[7],y[0]-y[7]])\n",
    "        v = np.array([x2[i]-x[7],y2[i]-y[7]])\n",
    "        L = abs(np.cross(u,v) / np.linalg.norm(u))\n",
    "        d.append(L)\n",
    "    return d"
   ]
  },
  {
   "cell_type": "code",
   "execution_count": 109,
   "metadata": {},
   "outputs": [
    {
     "data": {
      "text/plain": [
       "[2.460426690610926,\n",
       " 2.949186232415881,\n",
       " 3.4774242688608634,\n",
       " 3.7622950732039926,\n",
       " 3.283026012522786,\n",
       " 1.4476007022818818,\n",
       " 1.0563320103876541,\n",
       " 2.0759175317156773,\n",
       " 3.7349143794795836,\n",
       " 1.7534585280584476,\n",
       " 1.8092313534852578,\n",
       " 0.8032502862171327,\n",
       " 4.533917397018001,\n",
       " 2.654021206993721,\n",
       " 2.405384080155727]"
      ]
     },
     "execution_count": 109,
     "metadata": {},
     "output_type": "execute_result"
    }
   ],
   "source": [
    "calc_d()"
   ]
  },
  {
   "cell_type": "code",
   "execution_count": null,
   "metadata": {},
   "outputs": [],
   "source": []
  }
 ],
 "metadata": {
  "kernelspec": {
   "display_name": "Python 3",
   "language": "python",
   "name": "python3"
  },
  "language_info": {
   "codemirror_mode": {
    "name": "ipython",
    "version": 3
   },
   "file_extension": ".py",
   "mimetype": "text/x-python",
   "name": "python",
   "nbconvert_exporter": "python",
   "pygments_lexer": "ipython3",
   "version": "3.7.3"
  }
 },
 "nbformat": 4,
 "nbformat_minor": 2
}
