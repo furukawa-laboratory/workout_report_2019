{
 "cells": [
  {
   "cell_type": "markdown",
   "metadata": {},
   "source": [
    "# Autoencoderを構築する"
   ]
  },
  {
   "cell_type": "markdown",
   "metadata": {},
   "source": [
    "Autoencoderとは、機械学習において、ニューラルネットワークを使用した次元圧縮のためのアルゴリズム。線形の次元圧縮としては主成分分析があるが、オートエンコーダはニューラルネットワークを使用するために非線形である。[[wiki引用]](https://ja.wikipedia.org/wiki/%E3%82%AA%E3%83%BC%E3%83%88%E3%82%A8%E3%83%B3%E3%82%B3%E3%83%BC%E3%83%80)"
   ]
  },
  {
   "cell_type": "markdown",
   "metadata": {},
   "source": [
    "[Kerasで学ぶAutoencoder](https://elix-tech.github.io/ja/2016/07/17/autoencoder.html)を読みながらAutoencoderを構築する。"
   ]
  },
  {
   "cell_type": "markdown",
   "metadata": {},
   "source": [
    "## Undercomplete Autoencoder\n",
    "\n",
    "Undercomplete Autoencoderとは、コードの次元が入力の次元よりも小さくなるようなAutoencoderのことを指す。ここでコードとはエンコードされたデータのことである。"
   ]
  },
  {
   "cell_type": "code",
   "execution_count": 1,
   "metadata": {},
   "outputs": [
    {
     "name": "stderr",
     "output_type": "stream",
     "text": [
      "Using TensorFlow backend.\n"
     ]
    }
   ],
   "source": [
    "from keras.layers import Input, Dense\n",
    "from keras.models import Model\n",
    "from keras.datasets import mnist\n",
    "import numpy as np"
   ]
  },
  {
   "cell_type": "code",
   "execution_count": 2,
   "metadata": {},
   "outputs": [
    {
     "name": "stdout",
     "output_type": "stream",
     "text": [
      "WARNING:tensorflow:From C:\\Anaconda3\\lib\\site-packages\\tensorflow\\python\\framework\\op_def_library.py:263: colocate_with (from tensorflow.python.framework.ops) is deprecated and will be removed in a future version.\n",
      "Instructions for updating:\n",
      "Colocations handled automatically by placer.\n"
     ]
    },
    {
     "name": "stderr",
     "output_type": "stream",
     "text": [
      "C:\\Anaconda3\\lib\\site-packages\\ipykernel_launcher.py:5: UserWarning: Update your `Model` call to the Keras 2 API: `Model(inputs=Tensor(\"in..., outputs=Tensor(\"de...)`\n",
      "  \"\"\"\n"
     ]
    }
   ],
   "source": [
    "encoding_dim = 32\n",
    "input_img = Input(shape=(784,))\n",
    "encoded = Dense(encoding_dim, activation='relu')(input_img)\n",
    "decoded = Dense(784, activation='sigmoid')(encoded)\n",
    "autoencoder = Model(input=input_img, output=decoded)\n",
    "\n",
    "autoencoder.compile(optimizer='adadelta', loss='binary_crossentropy')"
   ]
  },
  {
   "cell_type": "code",
   "execution_count": 3,
   "metadata": {},
   "outputs": [],
   "source": [
    "(x_train, _), (x_test, _) = mnist.load_data()\n",
    "x_train = x_train.astype('float32') / 255.\n",
    "x_test  = x_test.astype('float32') / 255.\n",
    "x_train = x_train.reshape((len(x_train), np.prod(x_train.shape[1:])))\n",
    "x_test  = x_test.reshape((len(x_test), np.prod(x_test.shape[1:])))"
   ]
  },
  {
   "cell_type": "code",
   "execution_count": 4,
   "metadata": {},
   "outputs": [
    {
     "name": "stdout",
     "output_type": "stream",
     "text": [
      "WARNING:tensorflow:From C:\\Anaconda3\\lib\\site-packages\\tensorflow\\python\\ops\\math_ops.py:3066: to_int32 (from tensorflow.python.ops.math_ops) is deprecated and will be removed in a future version.\n",
      "Instructions for updating:\n",
      "Use tf.cast instead.\n"
     ]
    },
    {
     "name": "stderr",
     "output_type": "stream",
     "text": [
      "C:\\Anaconda3\\lib\\site-packages\\ipykernel_launcher.py:1: UserWarning: The `nb_epoch` argument in `fit` has been renamed `epochs`.\n",
      "  \"\"\"Entry point for launching an IPython kernel.\n"
     ]
    },
    {
     "name": "stdout",
     "output_type": "stream",
     "text": [
      "Train on 60000 samples, validate on 10000 samples\n",
      "Epoch 1/50\n",
      "60000/60000 [==============================] - 3s 43us/step - loss: 0.3616 - val_loss: 0.2709\n",
      "Epoch 2/50\n",
      "60000/60000 [==============================] - 2s 31us/step - loss: 0.2634 - val_loss: 0.2521\n",
      "Epoch 3/50\n",
      "60000/60000 [==============================] - 2s 31us/step - loss: 0.2422 - val_loss: 0.2301\n",
      "Epoch 4/50\n",
      "60000/60000 [==============================] - 2s 33us/step - loss: 0.2229 - val_loss: 0.2129\n",
      "Epoch 5/50\n",
      "60000/60000 [==============================] - 2s 37us/step - loss: 0.2078 - val_loss: 0.2000\n",
      "Epoch 6/50\n",
      "60000/60000 [==============================] - 2s 33us/step - loss: 0.1964 - val_loss: 0.1902\n",
      "Epoch 7/50\n",
      "60000/60000 [==============================] - 2s 32us/step - loss: 0.1876 - val_loss: 0.1824\n",
      "Epoch 8/50\n",
      "60000/60000 [==============================] - 2s 32us/step - loss: 0.1806 - val_loss: 0.1760\n",
      "Epoch 9/50\n",
      "60000/60000 [==============================] - 2s 31us/step - loss: 0.1745 - val_loss: 0.1703\n",
      "Epoch 10/50\n",
      "60000/60000 [==============================] - 2s 34us/step - loss: 0.1691 - val_loss: 0.1654\n",
      "Epoch 11/50\n",
      "60000/60000 [==============================] - 2s 36us/step - loss: 0.1642 - val_loss: 0.1606\n",
      "Epoch 12/50\n",
      "60000/60000 [==============================] - 2s 34us/step - loss: 0.1598 - val_loss: 0.1564\n",
      "Epoch 13/50\n",
      "60000/60000 [==============================] - 2s 32us/step - loss: 0.1557 - val_loss: 0.1524\n",
      "Epoch 14/50\n",
      "60000/60000 [==============================] - 2s 36us/step - loss: 0.1520 - val_loss: 0.1490\n",
      "Epoch 15/50\n",
      "60000/60000 [==============================] - 2s 36us/step - loss: 0.1487 - val_loss: 0.1459\n",
      "Epoch 16/50\n",
      "60000/60000 [==============================] - 2s 32us/step - loss: 0.1457 - val_loss: 0.1428\n",
      "Epoch 17/50\n",
      "60000/60000 [==============================] - 2s 32us/step - loss: 0.1428 - val_loss: 0.1401\n",
      "Epoch 18/50\n",
      "60000/60000 [==============================] - 2s 37us/step - loss: 0.1402 - val_loss: 0.1376\n",
      "Epoch 19/50\n",
      "60000/60000 [==============================] - 2s 35us/step - loss: 0.1378 - val_loss: 0.1352\n",
      "Epoch 20/50\n",
      "60000/60000 [==============================] - 2s 35us/step - loss: 0.1354 - val_loss: 0.1329\n",
      "Epoch 21/50\n",
      "60000/60000 [==============================] - 2s 39us/step - loss: 0.1332 - val_loss: 0.1308\n",
      "Epoch 22/50\n",
      "60000/60000 [==============================] - 2s 33us/step - loss: 0.1311 - val_loss: 0.1287\n",
      "Epoch 23/50\n",
      "60000/60000 [==============================] - 2s 34us/step - loss: 0.1291 - val_loss: 0.1267\n",
      "Epoch 24/50\n",
      "60000/60000 [==============================] - 2s 34us/step - loss: 0.1271 - val_loss: 0.1247\n",
      "Epoch 25/50\n",
      "60000/60000 [==============================] - 2s 34us/step - loss: 0.1253 - val_loss: 0.1229\n",
      "Epoch 26/50\n",
      "60000/60000 [==============================] - 2s 32us/step - loss: 0.1235 - val_loss: 0.1212\n",
      "Epoch 27/50\n",
      "60000/60000 [==============================] - 2s 31us/step - loss: 0.1218 - val_loss: 0.1195\n",
      "Epoch 28/50\n",
      "60000/60000 [==============================] - 2s 31us/step - loss: 0.1202 - val_loss: 0.1179\n",
      "Epoch 29/50\n",
      "60000/60000 [==============================] - 2s 32us/step - loss: 0.1187 - val_loss: 0.1164\n",
      "Epoch 30/50\n",
      "60000/60000 [==============================] - 2s 32us/step - loss: 0.1173 - val_loss: 0.1151\n",
      "Epoch 31/50\n",
      "60000/60000 [==============================] - 2s 31us/step - loss: 0.1160 - val_loss: 0.1138\n",
      "Epoch 32/50\n",
      "60000/60000 [==============================] - 2s 31us/step - loss: 0.1147 - val_loss: 0.1126\n",
      "Epoch 33/50\n",
      "60000/60000 [==============================] - 2s 31us/step - loss: 0.1136 - val_loss: 0.1115\n",
      "Epoch 34/50\n",
      "60000/60000 [==============================] - 2s 30us/step - loss: 0.1125 - val_loss: 0.1104\n",
      "Epoch 35/50\n",
      "60000/60000 [==============================] - 2s 30us/step - loss: 0.1116 - val_loss: 0.1095\n",
      "Epoch 36/50\n",
      "60000/60000 [==============================] - 2s 31us/step - loss: 0.1107 - val_loss: 0.1086\n",
      "Epoch 37/50\n",
      "60000/60000 [==============================] - 2s 30us/step - loss: 0.1098 - val_loss: 0.1078\n",
      "Epoch 38/50\n",
      "60000/60000 [==============================] - 2s 31us/step - loss: 0.1091 - val_loss: 0.1071\n",
      "Epoch 39/50\n",
      "60000/60000 [==============================] - 2s 30us/step - loss: 0.1084 - val_loss: 0.1064\n",
      "Epoch 40/50\n",
      "60000/60000 [==============================] - 2s 30us/step - loss: 0.1077 - val_loss: 0.1057\n",
      "Epoch 41/50\n",
      "60000/60000 [==============================] - 2s 30us/step - loss: 0.1071 - val_loss: 0.1051\n",
      "Epoch 42/50\n",
      "60000/60000 [==============================] - 2s 30us/step - loss: 0.1065 - val_loss: 0.1046\n",
      "Epoch 43/50\n",
      "60000/60000 [==============================] - 2s 31us/step - loss: 0.1060 - val_loss: 0.1041\n",
      "Epoch 44/50\n",
      "60000/60000 [==============================] - 2s 29us/step - loss: 0.1055 - val_loss: 0.1036\n",
      "Epoch 45/50\n",
      "60000/60000 [==============================] - 2s 30us/step - loss: 0.1050 - val_loss: 0.1032\n",
      "Epoch 46/50\n",
      "60000/60000 [==============================] - 2s 29us/step - loss: 0.1046 - val_loss: 0.1027\n",
      "Epoch 47/50\n",
      "60000/60000 [==============================] - 2s 29us/step - loss: 0.1042 - val_loss: 0.1023\n",
      "Epoch 48/50\n",
      "60000/60000 [==============================] - 2s 30us/step - loss: 0.1038 - val_loss: 0.1020\n",
      "Epoch 49/50\n",
      "60000/60000 [==============================] - 2s 33us/step - loss: 0.1034 - val_loss: 0.1016\n",
      "Epoch 50/50\n",
      "60000/60000 [==============================] - 2s 29us/step - loss: 0.1031 - val_loss: 0.1012\n"
     ]
    },
    {
     "data": {
      "text/plain": [
       "<keras.callbacks.History at 0x1f74d5e7668>"
      ]
     },
     "execution_count": 4,
     "metadata": {},
     "output_type": "execute_result"
    }
   ],
   "source": [
    "autoencoder.fit(x_train, x_train, nb_epoch=50, batch_size=256, shuffle=True, validation_data=(x_test, x_test))"
   ]
  },
  {
   "cell_type": "markdown",
   "metadata": {},
   "source": [
    "学習した重みを保存したり、読み込みたい場合は以下のようにする。"
   ]
  },
  {
   "cell_type": "code",
   "execution_count": 5,
   "metadata": {},
   "outputs": [],
   "source": [
    "autoencoder.save_weights('autoencoder.h5')\n",
    "autoencoder.load_weights('autoencoder.h5')"
   ]
  },
  {
   "cell_type": "code",
   "execution_count": 6,
   "metadata": {},
   "outputs": [],
   "source": [
    "%matplotlib inline"
   ]
  },
  {
   "cell_type": "code",
   "execution_count": 7,
   "metadata": {},
   "outputs": [
    {
     "data": {
      "image/png": "[encoded data removed]",
      "text/plain": [
       "<Figure size 1440x288 with 30 Axes>"
      ]
     },
     "metadata": {
      "needs_background": "light"
     },
     "output_type": "display_data"
    }
   ],
   "source": [
    "import matplotlib.pyplot as plt\n",
    "\n",
    "decoded_imgs = autoencoder.predict(x_test)\n",
    "\n",
    "n = 15\n",
    "plt.figure(figsize=(20, 4))\n",
    "\n",
    "for i in range(n):\n",
    "    ax = plt.subplot(2, n, i+1)\n",
    "    plt.imshow(x_test[i].reshape(28, 28))\n",
    "    plt.gray()\n",
    "    ax.get_xaxis().set_visible(False)\n",
    "    ax.get_yaxis().set_visible(False)\n",
    "    \n",
    "    ax = plt.subplot(2, n, i+1+n)\n",
    "    plt.imshow(decoded_imgs[i].reshape(28, 28))\n",
    "    plt.gray()\n",
    "    ax.get_xaxis().set_visible(False)\n",
    "    ax.get_yaxis().set_visible(False)\n",
    "plt.show()"
   ]
  },
  {
   "cell_type": "markdown",
   "metadata": {},
   "source": [
    "## Sparse Autoencoder"
   ]
  },
  {
   "cell_type": "code",
   "execution_count": 8,
   "metadata": {},
   "outputs": [],
   "source": [
    "from keras import regularizers"
   ]
  },
  {
   "cell_type": "code",
   "execution_count": 9,
   "metadata": {},
   "outputs": [
    {
     "name": "stderr",
     "output_type": "stream",
     "text": [
      "C:\\Anaconda3\\lib\\site-packages\\ipykernel_launcher.py:6: UserWarning: Update your `Model` call to the Keras 2 API: `Model(inputs=Tensor(\"in..., outputs=Tensor(\"de...)`\n",
      "  \n",
      "C:\\Anaconda3\\lib\\site-packages\\ipykernel_launcher.py:9: UserWarning: The `nb_epoch` argument in `fit` has been renamed `epochs`.\n",
      "  if __name__ == '__main__':\n"
     ]
    },
    {
     "name": "stdout",
     "output_type": "stream",
     "text": [
      "Train on 60000 samples, validate on 10000 samples\n",
      "Epoch 1/100\n",
      "60000/60000 [==============================] - 2s 40us/step - loss: 0.6545 - val_loss: 0.6155\n",
      "Epoch 2/100\n",
      "60000/60000 [==============================] - 2s 39us/step - loss: 0.5832 - val_loss: 0.5535\n",
      "Epoch 3/100\n",
      "60000/60000 [==============================] - 2s 35us/step - loss: 0.5274 - val_loss: 0.5037\n",
      "Epoch 4/100\n",
      "60000/60000 [==============================] - 2s 37us/step - loss: 0.4827 - val_loss: 0.4637\n",
      "Epoch 5/100\n",
      "60000/60000 [==============================] - 2s 34us/step - loss: 0.4466 - val_loss: 0.4313\n",
      "Epoch 6/100\n",
      "60000/60000 [==============================] - 2s 34us/step - loss: 0.4173 - val_loss: 0.4050\n",
      "Epoch 7/100\n",
      "60000/60000 [==============================] - 2s 33us/step - loss: 0.3935 - val_loss: 0.3834\n",
      "Epoch 8/100\n",
      "60000/60000 [==============================] - 2s 33us/step - loss: 0.3739 - val_loss: 0.3656\n",
      "Epoch 9/100\n",
      "60000/60000 [==============================] - 2s 36us/step - loss: 0.3577 - val_loss: 0.3508\n",
      "Epoch 10/100\n",
      "60000/60000 [==============================] - 2s 34us/step - loss: 0.3442 - val_loss: 0.3385\n",
      "Epoch 11/100\n",
      "60000/60000 [==============================] - 2s 34us/step - loss: 0.3329 - val_loss: 0.3281\n",
      "Epoch 12/100\n",
      "60000/60000 [==============================] - 2s 37us/step - loss: 0.3234 - val_loss: 0.3194\n",
      "Epoch 13/100\n",
      "60000/60000 [==============================] - 2s 34us/step - loss: 0.3154 - val_loss: 0.3120\n",
      "Epoch 14/100\n",
      "60000/60000 [==============================] - 2s 32us/step - loss: 0.3086 - val_loss: 0.3056\n",
      "Epoch 15/100\n",
      "60000/60000 [==============================] - 2s 34us/step - loss: 0.3027 - val_loss: 0.3002\n",
      "Epoch 16/100\n",
      "60000/60000 [==============================] - 2s 35us/step - loss: 0.2977 - val_loss: 0.2955\n",
      "Epoch 17/100\n",
      "60000/60000 [==============================] - 2s 34us/step - loss: 0.2934 - val_loss: 0.2915\n",
      "Epoch 18/100\n",
      "60000/60000 [==============================] - 2s 32us/step - loss: 0.2897 - val_loss: 0.2880\n",
      "Epoch 19/100\n",
      "60000/60000 [==============================] - 2s 31us/step - loss: 0.2865 - val_loss: 0.2850\n",
      "Epoch 20/100\n",
      "60000/60000 [==============================] - 2s 31us/step - loss: 0.2836 - val_loss: 0.2823\n",
      "Epoch 21/100\n",
      "60000/60000 [==============================] - 2s 32us/step - loss: 0.2812 - val_loss: 0.2800\n",
      "Epoch 22/100\n",
      "60000/60000 [==============================] - 2s 34us/step - loss: 0.2790 - val_loss: 0.2780\n",
      "Epoch 23/100\n",
      "60000/60000 [==============================] - 2s 33us/step - loss: 0.2772 - val_loss: 0.2762\n",
      "Epoch 24/100\n",
      "60000/60000 [==============================] - 2s 34us/step - loss: 0.2755 - val_loss: 0.2746\n",
      "Epoch 25/100\n",
      "60000/60000 [==============================] - 2s 33us/step - loss: 0.2741 - val_loss: 0.2733\n",
      "Epoch 26/100\n",
      "60000/60000 [==============================] - 2s 34us/step - loss: 0.2728 - val_loss: 0.2721\n",
      "Epoch 27/100\n",
      "60000/60000 [==============================] - 2s 35us/step - loss: 0.2717 - val_loss: 0.2710\n",
      "Epoch 28/100\n",
      "60000/60000 [==============================] - 2s 33us/step - loss: 0.2707 - val_loss: 0.2700\n",
      "Epoch 29/100\n",
      "60000/60000 [==============================] - 2s 32us/step - loss: 0.2698 - val_loss: 0.2692\n",
      "Epoch 30/100\n",
      "60000/60000 [==============================] - 2s 41us/step - loss: 0.2690 - val_loss: 0.2685\n",
      "Epoch 31/100\n",
      "60000/60000 [==============================] - 2s 39us/step - loss: 0.2683 - val_loss: 0.2678\n",
      "Epoch 32/100\n",
      "60000/60000 [==============================] - 2s 34us/step - loss: 0.2677 - val_loss: 0.2672\n",
      "Epoch 33/100\n",
      "60000/60000 [==============================] - 2s 33us/step - loss: 0.2672 - val_loss: 0.2667\n",
      "Epoch 34/100\n",
      "60000/60000 [==============================] - 2s 35us/step - loss: 0.2667 - val_loss: 0.2663\n",
      "Epoch 35/100\n",
      "60000/60000 [==============================] - 2s 34us/step - loss: 0.2663 - val_loss: 0.2658\n",
      "Epoch 36/100\n",
      "60000/60000 [==============================] - 2s 34us/step - loss: 0.2659 - val_loss: 0.2655\n",
      "Epoch 37/100\n",
      "60000/60000 [==============================] - 2s 32us/step - loss: 0.2656 - val_loss: 0.2652\n",
      "Epoch 38/100\n",
      "60000/60000 [==============================] - 2s 32us/step - loss: 0.2653 - val_loss: 0.2649\n",
      "Epoch 39/100\n",
      "60000/60000 [==============================] - 2s 35us/step - loss: 0.2650 - val_loss: 0.2646\n",
      "Epoch 40/100\n",
      "60000/60000 [==============================] - 2s 35us/step - loss: 0.2648 - val_loss: 0.2644\n",
      "Epoch 41/100\n",
      "60000/60000 [==============================] - 2s 33us/step - loss: 0.2645 - val_loss: 0.2642\n",
      "Epoch 42/100\n",
      "60000/60000 [==============================] - 2s 33us/step - loss: 0.2644 - val_loss: 0.2640\n",
      "Epoch 43/100\n",
      "60000/60000 [==============================] - 2s 33us/step - loss: 0.2642 - val_loss: 0.2638\n",
      "Epoch 44/100\n",
      "60000/60000 [==============================] - 2s 33us/step - loss: 0.2640 - val_loss: 0.2637\n",
      "Epoch 45/100\n",
      "60000/60000 [==============================] - 2s 36us/step - loss: 0.2639 - val_loss: 0.2636\n",
      "Epoch 46/100\n",
      "60000/60000 [==============================] - 2s 36us/step - loss: 0.2638 - val_loss: 0.2635\n",
      "Epoch 47/100\n",
      "60000/60000 [==============================] - 2s 34us/step - loss: 0.2637 - val_loss: 0.2634\n",
      "Epoch 48/100\n",
      "60000/60000 [==============================] - 2s 34us/step - loss: 0.2636 - val_loss: 0.2633\n",
      "Epoch 49/100\n",
      "60000/60000 [==============================] - 2s 33us/step - loss: 0.2635 - val_loss: 0.2632\n",
      "Epoch 50/100\n",
      "60000/60000 [==============================] - 2s 33us/step - loss: 0.2634 - val_loss: 0.2631\n",
      "Epoch 51/100\n",
      "60000/60000 [==============================] - 2s 33us/step - loss: 0.2634 - val_loss: 0.2630\n",
      "Epoch 52/100\n",
      "60000/60000 [==============================] - 2s 32us/step - loss: 0.2633 - val_loss: 0.2630\n",
      "Epoch 53/100\n",
      "60000/60000 [==============================] - 2s 36us/step - loss: 0.2632 - val_loss: 0.2629\n",
      "Epoch 54/100\n",
      "60000/60000 [==============================] - 2s 37us/step - loss: 0.2632 - val_loss: 0.2629\n",
      "Epoch 55/100\n",
      "60000/60000 [==============================] - 2s 35us/step - loss: 0.2631 - val_loss: 0.2628\n",
      "Epoch 56/100\n",
      "60000/60000 [==============================] - 2s 35us/step - loss: 0.2631 - val_loss: 0.2628\n",
      "Epoch 57/100\n",
      "60000/60000 [==============================] - 2s 37us/step - loss: 0.2631 - val_loss: 0.2628\n",
      "Epoch 58/100\n",
      "60000/60000 [==============================] - 2s 33us/step - loss: 0.2630 - val_loss: 0.2628\n",
      "Epoch 59/100\n",
      "60000/60000 [==============================] - 2s 35us/step - loss: 0.2630 - val_loss: 0.2627\n",
      "Epoch 60/100\n",
      "60000/60000 [==============================] - 2s 38us/step - loss: 0.2630 - val_loss: 0.2627\n",
      "Epoch 61/100\n",
      "60000/60000 [==============================] - 2s 39us/step - loss: 0.2630 - val_loss: 0.2627\n",
      "Epoch 62/100\n",
      "60000/60000 [==============================] - 2s 32us/step - loss: 0.2630 - val_loss: 0.2627\n",
      "Epoch 63/100\n",
      "60000/60000 [==============================] - 2s 33us/step - loss: 0.2629 - val_loss: 0.2626\n",
      "Epoch 64/100\n",
      "60000/60000 [==============================] - 2s 34us/step - loss: 0.2629 - val_loss: 0.2626\n",
      "Epoch 65/100\n",
      "60000/60000 [==============================] - 2s 36us/step - loss: 0.2629 - val_loss: 0.2626\n",
      "Epoch 66/100\n",
      "60000/60000 [==============================] - 2s 34us/step - loss: 0.2629 - val_loss: 0.2626\n",
      "Epoch 67/100\n",
      "60000/60000 [==============================] - 2s 36us/step - loss: 0.2629 - val_loss: 0.2626\n",
      "Epoch 68/100\n",
      "60000/60000 [==============================] - 2s 34us/step - loss: 0.2629 - val_loss: 0.2626\n",
      "Epoch 69/100\n",
      "60000/60000 [==============================] - 2s 35us/step - loss: 0.2629 - val_loss: 0.2626\n",
      "Epoch 70/100\n",
      "60000/60000 [==============================] - 2s 34us/step - loss: 0.2629 - val_loss: 0.2626\n",
      "Epoch 71/100\n",
      "60000/60000 [==============================] - 2s 35us/step - loss: 0.2629 - val_loss: 0.2626\n",
      "Epoch 72/100\n",
      "60000/60000 [==============================] - 2s 34us/step - loss: 0.2628 - val_loss: 0.2626\n",
      "Epoch 73/100\n",
      "60000/60000 [==============================] - 2s 34us/step - loss: 0.2628 - val_loss: 0.2626\n",
      "Epoch 74/100\n",
      "60000/60000 [==============================] - 2s 33us/step - loss: 0.2628 - val_loss: 0.2626\n",
      "Epoch 75/100\n",
      "60000/60000 [==============================] - 2s 33us/step - loss: 0.2628 - val_loss: 0.2625\n",
      "Epoch 76/100\n",
      "60000/60000 [==============================] - 2s 33us/step - loss: 0.2628 - val_loss: 0.2625\n",
      "Epoch 77/100\n",
      "60000/60000 [==============================] - 2s 33us/step - loss: 0.2628 - val_loss: 0.2625\n",
      "Epoch 78/100\n",
      "60000/60000 [==============================] - 2s 32us/step - loss: 0.2628 - val_loss: 0.2625\n",
      "Epoch 79/100\n",
      "60000/60000 [==============================] - 2s 32us/step - loss: 0.2628 - val_loss: 0.2625\n",
      "Epoch 80/100\n",
      "60000/60000 [==============================] - 2s 35us/step - loss: 0.2628 - val_loss: 0.2625\n",
      "Epoch 81/100\n",
      "60000/60000 [==============================] - 2s 33us/step - loss: 0.2628 - val_loss: 0.2625\n",
      "Epoch 82/100\n",
      "60000/60000 [==============================] - 2s 32us/step - loss: 0.2628 - val_loss: 0.2625\n",
      "Epoch 83/100\n",
      "60000/60000 [==============================] - 2s 32us/step - loss: 0.2628 - val_loss: 0.2625\n",
      "Epoch 84/100\n",
      "60000/60000 [==============================] - 2s 32us/step - loss: 0.2628 - val_loss: 0.2625\n",
      "Epoch 85/100\n",
      "60000/60000 [==============================] - 2s 32us/step - loss: 0.2628 - val_loss: 0.2625\n",
      "Epoch 86/100\n",
      "60000/60000 [==============================] - 2s 32us/step - loss: 0.2628 - val_loss: 0.2625\n",
      "Epoch 87/100\n",
      "60000/60000 [==============================] - 2s 32us/step - loss: 0.2628 - val_loss: 0.2625\n",
      "Epoch 88/100\n",
      "60000/60000 [==============================] - 2s 32us/step - loss: 0.2628 - val_loss: 0.2625\n",
      "Epoch 89/100\n",
      "60000/60000 [==============================] - 2s 32us/step - loss: 0.2628 - val_loss: 0.2625\n",
      "Epoch 90/100\n",
      "60000/60000 [==============================] - 2s 33us/step - loss: 0.2628 - val_loss: 0.2625\n",
      "Epoch 91/100\n",
      "60000/60000 [==============================] - 2s 32us/step - loss: 0.2628 - val_loss: 0.2625\n",
      "Epoch 92/100\n",
      "60000/60000 [==============================] - 2s 32us/step - loss: 0.2628 - val_loss: 0.2625\n",
      "Epoch 93/100\n",
      "60000/60000 [==============================] - 2s 33us/step - loss: 0.2628 - val_loss: 0.2625\n",
      "Epoch 94/100\n",
      "60000/60000 [==============================] - 2s 32us/step - loss: 0.2628 - val_loss: 0.2625\n",
      "Epoch 95/100\n",
      "60000/60000 [==============================] - 2s 32us/step - loss: 0.2628 - val_loss: 0.2625\n",
      "Epoch 96/100\n",
      "60000/60000 [==============================] - 2s 33us/step - loss: 0.2628 - val_loss: 0.2625\n",
      "Epoch 97/100\n",
      "60000/60000 [==============================] - 2s 32us/step - loss: 0.2628 - val_loss: 0.2625\n",
      "Epoch 98/100\n",
      "60000/60000 [==============================] - 2s 32us/step - loss: 0.2628 - val_loss: 0.2625\n",
      "Epoch 99/100\n",
      "60000/60000 [==============================] - 2s 33us/step - loss: 0.2628 - val_loss: 0.2625\n",
      "Epoch 100/100\n",
      "60000/60000 [==============================] - 2s 32us/step - loss: 0.2628 - val_loss: 0.2625\n"
     ]
    },
    {
     "data": {
      "text/plain": [
       "<keras.callbacks.History at 0x1f754b45ef0>"
      ]
     },
     "execution_count": 9,
     "metadata": {},
     "output_type": "execute_result"
    }
   ],
   "source": [
    "encoding_dim = 32\n",
    "input_img = Input(shape=(784, ))\n",
    "\n",
    "encoded = Dense(encoding_dim, activation='relu', activity_regularizer=regularizers.l1(1e-4))(input_img)\n",
    "decoded = Dense(784, activation='sigmoid')(encoded)\n",
    "autoencoder = Model(input=input_img, output=decoded)\n",
    "\n",
    "autoencoder.compile(optimizer='adam', loss='binary_crossentropy')\n",
    "autoencoder.fit(x_train, x_train, nb_epoch=100, batch_size=256, shuffle=True, validation_data=(x_test, x_test))"
   ]
  },
  {
   "cell_type": "code",
   "execution_count": 10,
   "metadata": {},
   "outputs": [
    {
     "name": "stderr",
     "output_type": "stream",
     "text": [
      "C:\\Anaconda3\\lib\\site-packages\\ipykernel_launcher.py:1: UserWarning: Update your `Model` call to the Keras 2 API: `Model(Tensor(\"in..., outputs=Tensor(\"de...)`\n",
      "  \"\"\"Entry point for launching an IPython kernel.\n"
     ]
    },
    {
     "ename": "NameError",
     "evalue": "name 'encoded_imgs' is not defined",
     "output_type": "error",
     "traceback": [
      "\u001b[1;31m---------------------------------------------------------------------------\u001b[0m",
      "\u001b[1;31mNameError\u001b[0m                                 Traceback (most recent call last)",
      "\u001b[1;32m<ipython-input-10-bc7503a22d26>\u001b[0m in \u001b[0;36m<module>\u001b[1;34m\u001b[0m\n\u001b[0;32m      2\u001b[0m \u001b[0mencode_imgs\u001b[0m \u001b[1;33m=\u001b[0m \u001b[0mencoder\u001b[0m\u001b[1;33m.\u001b[0m\u001b[0mpredict\u001b[0m\u001b[1;33m(\u001b[0m\u001b[0mx_test\u001b[0m\u001b[1;33m)\u001b[0m\u001b[1;33m\u001b[0m\u001b[1;33m\u001b[0m\u001b[0m\n\u001b[0;32m      3\u001b[0m \u001b[1;33m\u001b[0m\u001b[0m\n\u001b[1;32m----> 4\u001b[1;33m \u001b[0mprint\u001b[0m\u001b[1;33m(\u001b[0m\u001b[1;34m'encoded img mean:'\u001b[0m\u001b[1;33m,\u001b[0m \u001b[0mencoded_imgs\u001b[0m\u001b[1;33m.\u001b[0m\u001b[0mmean\u001b[0m\u001b[1;33m(\u001b[0m\u001b[1;33m)\u001b[0m\u001b[1;33m)\u001b[0m\u001b[1;33m\u001b[0m\u001b[1;33m\u001b[0m\u001b[0m\n\u001b[0m",
      "\u001b[1;31mNameError\u001b[0m: name 'encoded_imgs' is not defined"
     ]
    }
   ],
   "source": [
    "encoder = Model(input_img, output=encoded)\n",
    "encode_imgs = encoder.predict(x_test)\n",
    "\n",
    "print('encoded img mean:', encoded_imgs.mean())"
   ]
  },
  {
   "cell_type": "markdown",
   "metadata": {},
   "source": [
    "出力がおかしい、改善が必要。"
   ]
  },
  {
   "cell_type": "code",
   "execution_count": null,
   "metadata": {},
   "outputs": [],
   "source": []
  }
 ],
 "metadata": {
  "kernelspec": {
   "display_name": "Python 3",
   "language": "python",
   "name": "python3"
  },
  "language_info": {
   "codemirror_mode": {
    "name": "ipython",
    "version": 3
   },
   "file_extension": ".py",
   "mimetype": "text/x-python",
   "name": "python",
   "nbconvert_exporter": "python",
   "pygments_lexer": "ipython3",
   "version": "3.7.1"
  }
 },
 "nbformat": 4,
 "nbformat_minor": 2
}
