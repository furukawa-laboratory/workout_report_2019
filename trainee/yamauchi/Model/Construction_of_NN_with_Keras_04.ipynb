{
 "cells": [
  {
   "cell_type": "markdown",
   "metadata": {},
   "source": [
    "# The Keras Blog\n",
    "## Building Autoencoders in Keras"
   ]
  },
  {
   "cell_type": "markdown",
   "metadata": {},
   "source": [
    "### Simple Autoencoder"
   ]
  },
  {
   "cell_type": "code",
   "execution_count": 1,
   "metadata": {},
   "outputs": [
    {
     "name": "stderr",
     "output_type": "stream",
     "text": [
      "Using TensorFlow backend.\n"
     ]
    }
   ],
   "source": [
    "import keras"
   ]
  },
  {
   "cell_type": "code",
   "execution_count": 2,
   "metadata": {},
   "outputs": [],
   "source": [
    "from keras.layers import Input, Dense\n",
    "from keras.models import Model"
   ]
  },
  {
   "cell_type": "code",
   "execution_count": 4,
   "metadata": {},
   "outputs": [
    {
     "name": "stdout",
     "output_type": "stream",
     "text": [
      "WARNING:tensorflow:From C:\\Anaconda3\\lib\\site-packages\\tensorflow\\python\\framework\\op_def_library.py:263: colocate_with (from tensorflow.python.framework.ops) is deprecated and will be removed in a future version.\n",
      "Instructions for updating:\n",
      "Colocations handled automatically by placer.\n"
     ]
    }
   ],
   "source": [
    "encoding_dim = 32\n",
    "\n",
    "input_img = Input(shape=(784,))\n",
    "\n",
    "encoded = Dense(encoding_dim, activation='relu')(input_img)\n",
    "\n",
    "decoded = Dense(784, activation='sigmoid')(encoded)\n",
    "\n",
    "autoencoder = Model(input_img, decoded)"
   ]
  },
  {
   "cell_type": "code",
   "execution_count": 5,
   "metadata": {},
   "outputs": [],
   "source": [
    "encoder = Model(input_img, encoded)"
   ]
  },
  {
   "cell_type": "code",
   "execution_count": 6,
   "metadata": {},
   "outputs": [],
   "source": [
    "encoded_input = Input(shape=(encoding_dim,))\n",
    "decoder_layer = autoencoder.layers[-1]\n",
    "decoder = Model(encoded_input, decoder_layer(encoded_input))"
   ]
  },
  {
   "cell_type": "code",
   "execution_count": 7,
   "metadata": {},
   "outputs": [],
   "source": [
    "autoencoder.compile(optimizer='adadelta', loss='binary_crossentropy')"
   ]
  },
  {
   "cell_type": "code",
   "execution_count": 8,
   "metadata": {},
   "outputs": [
    {
     "name": "stdout",
     "output_type": "stream",
     "text": [
      "Downloading data from https://s3.amazonaws.com/img-datasets/mnist.npz\n",
      "11493376/11490434 [==============================] - 16s 1us/step\n"
     ]
    }
   ],
   "source": [
    "from keras.datasets import mnist\n",
    "import numpy as np\n",
    "(x_train, _), (x_test, _) = mnist.load_data()"
   ]
  },
  {
   "cell_type": "code",
   "execution_count": 9,
   "metadata": {},
   "outputs": [],
   "source": [
    "x_train = x_train.astype('float32') / 255.\n",
    "x_test  = x_test.astype('float32') / 255.\n",
    "x_train = x_train.reshape((len(x_train), np.prod(x_train.shape[1:])))\n",
    "x_test  = x_test.reshape((len(x_test), np.prod(x_test.shape[1:])))"
   ]
  },
  {
   "cell_type": "code",
   "execution_count": 10,
   "metadata": {},
   "outputs": [
    {
     "name": "stdout",
     "output_type": "stream",
     "text": [
      "(60000, 784)\n",
      "(10000, 784)\n"
     ]
    }
   ],
   "source": [
    "print(x_train.shape)\n",
    "print(x_test.shape)"
   ]
  },
  {
   "cell_type": "code",
   "execution_count": 11,
   "metadata": {},
   "outputs": [
    {
     "name": "stdout",
     "output_type": "stream",
     "text": [
      "WARNING:tensorflow:From C:\\Anaconda3\\lib\\site-packages\\tensorflow\\python\\ops\\math_ops.py:3066: to_int32 (from tensorflow.python.ops.math_ops) is deprecated and will be removed in a future version.\n",
      "Instructions for updating:\n",
      "Use tf.cast instead.\n",
      "Train on 60000 samples, validate on 10000 samples\n",
      "Epoch 1/50\n",
      "60000/60000 [==============================] - 4s 65us/step - loss: 0.3597 - val_loss: 0.2712\n",
      "Epoch 2/50\n",
      "60000/60000 [==============================] - 3s 53us/step - loss: 0.2642 - val_loss: 0.2535\n",
      "Epoch 3/50\n",
      "60000/60000 [==============================] - 3s 53us/step - loss: 0.2428 - val_loss: 0.2300\n",
      "Epoch 4/50\n",
      "60000/60000 [==============================] - 3s 54us/step - loss: 0.2222 - val_loss: 0.2123\n",
      "Epoch 5/50\n",
      "60000/60000 [==============================] - 3s 53us/step - loss: 0.2072 - val_loss: 0.1997\n",
      "Epoch 6/50\n",
      "60000/60000 [==============================] - 3s 57us/step - loss: 0.1958 - val_loss: 0.1896\n",
      "Epoch 7/50\n",
      "60000/60000 [==============================] - 3s 54us/step - loss: 0.1868 - val_loss: 0.1817\n",
      "Epoch 8/50\n",
      "60000/60000 [==============================] - 3s 53us/step - loss: 0.1797 - val_loss: 0.1752\n",
      "Epoch 9/50\n",
      "60000/60000 [==============================] - 3s 53us/step - loss: 0.1737 - val_loss: 0.1696\n",
      "Epoch 10/50\n",
      "60000/60000 [==============================] - 3s 54us/step - loss: 0.1686 - val_loss: 0.1647\n",
      "Epoch 11/50\n",
      "60000/60000 [==============================] - 3s 53us/step - loss: 0.1639 - val_loss: 0.1602\n",
      "Epoch 12/50\n",
      "60000/60000 [==============================] - 3s 53us/step - loss: 0.1597 - val_loss: 0.1563\n",
      "Epoch 13/50\n",
      "60000/60000 [==============================] - 3s 53us/step - loss: 0.1559 - val_loss: 0.1526\n",
      "Epoch 14/50\n",
      "60000/60000 [==============================] - 3s 54us/step - loss: 0.1524 - val_loss: 0.1492\n",
      "Epoch 15/50\n",
      "60000/60000 [==============================] - 3s 53us/step - loss: 0.1491 - val_loss: 0.1461\n",
      "Epoch 16/50\n",
      "60000/60000 [==============================] - 3s 57us/step - loss: 0.1461 - val_loss: 0.1432\n",
      "Epoch 17/50\n",
      "60000/60000 [==============================] - 3s 58us/step - loss: 0.1434 - val_loss: 0.1407\n",
      "Epoch 18/50\n",
      "60000/60000 [==============================] - 3s 54us/step - loss: 0.1408 - val_loss: 0.1380\n",
      "Epoch 19/50\n",
      "60000/60000 [==============================] - 3s 54us/step - loss: 0.1384 - val_loss: 0.1358\n",
      "Epoch 20/50\n",
      "60000/60000 [==============================] - 3s 54us/step - loss: 0.1361 - val_loss: 0.1335\n",
      "Epoch 21/50\n",
      "60000/60000 [==============================] - 3s 55us/step - loss: 0.1340 - val_loss: 0.1314\n",
      "Epoch 22/50\n",
      "60000/60000 [==============================] - 4s 60us/step - loss: 0.1320 - val_loss: 0.1294\n",
      "Epoch 23/50\n",
      "60000/60000 [==============================] - 3s 55us/step - loss: 0.1300 - val_loss: 0.1276\n",
      "Epoch 24/50\n",
      "60000/60000 [==============================] - 3s 55us/step - loss: 0.1281 - val_loss: 0.1257\n",
      "Epoch 25/50\n",
      "60000/60000 [==============================] - 3s 55us/step - loss: 0.1263 - val_loss: 0.1239\n",
      "Epoch 26/50\n",
      "60000/60000 [==============================] - 3s 54us/step - loss: 0.1246 - val_loss: 0.1223\n",
      "Epoch 27/50\n",
      "60000/60000 [==============================] - 3s 56us/step - loss: 0.1230 - val_loss: 0.1207\n",
      "Epoch 28/50\n",
      "60000/60000 [==============================] - 3s 55us/step - loss: 0.1215 - val_loss: 0.1191\n",
      "Epoch 29/50\n",
      "60000/60000 [==============================] - 3s 54us/step - loss: 0.1200 - val_loss: 0.1177\n",
      "Epoch 30/50\n",
      "60000/60000 [==============================] - 3s 55us/step - loss: 0.1186 - val_loss: 0.1164\n",
      "Epoch 31/50\n",
      "60000/60000 [==============================] - 3s 54us/step - loss: 0.1173 - val_loss: 0.1152\n",
      "Epoch 32/50\n",
      "60000/60000 [==============================] - 3s 54us/step - loss: 0.1161 - val_loss: 0.1140\n",
      "Epoch 33/50\n",
      "60000/60000 [==============================] - 3s 54us/step - loss: 0.1150 - val_loss: 0.1129\n",
      "Epoch 34/50\n",
      "60000/60000 [==============================] - 3s 54us/step - loss: 0.1139 - val_loss: 0.1118\n",
      "Epoch 35/50\n",
      "60000/60000 [==============================] - 3s 54us/step - loss: 0.1129 - val_loss: 0.1109\n",
      "Epoch 36/50\n",
      "60000/60000 [==============================] - 3s 55us/step - loss: 0.1120 - val_loss: 0.1100\n",
      "Epoch 37/50\n",
      "60000/60000 [==============================] - 3s 54us/step - loss: 0.1111 - val_loss: 0.1091\n",
      "Epoch 38/50\n",
      "60000/60000 [==============================] - 3s 53us/step - loss: 0.1103 - val_loss: 0.1084\n",
      "Epoch 39/50\n",
      "60000/60000 [==============================] - 3s 55us/step - loss: 0.1096 - val_loss: 0.1077\n",
      "Epoch 40/50\n",
      "60000/60000 [==============================] - 3s 56us/step - loss: 0.1089 - val_loss: 0.1069\n",
      "Epoch 41/50\n",
      "60000/60000 [==============================] - 3s 54us/step - loss: 0.1082 - val_loss: 0.1063\n",
      "Epoch 42/50\n",
      "60000/60000 [==============================] - 3s 54us/step - loss: 0.1076 - val_loss: 0.1057\n",
      "Epoch 43/50\n",
      "60000/60000 [==============================] - 3s 54us/step - loss: 0.1070 - val_loss: 0.1051\n",
      "Epoch 44/50\n",
      "60000/60000 [==============================] - 3s 54us/step - loss: 0.1065 - val_loss: 0.1046\n",
      "Epoch 45/50\n",
      "60000/60000 [==============================] - 3s 54us/step - loss: 0.1060 - val_loss: 0.1041\n",
      "Epoch 46/50\n",
      "60000/60000 [==============================] - 3s 54us/step - loss: 0.1055 - val_loss: 0.1037\n",
      "Epoch 47/50\n",
      "60000/60000 [==============================] - 3s 54us/step - loss: 0.1050 - val_loss: 0.1033\n",
      "Epoch 48/50\n",
      "60000/60000 [==============================] - 3s 54us/step - loss: 0.1046 - val_loss: 0.1028\n",
      "Epoch 49/50\n",
      "60000/60000 [==============================] - 3s 54us/step - loss: 0.1042 - val_loss: 0.1024\n",
      "Epoch 50/50\n",
      "60000/60000 [==============================] - 3s 54us/step - loss: 0.1038 - val_loss: 0.1021\n"
     ]
    },
    {
     "data": {
      "text/plain": [
       "<keras.callbacks.History at 0x1ff0a24d748>"
      ]
     },
     "execution_count": 11,
     "metadata": {},
     "output_type": "execute_result"
    }
   ],
   "source": [
    "autoencoder.fit(x_train, x_train, epochs=50, batch_size=256, shuffle=True, validation_data=(x_test, x_test))"
   ]
  },
  {
   "cell_type": "code",
   "execution_count": 12,
   "metadata": {},
   "outputs": [],
   "source": [
    "encoded_imgs = encoder.predict(x_test)\n",
    "decoded_imgs = decoder.predict(encoded_imgs)"
   ]
  },
  {
   "cell_type": "code",
   "execution_count": 14,
   "metadata": {},
   "outputs": [],
   "source": [
    "import matplotlib.pyplot as plt"
   ]
  },
  {
   "cell_type": "code",
   "execution_count": 15,
   "metadata": {},
   "outputs": [],
   "source": [
    "%matplotlib inline"
   ]
  },
  {
   "cell_type": "code",
   "execution_count": 16,
   "metadata": {},
   "outputs": [
    {
     "data": {
      "image/png": "[encoded data removed]",
      "text/plain": [
       "<Figure size 1440x288 with 20 Axes>"
      ]
     },
     "metadata": {
      "needs_background": "light"
     },
     "output_type": "display_data"
    }
   ],
   "source": [
    "n = 10\n",
    "plt.figure(figsize=(20, 4))\n",
    "\n",
    "for i in range(n):\n",
    "    ax = plt.subplot(2, n, i+1)\n",
    "    plt.imshow(x_test[i].reshape(28, 28))\n",
    "    plt.gray()\n",
    "    ax.get_xaxis().set_visible(False)\n",
    "    ax.get_yaxis().set_visible(False)\n",
    "    \n",
    "    ax = plt.subplot(2, n, i+1+n)\n",
    "    plt.imshow(decoded_imgs[i].reshape(28, 28))\n",
    "    plt.gray()\n",
    "    ax.get_xaxis().set_visible(False)\n",
    "    ax.get_yaxis().set_visible(False)\n",
    "\n",
    "plt.show()"
   ]
  },
  {
   "cell_type": "markdown",
   "metadata": {},
   "source": [
    "### Sparse Autoencoder"
   ]
  },
  {
   "cell_type": "code",
   "execution_count": 1,
   "metadata": {},
   "outputs": [
    {
     "name": "stderr",
     "output_type": "stream",
     "text": [
      "Using TensorFlow backend.\n"
     ]
    }
   ],
   "source": [
    "from keras.layers import Input, Dense\n",
    "from keras.models import Model\n",
    "from keras import regularizers"
   ]
  },
  {
   "cell_type": "code",
   "execution_count": 2,
   "metadata": {},
   "outputs": [],
   "source": [
    "encoding_dim = 32\n",
    "input_img = Input(shape=(784,))"
   ]
  },
  {
   "cell_type": "code",
   "execution_count": 3,
   "metadata": {},
   "outputs": [
    {
     "name": "stdout",
     "output_type": "stream",
     "text": [
      "WARNING:tensorflow:From C:\\Anaconda3\\lib\\site-packages\\tensorflow\\python\\framework\\op_def_library.py:263: colocate_with (from tensorflow.python.framework.ops) is deprecated and will be removed in a future version.\n",
      "Instructions for updating:\n",
      "Colocations handled automatically by placer.\n"
     ]
    }
   ],
   "source": [
    "encoded = Dense(encoding_dim, activation='relu', activity_regularizer=regularizers.l1(1e-6))(input_img)\n",
    "decoded = Dense(784, activation='sigmoid')(encoded)"
   ]
  },
  {
   "cell_type": "code",
   "execution_count": 4,
   "metadata": {},
   "outputs": [],
   "source": [
    "autoencoder = Model(input_img, decoded)"
   ]
  },
  {
   "cell_type": "code",
   "execution_count": 8,
   "metadata": {},
   "outputs": [],
   "source": [
    "encoder = Model(input_img, encoded)\n",
    "\n",
    "encoded_input = Input(shape=(encoding_dim,))\n",
    "\n",
    "decoder_layer = autoencoder.layers[-1]\n",
    "\n",
    "decoder = Model(encoded_input, decoder_layer(encoded_input))"
   ]
  },
  {
   "cell_type": "code",
   "execution_count": 9,
   "metadata": {},
   "outputs": [],
   "source": [
    "autoencoder.compile(optimizer='adadelta', loss='binary_crossentropy')"
   ]
  },
  {
   "cell_type": "code",
   "execution_count": 10,
   "metadata": {},
   "outputs": [],
   "source": [
    "from keras.datasets import mnist\n",
    "import numpy as np"
   ]
  },
  {
   "cell_type": "code",
   "execution_count": 11,
   "metadata": {},
   "outputs": [
    {
     "name": "stdout",
     "output_type": "stream",
     "text": [
      "x_train.shape: (60000, 784)\n",
      "x_test.shape: (10000, 784)\n"
     ]
    }
   ],
   "source": [
    "(x_train, _), (x_test, _) = mnist.load_data()\n",
    "x_train = x_train.astype('float32') / 255.\n",
    "x_test = x_test.astype('float32') / 255.\n",
    "x_train = x_train.reshape((len(x_train)), np.prod(x_train.shape[1:]))\n",
    "x_test = x_test.reshape((len(x_test), np.prod(x_test.shape[1:])))\n",
    "\n",
    "print('x_train.shape: {}'.format(x_train.shape))\n",
    "print('x_test.shape: {}'.format(x_test.shape))"
   ]
  },
  {
   "cell_type": "code",
   "execution_count": 12,
   "metadata": {},
   "outputs": [
    {
     "name": "stdout",
     "output_type": "stream",
     "text": [
      "WARNING:tensorflow:From C:\\Anaconda3\\lib\\site-packages\\tensorflow\\python\\ops\\math_ops.py:3066: to_int32 (from tensorflow.python.ops.math_ops) is deprecated and will be removed in a future version.\n",
      "Instructions for updating:\n",
      "Use tf.cast instead.\n",
      "Train on 60000 samples, validate on 10000 samples\n",
      "Epoch 1/50\n",
      "60000/60000 [==============================] - 4s 67us/step - loss: 0.3757 - val_loss: 0.2877\n",
      "Epoch 2/50\n",
      "60000/60000 [==============================] - 3s 54us/step - loss: 0.2821 - val_loss: 0.2747\n",
      "Epoch 3/50\n",
      "60000/60000 [==============================] - 3s 54us/step - loss: 0.2677 - val_loss: 0.2595\n",
      "Epoch 4/50\n",
      "60000/60000 [==============================] - 3s 54us/step - loss: 0.2537 - val_loss: 0.2455\n",
      "Epoch 5/50\n",
      "60000/60000 [==============================] - 3s 54us/step - loss: 0.2400 - val_loss: 0.2316\n",
      "Epoch 6/50\n",
      "60000/60000 [==============================] - 3s 56us/step - loss: 0.2273 - val_loss: 0.2199\n",
      "Epoch 7/50\n",
      "60000/60000 [==============================] - 3s 58us/step - loss: 0.2170 - val_loss: 0.2109\n",
      "Epoch 8/50\n",
      "60000/60000 [==============================] - 3s 55us/step - loss: 0.2092 - val_loss: 0.2043\n",
      "Epoch 9/50\n",
      "60000/60000 [==============================] - 3s 56us/step - loss: 0.2035 - val_loss: 0.1995\n",
      "Epoch 10/50\n",
      "60000/60000 [==============================] - 3s 57us/step - loss: 0.1992 - val_loss: 0.1959\n",
      "Epoch 11/50\n",
      "60000/60000 [==============================] - 3s 56us/step - loss: 0.1959 - val_loss: 0.1928\n",
      "Epoch 12/50\n",
      "60000/60000 [==============================] - 4s 59us/step - loss: 0.1930 - val_loss: 0.1902\n",
      "Epoch 13/50\n",
      "60000/60000 [==============================] - 3s 56us/step - loss: 0.1905 - val_loss: 0.1878\n",
      "Epoch 14/50\n",
      "60000/60000 [==============================] - 3s 56us/step - loss: 0.1881 - val_loss: 0.1854\n",
      "Epoch 15/50\n",
      "60000/60000 [==============================] - 3s 56us/step - loss: 0.1857 - val_loss: 0.1831\n",
      "Epoch 16/50\n",
      "60000/60000 [==============================] - 3s 57us/step - loss: 0.1834 - val_loss: 0.1808\n",
      "Epoch 17/50\n",
      "60000/60000 [==============================] - 3s 56us/step - loss: 0.1811 - val_loss: 0.1786\n",
      "Epoch 18/50\n",
      "60000/60000 [==============================] - 3s 56us/step - loss: 0.1789 - val_loss: 0.1765\n",
      "Epoch 19/50\n",
      "60000/60000 [==============================] - 3s 57us/step - loss: 0.1769 - val_loss: 0.1744\n",
      "Epoch 20/50\n",
      "60000/60000 [==============================] - 3s 57us/step - loss: 0.1750 - val_loss: 0.1725\n",
      "Epoch 21/50\n",
      "60000/60000 [==============================] - 3s 56us/step - loss: 0.1731 - val_loss: 0.1707\n",
      "Epoch 22/50\n",
      "60000/60000 [==============================] - 3s 56us/step - loss: 0.1714 - val_loss: 0.1690\n",
      "Epoch 23/50\n",
      "60000/60000 [==============================] - 3s 56us/step - loss: 0.1697 - val_loss: 0.1674\n",
      "Epoch 24/50\n",
      "60000/60000 [==============================] - 3s 56us/step - loss: 0.1682 - val_loss: 0.1659\n",
      "Epoch 25/50\n",
      "60000/60000 [==============================] - 3s 56us/step - loss: 0.1667 - val_loss: 0.1644\n",
      "Epoch 26/50\n",
      "60000/60000 [==============================] - 3s 56us/step - loss: 0.1653 - val_loss: 0.1630\n",
      "Epoch 27/50\n",
      "60000/60000 [==============================] - 3s 56us/step - loss: 0.1639 - val_loss: 0.1618\n",
      "Epoch 28/50\n",
      "60000/60000 [==============================] - 3s 57us/step - loss: 0.1627 - val_loss: 0.1605\n",
      "Epoch 29/50\n",
      "60000/60000 [==============================] - 3s 57us/step - loss: 0.1615 - val_loss: 0.1593\n",
      "Epoch 30/50\n",
      "60000/60000 [==============================] - 3s 56us/step - loss: 0.1603 - val_loss: 0.1582\n",
      "Epoch 31/50\n",
      "60000/60000 [==============================] - 3s 56us/step - loss: 0.1593 - val_loss: 0.1572\n",
      "Epoch 32/50\n",
      "60000/60000 [==============================] - 3s 57us/step - loss: 0.1583 - val_loss: 0.1562\n",
      "Epoch 33/50\n",
      "60000/60000 [==============================] - 3s 56us/step - loss: 0.1573 - val_loss: 0.1553\n",
      "Epoch 34/50\n",
      "60000/60000 [==============================] - 3s 56us/step - loss: 0.1564 - val_loss: 0.1544\n",
      "Epoch 35/50\n",
      "60000/60000 [==============================] - 4s 59us/step - loss: 0.1555 - val_loss: 0.1536\n",
      "Epoch 36/50\n",
      "60000/60000 [==============================] - 3s 57us/step - loss: 0.1547 - val_loss: 0.1528\n",
      "Epoch 37/50\n",
      "60000/60000 [==============================] - 3s 55us/step - loss: 0.1540 - val_loss: 0.1520\n",
      "Epoch 38/50\n",
      "60000/60000 [==============================] - 3s 54us/step - loss: 0.1533 - val_loss: 0.1513\n",
      "Epoch 39/50\n",
      "60000/60000 [==============================] - 3s 54us/step - loss: 0.1526 - val_loss: 0.1507\n",
      "Epoch 40/50\n",
      "60000/60000 [==============================] - 3s 56us/step - loss: 0.1520 - val_loss: 0.1501\n",
      "Epoch 41/50\n",
      "60000/60000 [==============================] - 4s 62us/step - loss: 0.1514 - val_loss: 0.1495\n",
      "Epoch 42/50\n",
      "60000/60000 [==============================] - 4s 63us/step - loss: 0.1508 - val_loss: 0.1490\n",
      "Epoch 43/50\n",
      "60000/60000 [==============================] - 3s 58us/step - loss: 0.1503 - val_loss: 0.1485\n",
      "Epoch 44/50\n",
      "60000/60000 [==============================] - 3s 54us/step - loss: 0.1498 - val_loss: 0.1480\n",
      "Epoch 45/50\n",
      "60000/60000 [==============================] - 3s 54us/step - loss: 0.1494 - val_loss: 0.1476\n",
      "Epoch 46/50\n",
      "60000/60000 [==============================] - 4s 72us/step - loss: 0.1490 - val_loss: 0.1472- ETA: 0s\n",
      "Epoch 47/50\n",
      "60000/60000 [==============================] - 5s 81us/step - loss: 0.1486 - val_loss: 0.1468\n",
      "Epoch 48/50\n",
      "60000/60000 [==============================] - 5s 76us/step - loss: 0.1482 - val_loss: 0.1464\n",
      "Epoch 49/50\n",
      "60000/60000 [==============================] - 4s 70us/step - loss: 0.1479 - val_loss: 0.1461\n",
      "Epoch 50/50\n",
      "60000/60000 [==============================] - 4s 70us/step - loss: 0.1476 - val_loss: 0.1458\n"
     ]
    },
    {
     "data": {
      "text/plain": [
       "<keras.callbacks.History at 0x152aa98a160>"
      ]
     },
     "execution_count": 12,
     "metadata": {},
     "output_type": "execute_result"
    }
   ],
   "source": [
    "autoencoder.fit(x_train, x_train, epochs=50, batch_size=256, shuffle=True, validation_data=(x_test, x_test))"
   ]
  },
  {
   "cell_type": "code",
   "execution_count": 13,
   "metadata": {},
   "outputs": [
    {
     "name": "stdout",
     "output_type": "stream",
     "text": [
      "encoded_imgs.mean(): 1.7771519422531128\n",
      "decoded_imgs.mean(): 0.1332922875881195\n"
     ]
    }
   ],
   "source": [
    "encoded_imgs = encoder.predict(x_test)\n",
    "decoded_imgs = decoder.predict(encoded_imgs)\n",
    "print('encoded_imgs.mean(): {}'.format(encoded_imgs.mean()))\n",
    "print('decoded_imgs.mean(): {}'.format(decoded_imgs.mean()))"
   ]
  },
  {
   "cell_type": "code",
   "execution_count": 15,
   "metadata": {},
   "outputs": [],
   "source": [
    "import matplotlib.pyplot as plt"
   ]
  },
  {
   "cell_type": "code",
   "execution_count": 16,
   "metadata": {},
   "outputs": [],
   "source": [
    "%matplotlib inline"
   ]
  },
  {
   "cell_type": "code",
   "execution_count": 17,
   "metadata": {},
   "outputs": [
    {
     "data": {
      "image/png": "[encoded data removed]",
      "text/plain": [
       "<Figure size 1440x288 with 20 Axes>"
      ]
     },
     "metadata": {
      "needs_background": "light"
     },
     "output_type": "display_data"
    }
   ],
   "source": [
    "n = 10\n",
    "plt.figure(figsize=(20, 4))\n",
    "\n",
    "for i in range(n):\n",
    "    ax = plt.subplot(2, n, i+1)\n",
    "    plt.imshow(x_test[i].reshape(28, 28))\n",
    "    plt.gray()\n",
    "    ax.get_xaxis().set_visible(False)\n",
    "    ax.get_yaxis().set_visible(False)\n",
    "    \n",
    "    ax = plt.subplot(2, n, i+1+n)\n",
    "    plt.imshow(decoded_imgs[i].reshape(28, 28))\n",
    "    plt.gray()\n",
    "    ax.get_xaxis().set_visible(False)\n",
    "    ax.get_yaxis().set_visible(False)\n",
    "\n",
    "plt.show()"
   ]
  },
  {
   "cell_type": "code",
   "execution_count": null,
   "metadata": {},
   "outputs": [],
   "source": []
  }
 ],
 "metadata": {
  "kernelspec": {
   "display_name": "Python 3",
   "language": "python",
   "name": "python3"
  },
  "language_info": {
   "codemirror_mode": {
    "name": "ipython",
    "version": 3
   },
   "file_extension": ".py",
   "mimetype": "text/x-python",
   "name": "python",
   "nbconvert_exporter": "python",
   "pygments_lexer": "ipython3",
   "version": "3.7.1"
  }
 },
 "nbformat": 4,
 "nbformat_minor": 2
}
