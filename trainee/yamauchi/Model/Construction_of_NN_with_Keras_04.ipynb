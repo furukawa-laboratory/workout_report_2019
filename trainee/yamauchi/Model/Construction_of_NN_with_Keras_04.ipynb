{
 "cells": [
  {
   "cell_type": "markdown",
   "metadata": {},
   "source": [
    "# The Keras Blog\n",
    "## Building Autoencoders in Keras"
   ]
  },
  {
   "cell_type": "markdown",
   "metadata": {},
   "source": [
    "### What are autoencoders?\n",
    "\n",
    "1) Autoencoderは学習したデータと同様のものしか圧縮できない、学習したデータ固有の生成モデルを構築する。\n",
    "\n",
    "2) Autoencoderは非可逆圧縮(lossy)であり、モデルを通して展開された出力は入力と比較して劣化している。\n",
    "\n",
    "3) Autoencoderはサンプルを自動で学習する。特定の入力に対して機能するアルゴリズムの特化したインスタンスの学習が容易であることを意味する。\n",
    "\n",
    "Autoencoderの構築に必要な機能は3つ。encoding、decoding、loss functionである。圧縮と展開のパラメータは再構築の際の損失を最小化するように確率的勾配降下法(SGD)を使って最適化される。\n",
    "\n"
   ]
  },
  {
   "cell_type": "markdown",
   "metadata": {},
   "source": [
    "### Are they good at data compression?\n",
    "\n",
    "Usually, not really.\n",
    "\n",
    "圧縮の実応用において、AutoencoderをJPEGやその他のアルゴリズムより良く機能するようにトレーニングすることは困難である。通常、特定のタイプに特化することでしかJPEG等のアルゴリズムを超えることはできない。\n",
    "\n",
    "これは、Autoencoderがdata-specificであるという事実が一般的にAutoencoderを非実用的にしていることが原因である。\n",
    "\n",
    "私たちはAutoencoderが学習したことのあるデータのみについてAutoencoderを圧縮機として使うことができ、Autoencoderを汎用的にするには膨大なトレーニングが求められる。\n",
    "\n",
    "しかし未来にどうなっているかは、神のみぞ知る。"
   ]
  },
  {
   "cell_type": "markdown",
   "metadata": {},
   "source": [
    "### What are autoencodrs good for?\n",
    "\n",
    "Autoencoderは、data denoisingとdimensionality reduntion for data visualizaitonについて興味深い応用例がある。\n",
    "\n",
    "適切な次元性や制約の希薄さと共に、Autoencoderはデータの写像を学習することができる。\n",
    "\n",
    "2次元可視化については、恐らくt-SNEがベストアルゴリズムであるが、t-SNEは比較的データが低次元であることが求められる。\n",
    "\n",
    "Autoencoderを高次元から低次元へのデータ圧縮に用い、次にt-SNEを使用して圧縮データを二次元可視化することが、高次元データの類似性を可視化するための良質な戦略となりうる。\n"
   ]
  },
  {
   "cell_type": "markdown",
   "metadata": {},
   "source": [
    "### So what's the big deal with autoencoders?\n",
    "\n",
    "write later"
   ]
  },
  {
   "cell_type": "markdown",
   "metadata": {},
   "source": [
    "### Simple Autoencoder"
   ]
  },
  {
   "cell_type": "code",
   "execution_count": 1,
   "metadata": {},
   "outputs": [
    {
     "name": "stderr",
     "output_type": "stream",
     "text": [
      "Using TensorFlow backend.\n"
     ]
    }
   ],
   "source": [
    "import keras"
   ]
  },
  {
   "cell_type": "code",
   "execution_count": 2,
   "metadata": {},
   "outputs": [],
   "source": [
    "from keras.layers import Input, Dense\n",
    "from keras.models import Model"
   ]
  },
  {
   "cell_type": "code",
   "execution_count": 4,
   "metadata": {},
   "outputs": [
    {
     "name": "stdout",
     "output_type": "stream",
     "text": [
      "WARNING:tensorflow:From C:\\Anaconda3\\lib\\site-packages\\tensorflow\\python\\framework\\op_def_library.py:263: colocate_with (from tensorflow.python.framework.ops) is deprecated and will be removed in a future version.\n",
      "Instructions for updating:\n",
      "Colocations handled automatically by placer.\n"
     ]
    }
   ],
   "source": [
    "encoding_dim = 32\n",
    "\n",
    "input_img = Input(shape=(784,))\n",
    "\n",
    "encoded = Dense(encoding_dim, activation='relu')(input_img)\n",
    "\n",
    "decoded = Dense(784, activation='sigmoid')(encoded)\n",
    "\n",
    "autoencoder = Model(input_img, decoded)"
   ]
  },
  {
   "cell_type": "code",
   "execution_count": 5,
   "metadata": {},
   "outputs": [],
   "source": [
    "encoder = Model(input_img, encoded)"
   ]
  },
  {
   "cell_type": "code",
   "execution_count": 6,
   "metadata": {},
   "outputs": [],
   "source": [
    "encoded_input = Input(shape=(encoding_dim,))\n",
    "decoder_layer = autoencoder.layers[-1]\n",
    "decoder = Model(encoded_input, decoder_layer(encoded_input))"
   ]
  },
  {
   "cell_type": "code",
   "execution_count": 7,
   "metadata": {},
   "outputs": [],
   "source": [
    "autoencoder.compile(optimizer='adadelta', loss='binary_crossentropy')"
   ]
  },
  {
   "cell_type": "code",
   "execution_count": 8,
   "metadata": {},
   "outputs": [
    {
     "name": "stdout",
     "output_type": "stream",
     "text": [
      "Downloading data from https://s3.amazonaws.com/img-datasets/mnist.npz\n",
      "11493376/11490434 [==============================] - 16s 1us/step\n"
     ]
    }
   ],
   "source": [
    "from keras.datasets import mnist\n",
    "import numpy as np\n",
    "(x_train, _), (x_test, _) = mnist.load_data()"
   ]
  },
  {
   "cell_type": "code",
   "execution_count": 9,
   "metadata": {},
   "outputs": [],
   "source": [
    "x_train = x_train.astype('float32') / 255.\n",
    "x_test  = x_test.astype('float32') / 255.\n",
    "x_train = x_train.reshape((len(x_train), np.prod(x_train.shape[1:])))\n",
    "x_test  = x_test.reshape((len(x_test), np.prod(x_test.shape[1:])))"
   ]
  },
  {
   "cell_type": "code",
   "execution_count": 10,
   "metadata": {},
   "outputs": [
    {
     "name": "stdout",
     "output_type": "stream",
     "text": [
      "(60000, 784)\n",
      "(10000, 784)\n"
     ]
    }
   ],
   "source": [
    "print(x_train.shape)\n",
    "print(x_test.shape)"
   ]
  },
  {
   "cell_type": "code",
   "execution_count": 11,
   "metadata": {},
   "outputs": [
    {
     "name": "stdout",
     "output_type": "stream",
     "text": [
      "WARNING:tensorflow:From C:\\Anaconda3\\lib\\site-packages\\tensorflow\\python\\ops\\math_ops.py:3066: to_int32 (from tensorflow.python.ops.math_ops) is deprecated and will be removed in a future version.\n",
      "Instructions for updating:\n",
      "Use tf.cast instead.\n",
      "Train on 60000 samples, validate on 10000 samples\n",
      "Epoch 1/50\n",
      "60000/60000 [==============================] - 4s 65us/step - loss: 0.3597 - val_loss: 0.2712\n",
      "Epoch 2/50\n",
      "60000/60000 [==============================] - 3s 53us/step - loss: 0.2642 - val_loss: 0.2535\n",
      "Epoch 3/50\n",
      "60000/60000 [==============================] - 3s 53us/step - loss: 0.2428 - val_loss: 0.2300\n",
      "Epoch 4/50\n",
      "60000/60000 [==============================] - 3s 54us/step - loss: 0.2222 - val_loss: 0.2123\n",
      "Epoch 5/50\n",
      "60000/60000 [==============================] - 3s 53us/step - loss: 0.2072 - val_loss: 0.1997\n",
      "Epoch 6/50\n",
      "60000/60000 [==============================] - 3s 57us/step - loss: 0.1958 - val_loss: 0.1896\n",
      "Epoch 7/50\n",
      "60000/60000 [==============================] - 3s 54us/step - loss: 0.1868 - val_loss: 0.1817\n",
      "Epoch 8/50\n",
      "60000/60000 [==============================] - 3s 53us/step - loss: 0.1797 - val_loss: 0.1752\n",
      "Epoch 9/50\n",
      "60000/60000 [==============================] - 3s 53us/step - loss: 0.1737 - val_loss: 0.1696\n",
      "Epoch 10/50\n",
      "60000/60000 [==============================] - 3s 54us/step - loss: 0.1686 - val_loss: 0.1647\n",
      "Epoch 11/50\n",
      "60000/60000 [==============================] - 3s 53us/step - loss: 0.1639 - val_loss: 0.1602\n",
      "Epoch 12/50\n",
      "60000/60000 [==============================] - 3s 53us/step - loss: 0.1597 - val_loss: 0.1563\n",
      "Epoch 13/50\n",
      "60000/60000 [==============================] - 3s 53us/step - loss: 0.1559 - val_loss: 0.1526\n",
      "Epoch 14/50\n",
      "60000/60000 [==============================] - 3s 54us/step - loss: 0.1524 - val_loss: 0.1492\n",
      "Epoch 15/50\n",
      "60000/60000 [==============================] - 3s 53us/step - loss: 0.1491 - val_loss: 0.1461\n",
      "Epoch 16/50\n",
      "60000/60000 [==============================] - 3s 57us/step - loss: 0.1461 - val_loss: 0.1432\n",
      "Epoch 17/50\n",
      "60000/60000 [==============================] - 3s 58us/step - loss: 0.1434 - val_loss: 0.1407\n",
      "Epoch 18/50\n",
      "60000/60000 [==============================] - 3s 54us/step - loss: 0.1408 - val_loss: 0.1380\n",
      "Epoch 19/50\n",
      "60000/60000 [==============================] - 3s 54us/step - loss: 0.1384 - val_loss: 0.1358\n",
      "Epoch 20/50\n",
      "60000/60000 [==============================] - 3s 54us/step - loss: 0.1361 - val_loss: 0.1335\n",
      "Epoch 21/50\n",
      "60000/60000 [==============================] - 3s 55us/step - loss: 0.1340 - val_loss: 0.1314\n",
      "Epoch 22/50\n",
      "60000/60000 [==============================] - 4s 60us/step - loss: 0.1320 - val_loss: 0.1294\n",
      "Epoch 23/50\n",
      "60000/60000 [==============================] - 3s 55us/step - loss: 0.1300 - val_loss: 0.1276\n",
      "Epoch 24/50\n",
      "60000/60000 [==============================] - 3s 55us/step - loss: 0.1281 - val_loss: 0.1257\n",
      "Epoch 25/50\n",
      "60000/60000 [==============================] - 3s 55us/step - loss: 0.1263 - val_loss: 0.1239\n",
      "Epoch 26/50\n",
      "60000/60000 [==============================] - 3s 54us/step - loss: 0.1246 - val_loss: 0.1223\n",
      "Epoch 27/50\n",
      "60000/60000 [==============================] - 3s 56us/step - loss: 0.1230 - val_loss: 0.1207\n",
      "Epoch 28/50\n",
      "60000/60000 [==============================] - 3s 55us/step - loss: 0.1215 - val_loss: 0.1191\n",
      "Epoch 29/50\n",
      "60000/60000 [==============================] - 3s 54us/step - loss: 0.1200 - val_loss: 0.1177\n",
      "Epoch 30/50\n",
      "60000/60000 [==============================] - 3s 55us/step - loss: 0.1186 - val_loss: 0.1164\n",
      "Epoch 31/50\n",
      "60000/60000 [==============================] - 3s 54us/step - loss: 0.1173 - val_loss: 0.1152\n",
      "Epoch 32/50\n",
      "60000/60000 [==============================] - 3s 54us/step - loss: 0.1161 - val_loss: 0.1140\n",
      "Epoch 33/50\n",
      "60000/60000 [==============================] - 3s 54us/step - loss: 0.1150 - val_loss: 0.1129\n",
      "Epoch 34/50\n",
      "60000/60000 [==============================] - 3s 54us/step - loss: 0.1139 - val_loss: 0.1118\n",
      "Epoch 35/50\n",
      "60000/60000 [==============================] - 3s 54us/step - loss: 0.1129 - val_loss: 0.1109\n",
      "Epoch 36/50\n",
      "60000/60000 [==============================] - 3s 55us/step - loss: 0.1120 - val_loss: 0.1100\n",
      "Epoch 37/50\n",
      "60000/60000 [==============================] - 3s 54us/step - loss: 0.1111 - val_loss: 0.1091\n",
      "Epoch 38/50\n",
      "60000/60000 [==============================] - 3s 53us/step - loss: 0.1103 - val_loss: 0.1084\n",
      "Epoch 39/50\n",
      "60000/60000 [==============================] - 3s 55us/step - loss: 0.1096 - val_loss: 0.1077\n",
      "Epoch 40/50\n",
      "60000/60000 [==============================] - 3s 56us/step - loss: 0.1089 - val_loss: 0.1069\n",
      "Epoch 41/50\n",
      "60000/60000 [==============================] - 3s 54us/step - loss: 0.1082 - val_loss: 0.1063\n",
      "Epoch 42/50\n",
      "60000/60000 [==============================] - 3s 54us/step - loss: 0.1076 - val_loss: 0.1057\n",
      "Epoch 43/50\n",
      "60000/60000 [==============================] - 3s 54us/step - loss: 0.1070 - val_loss: 0.1051\n",
      "Epoch 44/50\n",
      "60000/60000 [==============================] - 3s 54us/step - loss: 0.1065 - val_loss: 0.1046\n",
      "Epoch 45/50\n",
      "60000/60000 [==============================] - 3s 54us/step - loss: 0.1060 - val_loss: 0.1041\n",
      "Epoch 46/50\n",
      "60000/60000 [==============================] - 3s 54us/step - loss: 0.1055 - val_loss: 0.1037\n",
      "Epoch 47/50\n",
      "60000/60000 [==============================] - 3s 54us/step - loss: 0.1050 - val_loss: 0.1033\n",
      "Epoch 48/50\n",
      "60000/60000 [==============================] - 3s 54us/step - loss: 0.1046 - val_loss: 0.1028\n",
      "Epoch 49/50\n",
      "60000/60000 [==============================] - 3s 54us/step - loss: 0.1042 - val_loss: 0.1024\n",
      "Epoch 50/50\n",
      "60000/60000 [==============================] - 3s 54us/step - loss: 0.1038 - val_loss: 0.1021\n"
     ]
    },
    {
     "data": {
      "text/plain": [
       "<keras.callbacks.History at 0x1ff0a24d748>"
      ]
     },
     "execution_count": 11,
     "metadata": {},
     "output_type": "execute_result"
    }
   ],
   "source": [
    "autoencoder.fit(x_train, x_train, epochs=50, batch_size=256, shuffle=True, validation_data=(x_test, x_test))"
   ]
  },
  {
   "cell_type": "code",
   "execution_count": 12,
   "metadata": {},
   "outputs": [],
   "source": [
    "encoded_imgs = encoder.predict(x_test)\n",
    "decoded_imgs = decoder.predict(encoded_imgs)"
   ]
  },
  {
   "cell_type": "code",
   "execution_count": 14,
   "metadata": {},
   "outputs": [],
   "source": [
    "import matplotlib.pyplot as plt"
   ]
  },
  {
   "cell_type": "code",
   "execution_count": 15,
   "metadata": {},
   "outputs": [],
   "source": [
    "%matplotlib inline"
   ]
  },
  {
   "cell_type": "code",
   "execution_count": 16,
   "metadata": {},
   "outputs": [
    {
     "data": {
      "image/png": "[encoded data removed]",
      "text/plain": [
       "<Figure size 1440x288 with 20 Axes>"
      ]
     },
     "metadata": {
      "needs_background": "light"
     },
     "output_type": "display_data"
    }
   ],
   "source": [
    "n = 10\n",
    "plt.figure(figsize=(20, 4))\n",
    "\n",
    "for i in range(n):\n",
    "    ax = plt.subplot(2, n, i+1)\n",
    "    plt.imshow(x_test[i].reshape(28, 28))\n",
    "    plt.gray()\n",
    "    ax.get_xaxis().set_visible(False)\n",
    "    ax.get_yaxis().set_visible(False)\n",
    "    \n",
    "    ax = plt.subplot(2, n, i+1+n)\n",
    "    plt.imshow(decoded_imgs[i].reshape(28, 28))\n",
    "    plt.gray()\n",
    "    ax.get_xaxis().set_visible(False)\n",
    "    ax.get_yaxis().set_visible(False)\n",
    "\n",
    "plt.show()"
   ]
  },
  {
   "cell_type": "markdown",
   "metadata": {},
   "source": [
    "### Sparse Autoencoder"
   ]
  },
  {
   "cell_type": "code",
   "execution_count": 1,
   "metadata": {},
   "outputs": [
    {
     "name": "stderr",
     "output_type": "stream",
     "text": [
      "Using TensorFlow backend.\n"
     ]
    }
   ],
   "source": [
    "from keras.layers import Input, Dense\n",
    "from keras.models import Model\n",
    "from keras import regularizers"
   ]
  },
  {
   "cell_type": "code",
   "execution_count": 2,
   "metadata": {},
   "outputs": [],
   "source": [
    "encoding_dim = 32\n",
    "input_img = Input(shape=(784,))"
   ]
  },
  {
   "cell_type": "code",
   "execution_count": 3,
   "metadata": {},
   "outputs": [
    {
     "name": "stdout",
     "output_type": "stream",
     "text": [
      "WARNING:tensorflow:From C:\\Anaconda3\\lib\\site-packages\\tensorflow\\python\\framework\\op_def_library.py:263: colocate_with (from tensorflow.python.framework.ops) is deprecated and will be removed in a future version.\n",
      "Instructions for updating:\n",
      "Colocations handled automatically by placer.\n"
     ]
    }
   ],
   "source": [
    "encoded = Dense(encoding_dim, activation='relu', activity_regularizer=regularizers.l1(1e-6))(input_img)\n",
    "decoded = Dense(784, activation='sigmoid')(encoded)"
   ]
  },
  {
   "cell_type": "code",
   "execution_count": 4,
   "metadata": {},
   "outputs": [],
   "source": [
    "autoencoder = Model(input_img, decoded)"
   ]
  },
  {
   "cell_type": "code",
   "execution_count": 8,
   "metadata": {},
   "outputs": [],
   "source": [
    "encoder = Model(input_img, encoded)\n",
    "\n",
    "encoded_input = Input(shape=(encoding_dim,))\n",
    "\n",
    "decoder_layer = autoencoder.layers[-1]\n",
    "\n",
    "decoder = Model(encoded_input, decoder_layer(encoded_input))"
   ]
  },
  {
   "cell_type": "code",
   "execution_count": 9,
   "metadata": {},
   "outputs": [],
   "source": [
    "autoencoder.compile(optimizer='adadelta', loss='binary_crossentropy')"
   ]
  },
  {
   "cell_type": "code",
   "execution_count": 10,
   "metadata": {},
   "outputs": [],
   "source": [
    "from keras.datasets import mnist\n",
    "import numpy as np"
   ]
  },
  {
   "cell_type": "code",
   "execution_count": 11,
   "metadata": {},
   "outputs": [
    {
     "name": "stdout",
     "output_type": "stream",
     "text": [
      "x_train.shape: (60000, 784)\n",
      "x_test.shape: (10000, 784)\n"
     ]
    }
   ],
   "source": [
    "(x_train, _), (x_test, _) = mnist.load_data()\n",
    "x_train = x_train.astype('float32') / 255.\n",
    "x_test = x_test.astype('float32') / 255.\n",
    "x_train = x_train.reshape((len(x_train)), np.prod(x_train.shape[1:]))\n",
    "x_test = x_test.reshape((len(x_test), np.prod(x_test.shape[1:])))\n",
    "\n",
    "print('x_train.shape: {}'.format(x_train.shape))\n",
    "print('x_test.shape: {}'.format(x_test.shape))"
   ]
  },
  {
   "cell_type": "code",
   "execution_count": 12,
   "metadata": {},
   "outputs": [
    {
     "name": "stdout",
     "output_type": "stream",
     "text": [
      "WARNING:tensorflow:From C:\\Anaconda3\\lib\\site-packages\\tensorflow\\python\\ops\\math_ops.py:3066: to_int32 (from tensorflow.python.ops.math_ops) is deprecated and will be removed in a future version.\n",
      "Instructions for updating:\n",
      "Use tf.cast instead.\n",
      "Train on 60000 samples, validate on 10000 samples\n",
      "Epoch 1/50\n",
      "60000/60000 [==============================] - 4s 67us/step - loss: 0.3757 - val_loss: 0.2877\n",
      "Epoch 2/50\n",
      "60000/60000 [==============================] - 3s 54us/step - loss: 0.2821 - val_loss: 0.2747\n",
      "Epoch 3/50\n",
      "60000/60000 [==============================] - 3s 54us/step - loss: 0.2677 - val_loss: 0.2595\n",
      "Epoch 4/50\n",
      "60000/60000 [==============================] - 3s 54us/step - loss: 0.2537 - val_loss: 0.2455\n",
      "Epoch 5/50\n",
      "60000/60000 [==============================] - 3s 54us/step - loss: 0.2400 - val_loss: 0.2316\n",
      "Epoch 6/50\n",
      "60000/60000 [==============================] - 3s 56us/step - loss: 0.2273 - val_loss: 0.2199\n",
      "Epoch 7/50\n",
      "60000/60000 [==============================] - 3s 58us/step - loss: 0.2170 - val_loss: 0.2109\n",
      "Epoch 8/50\n",
      "60000/60000 [==============================] - 3s 55us/step - loss: 0.2092 - val_loss: 0.2043\n",
      "Epoch 9/50\n",
      "60000/60000 [==============================] - 3s 56us/step - loss: 0.2035 - val_loss: 0.1995\n",
      "Epoch 10/50\n",
      "60000/60000 [==============================] - 3s 57us/step - loss: 0.1992 - val_loss: 0.1959\n",
      "Epoch 11/50\n",
      "60000/60000 [==============================] - 3s 56us/step - loss: 0.1959 - val_loss: 0.1928\n",
      "Epoch 12/50\n",
      "60000/60000 [==============================] - 4s 59us/step - loss: 0.1930 - val_loss: 0.1902\n",
      "Epoch 13/50\n",
      "60000/60000 [==============================] - 3s 56us/step - loss: 0.1905 - val_loss: 0.1878\n",
      "Epoch 14/50\n",
      "60000/60000 [==============================] - 3s 56us/step - loss: 0.1881 - val_loss: 0.1854\n",
      "Epoch 15/50\n",
      "60000/60000 [==============================] - 3s 56us/step - loss: 0.1857 - val_loss: 0.1831\n",
      "Epoch 16/50\n",
      "60000/60000 [==============================] - 3s 57us/step - loss: 0.1834 - val_loss: 0.1808\n",
      "Epoch 17/50\n",
      "60000/60000 [==============================] - 3s 56us/step - loss: 0.1811 - val_loss: 0.1786\n",
      "Epoch 18/50\n",
      "60000/60000 [==============================] - 3s 56us/step - loss: 0.1789 - val_loss: 0.1765\n",
      "Epoch 19/50\n",
      "60000/60000 [==============================] - 3s 57us/step - loss: 0.1769 - val_loss: 0.1744\n",
      "Epoch 20/50\n",
      "60000/60000 [==============================] - 3s 57us/step - loss: 0.1750 - val_loss: 0.1725\n",
      "Epoch 21/50\n",
      "60000/60000 [==============================] - 3s 56us/step - loss: 0.1731 - val_loss: 0.1707\n",
      "Epoch 22/50\n",
      "60000/60000 [==============================] - 3s 56us/step - loss: 0.1714 - val_loss: 0.1690\n",
      "Epoch 23/50\n",
      "60000/60000 [==============================] - 3s 56us/step - loss: 0.1697 - val_loss: 0.1674\n",
      "Epoch 24/50\n",
      "60000/60000 [==============================] - 3s 56us/step - loss: 0.1682 - val_loss: 0.1659\n",
      "Epoch 25/50\n",
      "60000/60000 [==============================] - 3s 56us/step - loss: 0.1667 - val_loss: 0.1644\n",
      "Epoch 26/50\n",
      "60000/60000 [==============================] - 3s 56us/step - loss: 0.1653 - val_loss: 0.1630\n",
      "Epoch 27/50\n",
      "60000/60000 [==============================] - 3s 56us/step - loss: 0.1639 - val_loss: 0.1618\n",
      "Epoch 28/50\n",
      "60000/60000 [==============================] - 3s 57us/step - loss: 0.1627 - val_loss: 0.1605\n",
      "Epoch 29/50\n",
      "60000/60000 [==============================] - 3s 57us/step - loss: 0.1615 - val_loss: 0.1593\n",
      "Epoch 30/50\n",
      "60000/60000 [==============================] - 3s 56us/step - loss: 0.1603 - val_loss: 0.1582\n",
      "Epoch 31/50\n",
      "60000/60000 [==============================] - 3s 56us/step - loss: 0.1593 - val_loss: 0.1572\n",
      "Epoch 32/50\n",
      "60000/60000 [==============================] - 3s 57us/step - loss: 0.1583 - val_loss: 0.1562\n",
      "Epoch 33/50\n",
      "60000/60000 [==============================] - 3s 56us/step - loss: 0.1573 - val_loss: 0.1553\n",
      "Epoch 34/50\n",
      "60000/60000 [==============================] - 3s 56us/step - loss: 0.1564 - val_loss: 0.1544\n",
      "Epoch 35/50\n",
      "60000/60000 [==============================] - 4s 59us/step - loss: 0.1555 - val_loss: 0.1536\n",
      "Epoch 36/50\n",
      "60000/60000 [==============================] - 3s 57us/step - loss: 0.1547 - val_loss: 0.1528\n",
      "Epoch 37/50\n",
      "60000/60000 [==============================] - 3s 55us/step - loss: 0.1540 - val_loss: 0.1520\n",
      "Epoch 38/50\n",
      "60000/60000 [==============================] - 3s 54us/step - loss: 0.1533 - val_loss: 0.1513\n",
      "Epoch 39/50\n",
      "60000/60000 [==============================] - 3s 54us/step - loss: 0.1526 - val_loss: 0.1507\n",
      "Epoch 40/50\n",
      "60000/60000 [==============================] - 3s 56us/step - loss: 0.1520 - val_loss: 0.1501\n",
      "Epoch 41/50\n",
      "60000/60000 [==============================] - 4s 62us/step - loss: 0.1514 - val_loss: 0.1495\n",
      "Epoch 42/50\n",
      "60000/60000 [==============================] - 4s 63us/step - loss: 0.1508 - val_loss: 0.1490\n",
      "Epoch 43/50\n",
      "60000/60000 [==============================] - 3s 58us/step - loss: 0.1503 - val_loss: 0.1485\n",
      "Epoch 44/50\n",
      "60000/60000 [==============================] - 3s 54us/step - loss: 0.1498 - val_loss: 0.1480\n",
      "Epoch 45/50\n",
      "60000/60000 [==============================] - 3s 54us/step - loss: 0.1494 - val_loss: 0.1476\n",
      "Epoch 46/50\n",
      "60000/60000 [==============================] - 4s 72us/step - loss: 0.1490 - val_loss: 0.1472- ETA: 0s\n",
      "Epoch 47/50\n",
      "60000/60000 [==============================] - 5s 81us/step - loss: 0.1486 - val_loss: 0.1468\n",
      "Epoch 48/50\n",
      "60000/60000 [==============================] - 5s 76us/step - loss: 0.1482 - val_loss: 0.1464\n",
      "Epoch 49/50\n",
      "60000/60000 [==============================] - 4s 70us/step - loss: 0.1479 - val_loss: 0.1461\n",
      "Epoch 50/50\n",
      "60000/60000 [==============================] - 4s 70us/step - loss: 0.1476 - val_loss: 0.1458\n"
     ]
    },
    {
     "data": {
      "text/plain": [
       "<keras.callbacks.History at 0x152aa98a160>"
      ]
     },
     "execution_count": 12,
     "metadata": {},
     "output_type": "execute_result"
    }
   ],
   "source": [
    "autoencoder.fit(x_train, x_train, epochs=50, batch_size=256, shuffle=True, validation_data=(x_test, x_test))"
   ]
  },
  {
   "cell_type": "code",
   "execution_count": 13,
   "metadata": {},
   "outputs": [
    {
     "name": "stdout",
     "output_type": "stream",
     "text": [
      "encoded_imgs.mean(): 1.7771519422531128\n",
      "decoded_imgs.mean(): 0.1332922875881195\n"
     ]
    }
   ],
   "source": [
    "encoded_imgs = encoder.predict(x_test)\n",
    "decoded_imgs = decoder.predict(encoded_imgs)\n",
    "print('encoded_imgs.mean(): {}'.format(encoded_imgs.mean()))\n",
    "print('decoded_imgs.mean(): {}'.format(decoded_imgs.mean()))"
   ]
  },
  {
   "cell_type": "code",
   "execution_count": 15,
   "metadata": {},
   "outputs": [],
   "source": [
    "import matplotlib.pyplot as plt"
   ]
  },
  {
   "cell_type": "code",
   "execution_count": 16,
   "metadata": {},
   "outputs": [],
   "source": [
    "%matplotlib inline"
   ]
  },
  {
   "cell_type": "code",
   "execution_count": 17,
   "metadata": {},
   "outputs": [
    {
     "data": {
      "image/png": "[encoded data removed]",
      "text/plain": [
       "<Figure size 1440x288 with 20 Axes>"
      ]
     },
     "metadata": {
      "needs_background": "light"
     },
     "output_type": "display_data"
    }
   ],
   "source": [
    "n = 10\n",
    "plt.figure(figsize=(20, 4))\n",
    "\n",
    "for i in range(n):\n",
    "    ax = plt.subplot(2, n, i+1)\n",
    "    plt.imshow(x_test[i].reshape(28, 28))\n",
    "    plt.gray()\n",
    "    ax.get_xaxis().set_visible(False)\n",
    "    ax.get_yaxis().set_visible(False)\n",
    "    \n",
    "    ax = plt.subplot(2, n, i+1+n)\n",
    "    plt.imshow(decoded_imgs[i].reshape(28, 28))\n",
    "    plt.gray()\n",
    "    ax.get_xaxis().set_visible(False)\n",
    "    ax.get_yaxis().set_visible(False)\n",
    "\n",
    "plt.show()"
   ]
  },
  {
   "cell_type": "markdown",
   "metadata": {},
   "source": [
    "### Deep Autoencoder"
   ]
  },
  {
   "cell_type": "code",
   "execution_count": 1,
   "metadata": {},
   "outputs": [
    {
     "name": "stderr",
     "output_type": "stream",
     "text": [
      "Using TensorFlow backend.\n"
     ]
    }
   ],
   "source": [
    "from keras.layers import Input, Dense\n",
    "from keras.models import Model"
   ]
  },
  {
   "cell_type": "code",
   "execution_count": 2,
   "metadata": {},
   "outputs": [
    {
     "name": "stdout",
     "output_type": "stream",
     "text": [
      "WARNING:tensorflow:From C:\\Anaconda3\\lib\\site-packages\\tensorflow\\python\\framework\\op_def_library.py:263: colocate_with (from tensorflow.python.framework.ops) is deprecated and will be removed in a future version.\n",
      "Instructions for updating:\n",
      "Colocations handled automatically by placer.\n"
     ]
    }
   ],
   "source": [
    "encoding_dim = 32\n",
    "\n",
    "input_img = Input(shape=(784,))\n",
    "\n",
    "encoded = Dense(128, activation='relu')(input_img)\n",
    "encoded = Dense(64, activation='relu')(encoded)\n",
    "encoded = Dense(32, activation='relu')(encoded)\n",
    "\n",
    "decoded = Dense(64, activation='relu')(encoded)\n",
    "decoded = Dense(128, activation='relu')(decoded)\n",
    "decoded = Dense(784, activation='sigmoid')(decoded)"
   ]
  },
  {
   "cell_type": "code",
   "execution_count": 3,
   "metadata": {},
   "outputs": [],
   "source": [
    "from keras.datasets import mnist\n",
    "import numpy as np\n",
    "(x_train, _), (x_test, _) = mnist.load_data()"
   ]
  },
  {
   "cell_type": "code",
   "execution_count": 4,
   "metadata": {},
   "outputs": [
    {
     "name": "stdout",
     "output_type": "stream",
     "text": [
      "(60000, 784)\n",
      "(10000, 784)\n"
     ]
    }
   ],
   "source": [
    "x_train = x_train.astype('float32') / 255.\n",
    "x_test  = x_test.astype('float32') / 255.\n",
    "x_train = x_train.reshape((len(x_train), np.prod(x_train.shape[1:])))\n",
    "x_test  = x_test.reshape((len(x_test), np.prod(x_test.shape[1:])))\n",
    "print(x_train.shape)\n",
    "print(x_test.shape)"
   ]
  },
  {
   "cell_type": "code",
   "execution_count": 5,
   "metadata": {},
   "outputs": [],
   "source": [
    "autoencoder = Model(input_img, decoded)"
   ]
  },
  {
   "cell_type": "code",
   "execution_count": 6,
   "metadata": {},
   "outputs": [],
   "source": [
    "encoder = Model(input_img, encoded)\n",
    "encoded_input = Input(shape=(32,))\n",
    "\n",
    "decoded = autoencoder.layers[-3](encoded_input)\n",
    "decoded = autoencoder.layers[-2](decoded)\n",
    "decoded = autoencoder.layers[-1](decoded)\n",
    "\n",
    "decoder = Model(encoded_input, decoded)"
   ]
  },
  {
   "cell_type": "code",
   "execution_count": 7,
   "metadata": {},
   "outputs": [
    {
     "name": "stdout",
     "output_type": "stream",
     "text": [
      "WARNING:tensorflow:From C:\\Anaconda3\\lib\\site-packages\\tensorflow\\python\\ops\\math_ops.py:3066: to_int32 (from tensorflow.python.ops.math_ops) is deprecated and will be removed in a future version.\n",
      "Instructions for updating:\n",
      "Use tf.cast instead.\n",
      "Train on 60000 samples, validate on 10000 samples\n",
      "Epoch 1/100\n",
      "60000/60000 [==============================] - 3s 57us/step - loss: 0.3338 - val_loss: 0.2631\n",
      "Epoch 2/100\n",
      "60000/60000 [==============================] - 3s 46us/step - loss: 0.2584 - val_loss: 0.2542\n",
      "Epoch 3/100\n",
      "60000/60000 [==============================] - 3s 45us/step - loss: 0.2466 - val_loss: 0.2386\n",
      "Epoch 4/100\n",
      "60000/60000 [==============================] - 3s 44us/step - loss: 0.2312 - val_loss: 0.2207\n",
      "Epoch 5/100\n",
      "60000/60000 [==============================] - 3s 44us/step - loss: 0.2120 - val_loss: 0.2032\n",
      "Epoch 6/100\n",
      "60000/60000 [==============================] - 3s 43us/step - loss: 0.1996 - val_loss: 0.1957\n",
      "Epoch 7/100\n",
      "60000/60000 [==============================] - 3s 42us/step - loss: 0.1891 - val_loss: 0.1803\n",
      "Epoch 8/100\n",
      "60000/60000 [==============================] - 3s 42us/step - loss: 0.1782 - val_loss: 0.1740\n",
      "Epoch 9/100\n",
      "60000/60000 [==============================] - 2s 42us/step - loss: 0.1716 - val_loss: 0.1675\n",
      "Epoch 10/100\n",
      "60000/60000 [==============================] - 2s 41us/step - loss: 0.1658 - val_loss: 0.1613\n",
      "Epoch 11/100\n",
      "60000/60000 [==============================] - 3s 42us/step - loss: 0.1613 - val_loss: 0.1570\n",
      "Epoch 12/100\n",
      "60000/60000 [==============================] - 3s 43us/step - loss: 0.1577 - val_loss: 0.1543\n",
      "Epoch 13/100\n",
      "60000/60000 [==============================] - 3s 49us/step - loss: 0.1549 - val_loss: 0.1509\n",
      "Epoch 14/100\n",
      "60000/60000 [==============================] - 3s 52us/step - loss: 0.1526 - val_loss: 0.1504\n",
      "Epoch 15/100\n",
      "60000/60000 [==============================] - 3s 55us/step - loss: 0.1501 - val_loss: 0.1476\n",
      "Epoch 16/100\n",
      "60000/60000 [==============================] - 3s 51us/step - loss: 0.1474 - val_loss: 0.1478\n",
      "Epoch 17/100\n",
      "60000/60000 [==============================] - 3s 52us/step - loss: 0.1449 - val_loss: 0.1419\n",
      "Epoch 18/100\n",
      "60000/60000 [==============================] - 3s 49us/step - loss: 0.1426 - val_loss: 0.1403\n",
      "Epoch 19/100\n",
      "60000/60000 [==============================] - 3s 48us/step - loss: 0.1405 - val_loss: 0.1357\n",
      "Epoch 20/100\n",
      "60000/60000 [==============================] - 3s 47us/step - loss: 0.1382 - val_loss: 0.1353\n",
      "Epoch 21/100\n",
      "60000/60000 [==============================] - 3s 49us/step - loss: 0.1361 - val_loss: 0.1348\n",
      "Epoch 22/100\n",
      "60000/60000 [==============================] - 3s 50us/step - loss: 0.1341 - val_loss: 0.1315\n",
      "Epoch 23/100\n",
      "60000/60000 [==============================] - 3s 51us/step - loss: 0.1325 - val_loss: 0.1299\n",
      "Epoch 24/100\n",
      "60000/60000 [==============================] - 3s 49us/step - loss: 0.1310 - val_loss: 0.1292\n",
      "Epoch 25/100\n",
      "60000/60000 [==============================] - 3s 50us/step - loss: 0.1295 - val_loss: 0.1267\n",
      "Epoch 26/100\n",
      "60000/60000 [==============================] - 3s 47us/step - loss: 0.1284 - val_loss: 0.1264\n",
      "Epoch 27/100\n",
      "60000/60000 [==============================] - 3s 50us/step - loss: 0.1272 - val_loss: 0.1256\n",
      "Epoch 28/100\n",
      "60000/60000 [==============================] - 3s 50us/step - loss: 0.1260 - val_loss: 0.1239\n",
      "Epoch 29/100\n",
      "60000/60000 [==============================] - 3s 49us/step - loss: 0.1252 - val_loss: 0.1241\n",
      "Epoch 30/100\n",
      "60000/60000 [==============================] - 3s 45us/step - loss: 0.1241 - val_loss: 0.1222\n",
      "Epoch 31/100\n",
      "60000/60000 [==============================] - 3s 42us/step - loss: 0.1232 - val_loss: 0.1222\n",
      "Epoch 32/100\n",
      "60000/60000 [==============================] - 3s 43us/step - loss: 0.1222 - val_loss: 0.1209\n",
      "Epoch 33/100\n",
      "60000/60000 [==============================] - 3s 44us/step - loss: 0.1214 - val_loss: 0.1211\n",
      "Epoch 34/100\n",
      "60000/60000 [==============================] - 3s 43us/step - loss: 0.1207 - val_loss: 0.1190\n",
      "Epoch 35/100\n",
      "60000/60000 [==============================] - 3s 43us/step - loss: 0.1198 - val_loss: 0.1184\n",
      "Epoch 36/100\n",
      "60000/60000 [==============================] - 3s 44us/step - loss: 0.1194 - val_loss: 0.1179\n",
      "Epoch 37/100\n",
      "60000/60000 [==============================] - 3s 45us/step - loss: 0.1186 - val_loss: 0.1164\n",
      "Epoch 38/100\n",
      "60000/60000 [==============================] - 3s 53us/step - loss: 0.1182 - val_loss: 0.1149\n",
      "Epoch 39/100\n",
      "60000/60000 [==============================] - 3s 45us/step - loss: 0.1175 - val_loss: 0.1180\n",
      "Epoch 40/100\n",
      "60000/60000 [==============================] - 3s 46us/step - loss: 0.1170 - val_loss: 0.1164\n",
      "Epoch 41/100\n",
      "60000/60000 [==============================] - 2s 40us/step - loss: 0.1164 - val_loss: 0.1153\n",
      "Epoch 42/100\n",
      "60000/60000 [==============================] - 2s 41us/step - loss: 0.1160 - val_loss: 0.1133\n",
      "Epoch 43/100\n",
      "60000/60000 [==============================] - 2s 40us/step - loss: 0.1154 - val_loss: 0.1132\n",
      "Epoch 44/100\n",
      "60000/60000 [==============================] - 2s 40us/step - loss: 0.1147 - val_loss: 0.1136\n",
      "Epoch 45/100\n",
      "60000/60000 [==============================] - 2s 40us/step - loss: 0.1144 - val_loss: 0.1122\n",
      "Epoch 46/100\n",
      "60000/60000 [==============================] - 2s 40us/step - loss: 0.1139 - val_loss: 0.1135\n",
      "Epoch 47/100\n",
      "60000/60000 [==============================] - 2s 40us/step - loss: 0.1135 - val_loss: 0.1142\n",
      "Epoch 48/100\n",
      "60000/60000 [==============================] - 2s 42us/step - loss: 0.1130 - val_loss: 0.1117\n",
      "Epoch 49/100\n",
      "60000/60000 [==============================] - 3s 46us/step - loss: 0.1126 - val_loss: 0.1119\n",
      "Epoch 50/100\n",
      "60000/60000 [==============================] - ETA: 0s - loss: 0.112 - 3s 43us/step - loss: 0.1121 - val_loss: 0.1116\n",
      "Epoch 51/100\n",
      "60000/60000 [==============================] - 3s 42us/step - loss: 0.1117 - val_loss: 0.1114\n",
      "Epoch 52/100\n",
      "60000/60000 [==============================] - 2s 41us/step - loss: 0.1113 - val_loss: 0.1097\n",
      "Epoch 53/100\n",
      "60000/60000 [==============================] - 3s 42us/step - loss: 0.1109 - val_loss: 0.1095\n",
      "Epoch 54/100\n",
      "60000/60000 [==============================] - 2s 40us/step - loss: 0.1104 - val_loss: 0.1078\n",
      "Epoch 55/100\n",
      "60000/60000 [==============================] - 2s 40us/step - loss: 0.1101 - val_loss: 0.1078\n",
      "Epoch 56/100\n",
      "60000/60000 [==============================] - 2s 40us/step - loss: 0.1097 - val_loss: 0.1073\n",
      "Epoch 57/100\n",
      "60000/60000 [==============================] - 3s 44us/step - loss: 0.1093 - val_loss: 0.1086\n",
      "Epoch 58/100\n",
      "60000/60000 [==============================] - 2s 41us/step - loss: 0.1090 - val_loss: 0.1068\n",
      "Epoch 59/100\n",
      "60000/60000 [==============================] - 2s 41us/step - loss: 0.1085 - val_loss: 0.1084\n",
      "Epoch 60/100\n",
      "60000/60000 [==============================] - 2s 41us/step - loss: 0.1083 - val_loss: 0.1084\n",
      "Epoch 61/100\n",
      "60000/60000 [==============================] - 2s 40us/step - loss: 0.1077 - val_loss: 0.1063\n",
      "Epoch 62/100\n",
      "60000/60000 [==============================] - 2s 40us/step - loss: 0.1076 - val_loss: 0.1045\n",
      "Epoch 63/100\n",
      "60000/60000 [==============================] - 2s 40us/step - loss: 0.1072 - val_loss: 0.1074\n",
      "Epoch 64/100\n",
      "60000/60000 [==============================] - 2s 40us/step - loss: 0.1070 - val_loss: 0.1061\n",
      "Epoch 65/100\n",
      "60000/60000 [==============================] - 2s 40us/step - loss: 0.1067 - val_loss: 0.1064\n",
      "Epoch 66/100\n",
      "60000/60000 [==============================] - 3s 44us/step - loss: 0.1065 - val_loss: 0.1053\n",
      "Epoch 67/100\n",
      "60000/60000 [==============================] - 2s 42us/step - loss: 0.1062 - val_loss: 0.1050\n",
      "Epoch 68/100\n",
      "60000/60000 [==============================] - 2s 40us/step - loss: 0.1059 - val_loss: 0.1028\n",
      "Epoch 69/100\n",
      "60000/60000 [==============================] - 2s 40us/step - loss: 0.1057 - val_loss: 0.1046\n",
      "Epoch 70/100\n",
      "60000/60000 [==============================] - 2s 41us/step - loss: 0.1055 - val_loss: 0.1054\n",
      "Epoch 71/100\n",
      "60000/60000 [==============================] - 3s 42us/step - loss: 0.1053 - val_loss: 0.1032\n",
      "Epoch 72/100\n",
      "60000/60000 [==============================] - 2s 40us/step - loss: 0.1050 - val_loss: 0.1054\n",
      "Epoch 73/100\n",
      "60000/60000 [==============================] - 2s 40us/step - loss: 0.1048 - val_loss: 0.1032\n",
      "Epoch 74/100\n",
      "60000/60000 [==============================] - 2s 40us/step - loss: 0.1046 - val_loss: 0.1034\n",
      "Epoch 75/100\n",
      "60000/60000 [==============================] - 3s 42us/step - loss: 0.1044 - val_loss: 0.1028\n",
      "Epoch 76/100\n",
      "60000/60000 [==============================] - 2s 42us/step - loss: 0.1042 - val_loss: 0.1026\n",
      "Epoch 77/100\n",
      "60000/60000 [==============================] - 2s 41us/step - loss: 0.1041 - val_loss: 0.1043\n",
      "Epoch 78/100\n",
      "60000/60000 [==============================] - 3s 43us/step - loss: 0.1039 - val_loss: 0.1039\n",
      "Epoch 79/100\n",
      "60000/60000 [==============================] - 2s 41us/step - loss: 0.1036 - val_loss: 0.1027\n",
      "Epoch 80/100\n",
      "60000/60000 [==============================] - 2s 41us/step - loss: 0.1034 - val_loss: 0.1048\n",
      "Epoch 81/100\n",
      "60000/60000 [==============================] - 2s 41us/step - loss: 0.1032 - val_loss: 0.1033\n",
      "Epoch 82/100\n",
      "60000/60000 [==============================] - 3s 43us/step - loss: 0.1030 - val_loss: 0.1028\n",
      "Epoch 83/100\n",
      "60000/60000 [==============================] - 2s 41us/step - loss: 0.1030 - val_loss: 0.1033\n",
      "Epoch 84/100\n",
      "60000/60000 [==============================] - 2s 42us/step - loss: 0.1027 - val_loss: 0.1013\n",
      "Epoch 85/100\n",
      "60000/60000 [==============================] - 3s 43us/step - loss: 0.1023 - val_loss: 0.1038\n",
      "Epoch 86/100\n",
      "60000/60000 [==============================] - 3s 42us/step - loss: 0.1024 - val_loss: 0.1012\n",
      "Epoch 87/100\n",
      "60000/60000 [==============================] - 3s 42us/step - loss: 0.1022 - val_loss: 0.1003\n",
      "Epoch 88/100\n",
      "60000/60000 [==============================] - 3s 43us/step - loss: 0.1019 - val_loss: 0.1017\n",
      "Epoch 89/100\n",
      "60000/60000 [==============================] - 3s 42us/step - loss: 0.1017 - val_loss: 0.1021\n",
      "Epoch 90/100\n",
      "60000/60000 [==============================] - 3s 44us/step - loss: 0.1015 - val_loss: 0.1009\n",
      "Epoch 91/100\n",
      "60000/60000 [==============================] - 3s 47us/step - loss: 0.1014 - val_loss: 0.1002\n",
      "Epoch 92/100\n",
      "60000/60000 [==============================] - 3s 46us/step - loss: 0.1013 - val_loss: 0.0983\n",
      "Epoch 93/100\n",
      "60000/60000 [==============================] - 3s 42us/step - loss: 0.1011 - val_loss: 0.1010\n",
      "Epoch 94/100\n",
      "60000/60000 [==============================] - 3s 43us/step - loss: 0.1009 - val_loss: 0.1008\n",
      "Epoch 95/100\n",
      "60000/60000 [==============================] - 3s 43us/step - loss: 0.1008 - val_loss: 0.0999\n",
      "Epoch 96/100\n",
      "60000/60000 [==============================] - 2s 40us/step - loss: 0.1006 - val_loss: 0.0986\n",
      "Epoch 97/100\n",
      "60000/60000 [==============================] - 2s 41us/step - loss: 0.1003 - val_loss: 0.1008\n",
      "Epoch 98/100\n",
      "60000/60000 [==============================] - 2s 40us/step - loss: 0.1003 - val_loss: 0.0978\n",
      "Epoch 99/100\n",
      "60000/60000 [==============================] - 3s 42us/step - loss: 0.1001 - val_loss: 0.0985\n",
      "Epoch 100/100\n",
      "60000/60000 [==============================] - 2s 40us/step - loss: 0.1000 - val_loss: 0.0999\n"
     ]
    },
    {
     "data": {
      "text/plain": [
       "<keras.callbacks.History at 0x17fc3ae6e80>"
      ]
     },
     "execution_count": 7,
     "metadata": {},
     "output_type": "execute_result"
    }
   ],
   "source": [
    "autoencoder.compile(optimizer='adadelta', loss='binary_crossentropy')\n",
    "\n",
    "autoencoder.fit(x_train, x_train, epochs=100, batch_size=256, shuffle=True, validation_data=(x_test, x_test))"
   ]
  },
  {
   "cell_type": "code",
   "execution_count": 8,
   "metadata": {},
   "outputs": [],
   "source": [
    "encoded_imgs = encoder.predict(x_test)\n",
    "decoded_imgs = decoder.predict(encoded_imgs)"
   ]
  },
  {
   "cell_type": "code",
   "execution_count": 10,
   "metadata": {},
   "outputs": [
    {
     "data": {
      "image/png": "[encoded data removed]",
      "text/plain": [
       "<Figure size 1440x288 with 20 Axes>"
      ]
     },
     "metadata": {
      "needs_background": "light"
     },
     "output_type": "display_data"
    }
   ],
   "source": [
    "%matplotlib inline\n",
    "\n",
    "import matplotlib.pyplot as plt\n",
    "\n",
    "n = 10\n",
    "plt.figure(figsize=(20, 4))\n",
    "\n",
    "for i in range(n):\n",
    "    ax = plt.subplot(2, n, i+1)\n",
    "    plt.imshow(x_test[i].reshape(28, 28))\n",
    "    plt.gray()\n",
    "    ax.get_xaxis().set_visible(False)\n",
    "    ax.get_yaxis().set_visible(False)\n",
    "    \n",
    "    ax = plt.subplot(2, n, i+1+n)\n",
    "    plt.imshow(decoded_imgs[i].reshape(28, 28))\n",
    "    plt.gray()\n",
    "    ax.get_xaxis().set_visible(False)\n",
    "    ax.get_yaxis().set_visible(False)\n",
    "plt.show()"
   ]
  },
  {
   "cell_type": "markdown",
   "metadata": {},
   "source": [
    "### Convolutional autoencoder"
   ]
  },
  {
   "cell_type": "code",
   "execution_count": 1,
   "metadata": {},
   "outputs": [
    {
     "name": "stderr",
     "output_type": "stream",
     "text": [
      "Using TensorFlow backend.\n"
     ]
    }
   ],
   "source": [
    "from keras.layers import Input, Dense, Conv2D, MaxPooling2D, UpSampling2D\n",
    "from keras.models import Model\n",
    "from keras import backend as K"
   ]
  },
  {
   "cell_type": "code",
   "execution_count": 2,
   "metadata": {},
   "outputs": [],
   "source": [
    "input_img = Input(shape=(28, 28, 1))"
   ]
  },
  {
   "cell_type": "code",
   "execution_count": 3,
   "metadata": {},
   "outputs": [
    {
     "name": "stdout",
     "output_type": "stream",
     "text": [
      "WARNING:tensorflow:From C:\\Anaconda3\\lib\\site-packages\\tensorflow\\python\\framework\\op_def_library.py:263: colocate_with (from tensorflow.python.framework.ops) is deprecated and will be removed in a future version.\n",
      "Instructions for updating:\n",
      "Colocations handled automatically by placer.\n"
     ]
    }
   ],
   "source": [
    "x = Conv2D(16, (3, 3), activation='relu', padding='same')(input_img)\n",
    "x = MaxPooling2D((2, 2), padding='same')(x)\n",
    "x = Conv2D(8, (3, 3), activation='relu', padding='same')(x)\n",
    "x = MaxPooling2D((2, 2), padding='same')(x)\n",
    "x = Conv2D(8, (3, 3), activation='relu', padding='same')(x)\n",
    "encoded = MaxPooling2D((2, 2), padding='same')(x)"
   ]
  },
  {
   "cell_type": "code",
   "execution_count": 4,
   "metadata": {},
   "outputs": [],
   "source": [
    "x = Conv2D(8, (3, 3), activation='relu', padding='same')(encoded)\n",
    "x = UpSampling2D((2, 2))(x)\n",
    "x = Conv2D(8, (3, 3), activation='relu', padding='same')(x)\n",
    "x = UpSampling2D((2, 2))(x)\n",
    "x = Conv2D(16, (3, 3), activation='relu')(x)\n",
    "x = UpSampling2D((2, 2))(x)\n",
    "decoded = Conv2D(1, (3, 3), activation='sigmoid', padding='same')(x)"
   ]
  },
  {
   "cell_type": "code",
   "execution_count": 6,
   "metadata": {},
   "outputs": [],
   "source": [
    "autoencoder = Model(input_img, decoded)\n",
    "autoencoder.compile(optimizer='adadelta', loss='binary_crossentropy')"
   ]
  },
  {
   "cell_type": "code",
   "execution_count": 7,
   "metadata": {},
   "outputs": [],
   "source": [
    "encoder = Model(input_img, encoded)"
   ]
  },
  {
   "cell_type": "code",
   "execution_count": 8,
   "metadata": {},
   "outputs": [],
   "source": [
    "from keras.datasets import mnist\n",
    "import numpy as np\n",
    "\n",
    "(x_train, _), (x_test, _) = mnist.load_data()\n",
    "\n",
    "x_train = x_train.astype('float32') / 255.\n",
    "x_test  = x_test.astype('float32') / 255.\n",
    "x_train = np.reshape(x_train, (len(x_train), 28, 28, 1))\n",
    "x_test  = np.reshape(x_test, (len(x_test), 28, 28, 1))"
   ]
  },
  {
   "cell_type": "code",
   "execution_count": 9,
   "metadata": {},
   "outputs": [],
   "source": [
    "from keras.callbacks import TensorBoard"
   ]
  },
  {
   "cell_type": "code",
   "execution_count": 10,
   "metadata": {},
   "outputs": [
    {
     "name": "stdout",
     "output_type": "stream",
     "text": [
      "WARNING:tensorflow:From C:\\Anaconda3\\lib\\site-packages\\tensorflow\\python\\ops\\math_ops.py:3066: to_int32 (from tensorflow.python.ops.math_ops) is deprecated and will be removed in a future version.\n",
      "Instructions for updating:\n",
      "Use tf.cast instead.\n",
      "Train on 60000 samples, validate on 10000 samples\n",
      "Epoch 1/50\n",
      "60000/60000 [==============================] - 72s 1ms/step - loss: 0.2062 - val_loss: 0.1655\n",
      "Epoch 2/50\n",
      "60000/60000 [==============================] - 71s 1ms/step - loss: 0.1512 - val_loss: 0.1460\n",
      "Epoch 3/50\n",
      "60000/60000 [==============================] - 71s 1ms/step - loss: 0.1383 - val_loss: 0.1317\n",
      "Epoch 4/50\n",
      "60000/60000 [==============================] - 71s 1ms/step - loss: 0.1313 - val_loss: 0.1334\n",
      "Epoch 5/50\n",
      "60000/60000 [==============================] - 71s 1ms/step - loss: 0.1268 - val_loss: 0.1232\n",
      "Epoch 6/50\n",
      "60000/60000 [==============================] - 71s 1ms/step - loss: 0.1232 - val_loss: 0.1205\n",
      "Epoch 7/50\n",
      "60000/60000 [==============================] - 71s 1ms/step - loss: 0.1208 - val_loss: 0.1176\n",
      "Epoch 8/50\n",
      "60000/60000 [==============================] - 71s 1ms/step - loss: 0.1189 - val_loss: 0.1149\n",
      "Epoch 9/50\n",
      "60000/60000 [==============================] - 71s 1ms/step - loss: 0.1170 - val_loss: 0.1178\n",
      "Epoch 10/50\n",
      "60000/60000 [==============================] - 71s 1ms/step - loss: 0.1157 - val_loss: 0.1189\n",
      "Epoch 11/50\n",
      "60000/60000 [==============================] - 71s 1ms/step - loss: 0.1147 - val_loss: 0.1108\n",
      "Epoch 12/50\n",
      "60000/60000 [==============================] - 71s 1ms/step - loss: 0.1136 - val_loss: 0.1105\n",
      "Epoch 13/50\n",
      "60000/60000 [==============================] - 71s 1ms/step - loss: 0.1127 - val_loss: 0.1097\n",
      "Epoch 14/50\n",
      "60000/60000 [==============================] - 70s 1ms/step - loss: 0.1120 - val_loss: 0.1077\n",
      "Epoch 15/50\n",
      "60000/60000 [==============================] - 70s 1ms/step - loss: 0.1113 - val_loss: 0.1089\n",
      "Epoch 16/50\n",
      "60000/60000 [==============================] - 75s 1ms/step - loss: 0.1105 - val_loss: 0.1115\n",
      "Epoch 17/50\n",
      "60000/60000 [==============================] - 73s 1ms/step - loss: 0.1100 - val_loss: 0.1073\n",
      "Epoch 18/50\n",
      "60000/60000 [==============================] - 73s 1ms/step - loss: 0.1094 - val_loss: 0.1054\n",
      "Epoch 19/50\n",
      "60000/60000 [==============================] - 74s 1ms/step - loss: 0.1090 - val_loss: 0.1099\n",
      "Epoch 20/50\n",
      "60000/60000 [==============================] - 73s 1ms/step - loss: 0.1083 - val_loss: 0.1070\n",
      "Epoch 21/50\n",
      "60000/60000 [==============================] - 73s 1ms/step - loss: 0.1081 - val_loss: 0.1098\n",
      "Epoch 22/50\n",
      "60000/60000 [==============================] - 71s 1ms/step - loss: 0.1076 - val_loss: 0.1081\n",
      "Epoch 23/50\n",
      "60000/60000 [==============================] - 71s 1ms/step - loss: 0.1072 - val_loss: 0.1053\n",
      "Epoch 24/50\n",
      "60000/60000 [==============================] - 71s 1ms/step - loss: 0.1068 - val_loss: 0.1062\n",
      "Epoch 25/50\n",
      "60000/60000 [==============================] - 73s 1ms/step - loss: 0.1065 - val_loss: 0.1089\n",
      "Epoch 26/50\n",
      "60000/60000 [==============================] - 73s 1ms/step - loss: 0.1063 - val_loss: 0.1065\n",
      "Epoch 27/50\n",
      "60000/60000 [==============================] - 72s 1ms/step - loss: 0.1059 - val_loss: 0.1047\n",
      "Epoch 28/50\n",
      "60000/60000 [==============================] - 72s 1ms/step - loss: 0.1056 - val_loss: 0.1044\n",
      "Epoch 29/50\n",
      "60000/60000 [==============================] - 73s 1ms/step - loss: 0.1056 - val_loss: 0.1029\n",
      "Epoch 30/50\n",
      "60000/60000 [==============================] - 71s 1ms/step - loss: 0.1050 - val_loss: 0.1032\n",
      "Epoch 31/50\n",
      "60000/60000 [==============================] - 71s 1ms/step - loss: 0.1050 - val_loss: 0.1013\n",
      "Epoch 32/50\n",
      "60000/60000 [==============================] - 74s 1ms/step - loss: 0.1048 - val_loss: 0.1043\n",
      "Epoch 33/50\n",
      "60000/60000 [==============================] - 74s 1ms/step - loss: 0.1042 - val_loss: 0.1013\n",
      "Epoch 34/50\n",
      "60000/60000 [==============================] - 73s 1ms/step - loss: 0.1041 - val_loss: 0.1027\n",
      "Epoch 35/50\n",
      "60000/60000 [==============================] - 71s 1ms/step - loss: 0.1041 - val_loss: 0.1025\n",
      "Epoch 36/50\n",
      "60000/60000 [==============================] - 71s 1ms/step - loss: 0.1040 - val_loss: 0.1009\n",
      "Epoch 37/50\n",
      "60000/60000 [==============================] - 71s 1ms/step - loss: 0.1037 - val_loss: 0.1028\n",
      "Epoch 38/50\n",
      "60000/60000 [==============================] - 71s 1ms/step - loss: 0.1036 - val_loss: 0.1019\n",
      "Epoch 39/50\n",
      "60000/60000 [==============================] - 71s 1ms/step - loss: 0.1034 - val_loss: 0.1054\n",
      "Epoch 40/50\n",
      "60000/60000 [==============================] - 71s 1ms/step - loss: 0.1034 - val_loss: 0.1019\n",
      "Epoch 41/50\n",
      "60000/60000 [==============================] - 71s 1ms/step - loss: 0.1030 - val_loss: 0.1021\n",
      "Epoch 42/50\n",
      "60000/60000 [==============================] - 72s 1ms/step - loss: 0.1031 - val_loss: 0.1035\n",
      "Epoch 43/50\n",
      "60000/60000 [==============================] - 71s 1ms/step - loss: 0.1028 - val_loss: 0.1022\n",
      "Epoch 44/50\n",
      "60000/60000 [==============================] - 71s 1ms/step - loss: 0.1025 - val_loss: 0.1001\n",
      "Epoch 45/50\n",
      "60000/60000 [==============================] - 71s 1ms/step - loss: 0.1026 - val_loss: 0.1037\n",
      "Epoch 46/50\n",
      "60000/60000 [==============================] - 72s 1ms/step - loss: 0.1025 - val_loss: 0.1010\n",
      "Epoch 47/50\n",
      "60000/60000 [==============================] - 72s 1ms/step - loss: 0.1022 - val_loss: 0.1042\n",
      "Epoch 48/50\n",
      "60000/60000 [==============================] - 71s 1ms/step - loss: 0.1021 - val_loss: 0.1000\n",
      "Epoch 49/50\n",
      "60000/60000 [==============================] - 72s 1ms/step - loss: 0.1019 - val_loss: 0.0993\n",
      "Epoch 50/50\n",
      "60000/60000 [==============================] - 72s 1ms/step - loss: 0.1018 - val_loss: 0.0983\n"
     ]
    },
    {
     "data": {
      "text/plain": [
       "<keras.callbacks.History at 0x18136085ef0>"
      ]
     },
     "execution_count": 10,
     "metadata": {},
     "output_type": "execute_result"
    }
   ],
   "source": [
    "autoencoder.fit(x_train, x_train, epochs=50, batch_size=128, shuffle=True, validation_data=(x_test, x_test), callbacks=[TensorBoard(log_dir='/tmp/autoencoder')])"
   ]
  },
  {
   "cell_type": "code",
   "execution_count": 13,
   "metadata": {},
   "outputs": [],
   "source": [
    "%matplotlib inline\n",
    "import matplotlib.pyplot as plt"
   ]
  },
  {
   "cell_type": "code",
   "execution_count": 20,
   "metadata": {},
   "outputs": [
    {
     "data": {
      "image/png": "[encoded data removed]",
      "text/plain": [
       "<Figure size 1440x288 with 20 Axes>"
      ]
     },
     "metadata": {
      "needs_background": "light"
     },
     "output_type": "display_data"
    }
   ],
   "source": [
    "decoded_imgs = autoencoder.predict(x_test)\n",
    "\n",
    "n = 10\n",
    "plt.figure(figsize=(20, 4))\n",
    "for i in range(n):\n",
    "    # display original\n",
    "    ax = plt.subplot(2, n, i+1)\n",
    "    plt.imshow(x_test[i].reshape(28, 28))\n",
    "    plt.gray()\n",
    "    ax.get_xaxis().set_visible(False)\n",
    "    ax.get_yaxis().set_visible(False)\n",
    "\n",
    "    # display reconstruction\n",
    "    ax = plt.subplot(2, n, i + n + 1)\n",
    "    plt.imshow(decoded_imgs[i].reshape(28, 28))\n",
    "    plt.gray()\n",
    "    ax.get_xaxis().set_visible(False)\n",
    "    ax.get_yaxis().set_visible(False)\n",
    "plt.show()"
   ]
  },
  {
   "cell_type": "code",
   "execution_count": 23,
   "metadata": {},
   "outputs": [],
   "source": [
    "encoded_imgs = encoder.predict(x_test)"
   ]
  },
  {
   "cell_type": "code",
   "execution_count": 24,
   "metadata": {},
   "outputs": [
    {
     "data": {
      "image/png": "[encoded data removed]",
      "text/plain": [
       "<Figure size 1440x576 with 10 Axes>"
      ]
     },
     "metadata": {
      "needs_background": "light"
     },
     "output_type": "display_data"
    }
   ],
   "source": [
    "n = 10\n",
    "plt.figure(figsize=(20, 8))\n",
    "\n",
    "for i in range(n):\n",
    "    ax = plt.subplot(1, n, i + 1)\n",
    "    plt.imshow(encoded_imgs[i].reshape(4, 4*8).T)\n",
    "    plt.gray()\n",
    "    ax.get_xaxis().set_visible(False)\n",
    "    ax.get_yaxis().set_visible(False)\n",
    "plt.show()"
   ]
  },
  {
   "cell_type": "markdown",
   "metadata": {},
   "source": [
    "### Application to image denoising"
   ]
  },
  {
   "cell_type": "code",
   "execution_count": 35,
   "metadata": {},
   "outputs": [],
   "source": [
    "from keras.datasets import mnist\n",
    "import numpy as np\n",
    "\n",
    "(x_train, _), (x_test, _) = mnist.load_data()\n",
    "\n",
    "x_train = x_train.astype('float32') / 255.\n",
    "x_test  = x_test.astype('float32') / 255.\n",
    "x_train = np.reshape(x_train, (len(x_train), 28, 28, 1))\n",
    "x_test  = np.reshape(x_test, (len(x_test), 28, 28, 1))\n",
    "\n",
    "noise_factor = 0.5\n",
    "x_train_noisy = x_train + noise_factor * np.random.normal(loc=0.0, scale=1.0, size=x_train.shape)\n",
    "x_test_noisy = x_test + noise_factor * np.random.normal(loc=0.0, scale=1.0, size=x_test.shape)\n",
    "\n",
    "x_train_noisy = np.clip(x_train_noisy, 0., 1.)\n",
    "x_test_noisy = np.clip(x_test_noisy, 0., 1.)"
   ]
  },
  {
   "cell_type": "code",
   "execution_count": 36,
   "metadata": {},
   "outputs": [
    {
     "data": {
      "image/png": "[encoded data removed]",
      "text/plain": [
       "<Figure size 1440x144 with 10 Axes>"
      ]
     },
     "metadata": {
      "needs_background": "light"
     },
     "output_type": "display_data"
    }
   ],
   "source": [
    "n = 10\n",
    "plt.figure(figsize=(20, 2))\n",
    "\n",
    "for i in range(n):\n",
    "    ax = plt.subplot(1, n, i + 1)\n",
    "    plt.imshow(x_test_noisy[i].reshape(28, 28))\n",
    "    plt.gray()\n",
    "    ax.get_xaxis().set_visible(False)\n",
    "    ax.get_yaxis().set_visible(False)\n",
    "\n",
    "plt.show()"
   ]
  },
  {
   "cell_type": "code",
   "execution_count": 43,
   "metadata": {},
   "outputs": [],
   "source": [
    "input_img = Input(shape=(28, 28, 1))\n",
    "\n",
    "x = Conv2D(32, (3, 3), activation='relu', padding='same')(input_img)\n",
    "x = MaxPooling2D((2, 2), padding='same')(x)\n",
    "x = Conv2D(32, (3, 3), activation='relu', padding='same')(x)\n",
    "encoded = MaxPooling2D((2, 2), padding='same')(x)\n",
    "\n",
    "x = Conv2D(32, (3, 3), activation='relu', padding='same')(encoded)\n",
    "x = UpSampling2D((2, 2))(x)\n",
    "x = Conv2D(32, (3, 3), activation='relu', padding='same')(x)\n",
    "x = UpSampling2D((2, 2))(x)\n",
    "decoded = Conv2D(1, (3, 3), activation='sigmoid', padding='same')(x)"
   ]
  },
  {
   "cell_type": "code",
   "execution_count": 44,
   "metadata": {},
   "outputs": [],
   "source": [
    "autoencoder = Model(input_img, decoded)\n",
    "autoencoder.compile(optimizer='adadelta', loss='binary_crossentropy')"
   ]
  },
  {
   "cell_type": "code",
   "execution_count": 45,
   "metadata": {},
   "outputs": [
    {
     "name": "stdout",
     "output_type": "stream",
     "text": [
      "Train on 60000 samples, validate on 10000 samples\n",
      "Epoch 1/100\n",
      "60000/60000 [==============================] - 140s 2ms/step - loss: 0.1803 - val_loss: 0.1222\n",
      "Epoch 2/100\n",
      "60000/60000 [==============================] - 143s 2ms/step - loss: 0.1211 - val_loss: 0.1120\n",
      "Epoch 3/100\n",
      "60000/60000 [==============================] - 143s 2ms/step - loss: 0.1133 - val_loss: 0.1090\n",
      "Epoch 4/100\n",
      "60000/60000 [==============================] - 143s 2ms/step - loss: 0.1090 - val_loss: 0.1074\n",
      "Epoch 5/100\n",
      "60000/60000 [==============================] - 142s 2ms/step - loss: 0.1066 - val_loss: 0.1050\n",
      "Epoch 6/100\n",
      "60000/60000 [==============================] - 131s 2ms/step - loss: 0.1049 - val_loss: 0.1032\n",
      "Epoch 7/100\n",
      "60000/60000 [==============================] - 131s 2ms/step - loss: 0.1038 - val_loss: 0.1054\n",
      "Epoch 8/100\n",
      "60000/60000 [==============================] - 131s 2ms/step - loss: 0.1028 - val_loss: 0.1014\n",
      "Epoch 9/100\n",
      "60000/60000 [==============================] - 131s 2ms/step - loss: 0.1022 - val_loss: 0.1007\n",
      "Epoch 10/100\n",
      "60000/60000 [==============================] - 136s 2ms/step - loss: 0.1016 - val_loss: 0.0999\n",
      "Epoch 11/100\n",
      "60000/60000 [==============================] - 145s 2ms/step - loss: 0.1011 - val_loss: 0.0993\n",
      "Epoch 12/100\n",
      "60000/60000 [==============================] - 146s 2ms/step - loss: 0.1007 - val_loss: 0.0992\n",
      "Epoch 13/100\n",
      "60000/60000 [==============================] - 137s 2ms/step - loss: 0.1003 - val_loss: 0.0994\n",
      "Epoch 14/100\n",
      "60000/60000 [==============================] - 137s 2ms/step - loss: 0.1002 - val_loss: 0.1014\n",
      "Epoch 15/100\n",
      "60000/60000 [==============================] - 133s 2ms/step - loss: 0.0997 - val_loss: 0.0981\n",
      "Epoch 16/100\n",
      "60000/60000 [==============================] - 135s 2ms/step - loss: 0.0996 - val_loss: 0.0982\n",
      "Epoch 17/100\n",
      "60000/60000 [==============================] - 135s 2ms/step - loss: 0.0992 - val_loss: 0.1018\n",
      "Epoch 18/100\n",
      "60000/60000 [==============================] - 135s 2ms/step - loss: 0.0991 - val_loss: 0.0977\n",
      "Epoch 19/100\n",
      "60000/60000 [==============================] - 134s 2ms/step - loss: 0.0989 - val_loss: 0.0989\n",
      "Epoch 20/100\n",
      "60000/60000 [==============================] - 136s 2ms/step - loss: 0.0986 - val_loss: 0.0975\n",
      "Epoch 21/100\n",
      "60000/60000 [==============================] - 133s 2ms/step - loss: 0.0984 - val_loss: 0.0973\n",
      "Epoch 22/100\n",
      "60000/60000 [==============================] - 134s 2ms/step - loss: 0.0984 - val_loss: 0.0970\n",
      "Epoch 23/100\n",
      "60000/60000 [==============================] - 135s 2ms/step - loss: 0.0982 - val_loss: 0.0969\n",
      "Epoch 24/100\n",
      "60000/60000 [==============================] - 133s 2ms/step - loss: 0.0980 - val_loss: 0.0968\n",
      "Epoch 25/100\n",
      "60000/60000 [==============================] - 131s 2ms/step - loss: 0.0978 - val_loss: 0.0978\n",
      "Epoch 26/100\n",
      "60000/60000 [==============================] - 130s 2ms/step - loss: 0.0977 - val_loss: 0.0968\n",
      "Epoch 27/100\n",
      "60000/60000 [==============================] - 130s 2ms/step - loss: 0.0976 - val_loss: 0.0965\n",
      "Epoch 28/100\n",
      "60000/60000 [==============================] - 130s 2ms/step - loss: 0.0975 - val_loss: 0.0962\n",
      "Epoch 29/100\n",
      "60000/60000 [==============================] - 130s 2ms/step - loss: 0.0974 - val_loss: 0.0979\n",
      "Epoch 30/100\n",
      "60000/60000 [==============================] - 131s 2ms/step - loss: 0.0974 - val_loss: 0.0965\n",
      "Epoch 31/100\n",
      "60000/60000 [==============================] - 131s 2ms/step - loss: 0.0972 - val_loss: 0.0963\n",
      "Epoch 32/100\n",
      "60000/60000 [==============================] - 131s 2ms/step - loss: 0.0971 - val_loss: 0.0967\n",
      "Epoch 33/100\n",
      "60000/60000 [==============================] - 131s 2ms/step - loss: 0.0970 - val_loss: 0.0958\n",
      "Epoch 34/100\n",
      "60000/60000 [==============================] - 131s 2ms/step - loss: 0.0968 - val_loss: 0.0961\n",
      "Epoch 35/100\n",
      "60000/60000 [==============================] - 130s 2ms/step - loss: 0.0968 - val_loss: 0.0960\n",
      "Epoch 36/100\n",
      "60000/60000 [==============================] - 131s 2ms/step - loss: 0.0966 - val_loss: 0.0977\n",
      "Epoch 37/100\n",
      "60000/60000 [==============================] - 131s 2ms/step - loss: 0.0966 - val_loss: 0.0955\n",
      "Epoch 38/100\n",
      "60000/60000 [==============================] - 130s 2ms/step - loss: 0.0966 - val_loss: 0.0955\n",
      "Epoch 39/100\n",
      "60000/60000 [==============================] - 130s 2ms/step - loss: 0.0966 - val_loss: 0.0957\n",
      "Epoch 40/100\n",
      "60000/60000 [==============================] - 131s 2ms/step - loss: 0.0965 - val_loss: 0.0969\n",
      "Epoch 41/100\n",
      "60000/60000 [==============================] - 130s 2ms/step - loss: 0.0964 - val_loss: 0.0957\n",
      "Epoch 42/100\n",
      "60000/60000 [==============================] - 131s 2ms/step - loss: 0.0963 - val_loss: 0.0959\n",
      "Epoch 43/100\n",
      "60000/60000 [==============================] - 131s 2ms/step - loss: 0.0963 - val_loss: 0.0954\n",
      "Epoch 44/100\n",
      "60000/60000 [==============================] - 131s 2ms/step - loss: 0.0963 - val_loss: 0.0954\n",
      "Epoch 45/100\n",
      "60000/60000 [==============================] - 131s 2ms/step - loss: 0.0961 - val_loss: 0.0961\n",
      "Epoch 46/100\n",
      "60000/60000 [==============================] - 131s 2ms/step - loss: 0.0960 - val_loss: 0.0960\n",
      "Epoch 47/100\n",
      "60000/60000 [==============================] - 131s 2ms/step - loss: 0.0960 - val_loss: 0.0958\n",
      "Epoch 48/100\n",
      "60000/60000 [==============================] - 131s 2ms/step - loss: 0.0959 - val_loss: 0.0951\n",
      "Epoch 49/100\n",
      "60000/60000 [==============================] - 134s 2ms/step - loss: 0.0959 - val_loss: 0.0953\n",
      "Epoch 50/100\n",
      "60000/60000 [==============================] - 132s 2ms/step - loss: 0.0959 - val_loss: 0.0962\n",
      "Epoch 51/100\n",
      "60000/60000 [==============================] - 133s 2ms/step - loss: 0.0959 - val_loss: 0.0951\n",
      "Epoch 52/100\n",
      "60000/60000 [==============================] - 131s 2ms/step - loss: 0.0958 - val_loss: 0.0954\n",
      "Epoch 53/100\n",
      "60000/60000 [==============================] - 132s 2ms/step - loss: 0.0957 - val_loss: 0.0948\n",
      "Epoch 54/100\n",
      "60000/60000 [==============================] - 135s 2ms/step - loss: 0.0956 - val_loss: 0.0949\n",
      "Epoch 55/100\n",
      "60000/60000 [==============================] - 137s 2ms/step - loss: 0.0957 - val_loss: 0.0964\n",
      "Epoch 56/100\n",
      "60000/60000 [==============================] - 133s 2ms/step - loss: 0.0956 - val_loss: 0.0949\n",
      "Epoch 57/100\n",
      "60000/60000 [==============================] - 133s 2ms/step - loss: 0.0955 - val_loss: 0.0953\n",
      "Epoch 58/100\n",
      "60000/60000 [==============================] - 134s 2ms/step - loss: 0.0956 - val_loss: 0.0954\n",
      "Epoch 59/100\n",
      "60000/60000 [==============================] - 138s 2ms/step - loss: 0.0954 - val_loss: 0.0951\n",
      "Epoch 60/100\n",
      "60000/60000 [==============================] - 135s 2ms/step - loss: 0.0954 - val_loss: 0.0947\n",
      "Epoch 61/100\n",
      "60000/60000 [==============================] - 132s 2ms/step - loss: 0.0954 - val_loss: 0.0948\n",
      "Epoch 62/100\n",
      "60000/60000 [==============================] - 130s 2ms/step - loss: 0.0954 - val_loss: 0.0948\n",
      "Epoch 63/100\n",
      "60000/60000 [==============================] - 134s 2ms/step - loss: 0.0953 - val_loss: 0.0952\n",
      "Epoch 64/100\n",
      "60000/60000 [==============================] - 130s 2ms/step - loss: 0.0953 - val_loss: 0.0952\n",
      "Epoch 65/100\n",
      "60000/60000 [==============================] - 130s 2ms/step - loss: 0.0953 - val_loss: 0.0947\n",
      "Epoch 66/100\n",
      "60000/60000 [==============================] - 136s 2ms/step - loss: 0.0953 - val_loss: 0.0956\n",
      "Epoch 67/100\n",
      "60000/60000 [==============================] - 135s 2ms/step - loss: 0.0952 - val_loss: 0.0945\n",
      "Epoch 68/100\n",
      "60000/60000 [==============================] - 131s 2ms/step - loss: 0.0952 - val_loss: 0.0955\n",
      "Epoch 69/100\n",
      "60000/60000 [==============================] - 131s 2ms/step - loss: 0.0951 - val_loss: 0.0948\n",
      "Epoch 70/100\n",
      "60000/60000 [==============================] - 136s 2ms/step - loss: 0.0952 - val_loss: 0.0955\n",
      "Epoch 71/100\n",
      "60000/60000 [==============================] - 134s 2ms/step - loss: 0.0951 - val_loss: 0.0948\n",
      "Epoch 72/100\n",
      "60000/60000 [==============================] - 134s 2ms/step - loss: 0.0950 - val_loss: 0.0943\n",
      "Epoch 73/100\n",
      "60000/60000 [==============================] - 132s 2ms/step - loss: 0.0951 - val_loss: 0.0943\n",
      "Epoch 74/100\n",
      "60000/60000 [==============================] - 133s 2ms/step - loss: 0.0950 - val_loss: 0.0949\n",
      "Epoch 75/100\n",
      "60000/60000 [==============================] - 132s 2ms/step - loss: 0.0949 - val_loss: 0.0949\n",
      "Epoch 76/100\n",
      "60000/60000 [==============================] - 133s 2ms/step - loss: 0.0949 - val_loss: 0.0948\n",
      "Epoch 77/100\n",
      "60000/60000 [==============================] - 133s 2ms/step - loss: 0.0949 - val_loss: 0.0943\n",
      "Epoch 78/100\n",
      "60000/60000 [==============================] - 132s 2ms/step - loss: 0.0949 - val_loss: 0.0941\n",
      "Epoch 79/100\n",
      "60000/60000 [==============================] - 132s 2ms/step - loss: 0.0950 - val_loss: 0.0946\n",
      "Epoch 80/100\n",
      "60000/60000 [==============================] - 133s 2ms/step - loss: 0.0949 - val_loss: 0.0942\n",
      "Epoch 81/100\n",
      "60000/60000 [==============================] - 133s 2ms/step - loss: 0.0948 - val_loss: 0.0942\n",
      "Epoch 82/100\n",
      "60000/60000 [==============================] - 133s 2ms/step - loss: 0.0948 - val_loss: 0.0941\n",
      "Epoch 83/100\n",
      "60000/60000 [==============================] - 134s 2ms/step - loss: 0.0948 - val_loss: 0.0943\n",
      "Epoch 84/100\n",
      "60000/60000 [==============================] - 132s 2ms/step - loss: 0.0947 - val_loss: 0.0944\n",
      "Epoch 85/100\n",
      "60000/60000 [==============================] - 133s 2ms/step - loss: 0.0948 - val_loss: 0.0948\n",
      "Epoch 86/100\n",
      "60000/60000 [==============================] - 134s 2ms/step - loss: 0.0947 - val_loss: 0.0943\n",
      "Epoch 87/100\n",
      "60000/60000 [==============================] - 134s 2ms/step - loss: 0.0947 - val_loss: 0.0945\n",
      "Epoch 88/100\n",
      "60000/60000 [==============================] - 136s 2ms/step - loss: 0.0947 - val_loss: 0.0941\n",
      "Epoch 89/100\n",
      "60000/60000 [==============================] - 133s 2ms/step - loss: 0.0946 - val_loss: 0.0940\n",
      "Epoch 90/100\n",
      "60000/60000 [==============================] - 134s 2ms/step - loss: 0.0946 - val_loss: 0.0944\n",
      "Epoch 91/100\n",
      "60000/60000 [==============================] - 130s 2ms/step - loss: 0.0947 - val_loss: 0.0941\n",
      "Epoch 92/100\n",
      "60000/60000 [==============================] - 130s 2ms/step - loss: 0.0946 - val_loss: 0.0940\n",
      "Epoch 93/100\n",
      "60000/60000 [==============================] - 130s 2ms/step - loss: 0.0946 - val_loss: 0.0945\n",
      "Epoch 94/100\n",
      "60000/60000 [==============================] - 130s 2ms/step - loss: 0.0946 - val_loss: 0.0940\n",
      "Epoch 95/100\n",
      "60000/60000 [==============================] - 131s 2ms/step - loss: 0.0945 - val_loss: 0.0942\n",
      "Epoch 96/100\n",
      "60000/60000 [==============================] - 130s 2ms/step - loss: 0.0946 - val_loss: 0.0939\n",
      "Epoch 97/100\n",
      "60000/60000 [==============================] - 130s 2ms/step - loss: 0.0946 - val_loss: 0.0944\n",
      "Epoch 98/100\n",
      "60000/60000 [==============================] - 130s 2ms/step - loss: 0.0945 - val_loss: 0.0946\n",
      "Epoch 99/100\n",
      "60000/60000 [==============================] - 130s 2ms/step - loss: 0.0945 - val_loss: 0.0946\n",
      "Epoch 100/100\n",
      "60000/60000 [==============================] - 131s 2ms/step - loss: 0.0945 - val_loss: 0.0942\n"
     ]
    },
    {
     "data": {
      "text/plain": [
       "<keras.callbacks.History at 0x1813e68b9b0>"
      ]
     },
     "execution_count": 45,
     "metadata": {},
     "output_type": "execute_result"
    }
   ],
   "source": [
    "autoencoder.fit(x_train_noisy, x_train, epochs=100, batch_size=128, shuffle=True, validation_data=(x_test_noisy, x_test), callbacks=[TensorBoard(log_dir='tmp/tb', histogram_freq=0, write_graph=False)])"
   ]
  },
  {
   "cell_type": "code",
   "execution_count": 47,
   "metadata": {},
   "outputs": [
    {
     "data": {
      "image/png": "[encoded data removed]",
      "text/plain": [
       "<Figure size 1440x288 with 20 Axes>"
      ]
     },
     "metadata": {
      "needs_background": "light"
     },
     "output_type": "display_data"
    }
   ],
   "source": [
    "decoded_imgs = autoencoder.predict(x_test_noisy)\n",
    "\n",
    "n = 10\n",
    "plt.figure(figsize=(20, 4))\n",
    "for i in range(n):\n",
    "    # display original\n",
    "    ax = plt.subplot(2, n, i+1)\n",
    "    plt.imshow(x_test_noisy[i].reshape(28, 28))\n",
    "    plt.gray()\n",
    "    ax.get_xaxis().set_visible(False)\n",
    "    ax.get_yaxis().set_visible(False)\n",
    "\n",
    "    # display reconstruction\n",
    "    ax = plt.subplot(2, n, i + n + 1)\n",
    "    plt.imshow(decoded_imgs[i].reshape(28, 28))\n",
    "    plt.gray()\n",
    "    ax.get_xaxis().set_visible(False)\n",
    "    ax.get_yaxis().set_visible(False)\n",
    "plt.show()"
   ]
  },
  {
   "cell_type": "code",
   "execution_count": 1,
   "metadata": {},
   "outputs": [
    {
     "name": "stderr",
     "output_type": "stream",
     "text": [
      "Using TensorFlow backend.\n"
     ]
    }
   ],
   "source": [
    "#from __future__ import absolute_imoprt\n",
    "#from __future__ import division\n",
    "#from __future__ import print_function\n",
    "\n",
    "from keras.layers import Lambda, Input, Dense\n",
    "from keras.models import Model\n",
    "from keras.datasets import mnist\n",
    "from keras.losses import mse, binary_crossentropy\n",
    "from keras.utils import plot_model\n",
    "from keras import backend as K\n",
    "\n",
    "import numpy as np\n",
    "import matplotlib.pyplot as plt\n",
    "import argparse\n",
    "import os"
   ]
  },
  {
   "cell_type": "code",
   "execution_count": 2,
   "metadata": {},
   "outputs": [],
   "source": [
    "def sampling(args):\n",
    "    \n",
    "    z_mean, z_log_var = args\n",
    "    batch = K.shape(z_mean)[0]\n",
    "    dim = K.int_shape(z_mean)[1]\n",
    "    epsilon = K.random_normal(shape=(batch, dim))\n",
    "    return z_mean + K.exp(0.5 * z_log_var) * epsilon"
   ]
  },
  {
   "cell_type": "code",
   "execution_count": 3,
   "metadata": {},
   "outputs": [],
   "source": [
    "def plot_results(models, data, batch_size=128, model_name=\"vae_mnist\"):\n",
    "    \n",
    "    encoder, decoder = models\n",
    "    x_test, y_test = data\n",
    "    os.makedirs(model_name, exist_ok=True)\n",
    "    \n",
    "    filename = os.path.join(model_name, \"vae_mean.png\")\n",
    "    z_mean, _, _ = encoder.predict(x_test, batch_size=batch_size)\n",
    "    \n",
    "    plt.figure(figsize=(12, 10))\n",
    "    plt.scatter(z_mean[:, 0], z_mean[:, 1], c=y_test)\n",
    "    plt.colorbar()\n",
    "    plt.xlabel(\"z[0]\")\n",
    "    plt.ylabel(\"z[1]\")\n",
    "    plt.savefig(filename)\n",
    "    plt.show()\n",
    "    \n",
    "    filename = os.path.join(model_name, \"digits_over_latent.png\")\n",
    "    \n",
    "    n = 30\n",
    "    digit_size = 28\n",
    "    figure = np.zeros((digit_size * n, digit_size * n))\n",
    "    \n",
    "    grid_x = np.linspace(-4, 4, n)\n",
    "    grid_y = np.linspace(-4, 4, n)[::-1]\n",
    "    \n",
    "    for i, yi in enumerate(grid_y):\n",
    "        for j, xi in enumerate(grid_x):\n",
    "            z_sample = np.array([[xi, yi]])\n",
    "            x_decoded = decoder.predict(z_sample)\n",
    "            digit = x_decoded[0].reshape(digit_size, digit_size)\n",
    "            figure[i * digit_size: (i+1) * digit_size,\n",
    "                   j * digit_size: (j+1) * digit_size] = digit\n",
    "    \n",
    "    plt.figure(figsize=(10, 10))\n",
    "    start_range = digit_size // 2\n",
    "    end_range = (n-1) * digit_size + start_range + 1\n",
    "    pixel_range = np.arange(start_range, end_range, digit_size)\n",
    "    sample_range_x = np.round(grid_x, 1)\n",
    "    sample_renge_y = np.round(grid_y, 1)\n",
    "    plt.xticks(pixel_range, sample_range_x)\n",
    "    plt.yticks(pixel_range, sample_range_y)\n",
    "    plt.xlabel(\"z[0]\")\n",
    "    plt.ylabel(\"z[1]\")\n",
    "    plt.imshow(figure, cmap='Greys_r')\n",
    "    plt.savefig(filename)\n",
    "    plt.show()           "
   ]
  },
  {
   "cell_type": "code",
   "execution_count": 4,
   "metadata": {},
   "outputs": [],
   "source": [
    "(x_train, y_train), (x_test, y_test) = mnist.load_data()\n",
    "\n",
    "image_size = x_train.shape[1]\n",
    "original_dim = image_size * image_size\n",
    "x_train = np.reshape(x_train, [-1, original_dim])\n",
    "x_test = np.reshape(x_test, [-1, original_dim])\n",
    "x_train = x_train.astype('float32') / 255\n",
    "x_test = x_test.astype('float32') / 255"
   ]
  },
  {
   "cell_type": "code",
   "execution_count": 5,
   "metadata": {},
   "outputs": [],
   "source": [
    "input_shape = (original_dim, )\n",
    "intermediate_dim = 512\n",
    "batch_size = 128\n",
    "latent_dim = 2\n",
    "epochs = 50"
   ]
  },
  {
   "cell_type": "code",
   "execution_count": 6,
   "metadata": {},
   "outputs": [
    {
     "name": "stdout",
     "output_type": "stream",
     "text": [
      "WARNING:tensorflow:From C:\\Anaconda3\\lib\\site-packages\\tensorflow\\python\\framework\\op_def_library.py:263: colocate_with (from tensorflow.python.framework.ops) is deprecated and will be removed in a future version.\n",
      "Instructions for updating:\n",
      "Colocations handled automatically by placer.\n"
     ]
    }
   ],
   "source": [
    "inputs = Input(shape=input_shape, name='encoder_input')\n",
    "x = Dense(intermediate_dim, activation='relu')(inputs)\n",
    "z_mean = Dense(latent_dim, name='z_mean')(x)\n",
    "z_log_var = Dense(latent_dim, name='z_log_var')(x)"
   ]
  },
  {
   "cell_type": "code",
   "execution_count": 7,
   "metadata": {},
   "outputs": [],
   "source": [
    "z = Lambda(sampling, output_shape=(latent_dim,), name='z')([z_mean, z_log_var])"
   ]
  },
  {
   "cell_type": "code",
   "execution_count": 8,
   "metadata": {},
   "outputs": [
    {
     "name": "stdout",
     "output_type": "stream",
     "text": [
      "__________________________________________________________________________________________________\n",
      "Layer (type)                    Output Shape         Param #     Connected to                     \n",
      "==================================================================================================\n",
      "encoder_input (InputLayer)      (None, 784)          0                                            \n",
      "__________________________________________________________________________________________________\n",
      "dense_1 (Dense)                 (None, 512)          401920      encoder_input[0][0]              \n",
      "__________________________________________________________________________________________________\n",
      "z_mean (Dense)                  (None, 2)            1026        dense_1[0][0]                    \n",
      "__________________________________________________________________________________________________\n",
      "z_log_var (Dense)               (None, 2)            1026        dense_1[0][0]                    \n",
      "__________________________________________________________________________________________________\n",
      "z (Lambda)                      (None, 2)            0           z_mean[0][0]                     \n",
      "                                                                 z_log_var[0][0]                  \n",
      "==================================================================================================\n",
      "Total params: 403,972\n",
      "Trainable params: 403,972\n",
      "Non-trainable params: 0\n",
      "__________________________________________________________________________________________________\n"
     ]
    },
    {
     "ename": "OSError",
     "evalue": "`pydot` failed to call GraphViz.Please install GraphViz (https://www.graphviz.org/) and ensure that its executables are in the $PATH.",
     "output_type": "error",
     "traceback": [
      "\u001b[1;31m---------------------------------------------------------------------------\u001b[0m",
      "\u001b[1;31mFileNotFoundError\u001b[0m                         Traceback (most recent call last)",
      "\u001b[1;32mC:\\Anaconda3\\lib\\site-packages\\pydot.py\u001b[0m in \u001b[0;36mcreate\u001b[1;34m(self, prog, format, encoding)\u001b[0m\n\u001b[0;32m   1914\u001b[0m                 \u001b[0marguments\u001b[0m\u001b[1;33m=\u001b[0m\u001b[0marguments\u001b[0m\u001b[1;33m,\u001b[0m\u001b[1;33m\u001b[0m\u001b[1;33m\u001b[0m\u001b[0m\n\u001b[1;32m-> 1915\u001b[1;33m                 \u001b[0mworking_dir\u001b[0m\u001b[1;33m=\u001b[0m\u001b[0mtmp_dir\u001b[0m\u001b[1;33m,\u001b[0m\u001b[1;33m\u001b[0m\u001b[1;33m\u001b[0m\u001b[0m\n\u001b[0m\u001b[0;32m   1916\u001b[0m             )\n",
      "\u001b[1;32mC:\\Anaconda3\\lib\\site-packages\\pydot.py\u001b[0m in \u001b[0;36mcall_graphviz\u001b[1;34m(program, arguments, working_dir, **kwargs)\u001b[0m\n\u001b[0;32m    135\u001b[0m         \u001b[0mstdout\u001b[0m\u001b[1;33m=\u001b[0m\u001b[0msubprocess\u001b[0m\u001b[1;33m.\u001b[0m\u001b[0mPIPE\u001b[0m\u001b[1;33m,\u001b[0m\u001b[1;33m\u001b[0m\u001b[1;33m\u001b[0m\u001b[0m\n\u001b[1;32m--> 136\u001b[1;33m         \u001b[1;33m**\u001b[0m\u001b[0mkwargs\u001b[0m\u001b[1;33m\u001b[0m\u001b[1;33m\u001b[0m\u001b[0m\n\u001b[0m\u001b[0;32m    137\u001b[0m     )\n",
      "\u001b[1;32mC:\\Anaconda3\\lib\\subprocess.py\u001b[0m in \u001b[0;36m__init__\u001b[1;34m(self, args, bufsize, executable, stdin, stdout, stderr, preexec_fn, close_fds, shell, cwd, env, universal_newlines, startupinfo, creationflags, restore_signals, start_new_session, pass_fds, encoding, errors, text)\u001b[0m\n\u001b[0;32m    774\u001b[0m                                 \u001b[0merrread\u001b[0m\u001b[1;33m,\u001b[0m \u001b[0merrwrite\u001b[0m\u001b[1;33m,\u001b[0m\u001b[1;33m\u001b[0m\u001b[1;33m\u001b[0m\u001b[0m\n\u001b[1;32m--> 775\u001b[1;33m                                 restore_signals, start_new_session)\n\u001b[0m\u001b[0;32m    776\u001b[0m         \u001b[1;32mexcept\u001b[0m\u001b[1;33m:\u001b[0m\u001b[1;33m\u001b[0m\u001b[1;33m\u001b[0m\u001b[0m\n",
      "\u001b[1;32mC:\\Anaconda3\\lib\\subprocess.py\u001b[0m in \u001b[0;36m_execute_child\u001b[1;34m(self, args, executable, preexec_fn, close_fds, pass_fds, cwd, env, startupinfo, creationflags, shell, p2cread, p2cwrite, c2pread, c2pwrite, errread, errwrite, unused_restore_signals, unused_start_new_session)\u001b[0m\n\u001b[0;32m   1177\u001b[0m                                          \u001b[0mos\u001b[0m\u001b[1;33m.\u001b[0m\u001b[0mfspath\u001b[0m\u001b[1;33m(\u001b[0m\u001b[0mcwd\u001b[0m\u001b[1;33m)\u001b[0m \u001b[1;32mif\u001b[0m \u001b[0mcwd\u001b[0m \u001b[1;32mis\u001b[0m \u001b[1;32mnot\u001b[0m \u001b[1;32mNone\u001b[0m \u001b[1;32melse\u001b[0m \u001b[1;32mNone\u001b[0m\u001b[1;33m,\u001b[0m\u001b[1;33m\u001b[0m\u001b[1;33m\u001b[0m\u001b[0m\n\u001b[1;32m-> 1178\u001b[1;33m                                          startupinfo)\n\u001b[0m\u001b[0;32m   1179\u001b[0m             \u001b[1;32mfinally\u001b[0m\u001b[1;33m:\u001b[0m\u001b[1;33m\u001b[0m\u001b[1;33m\u001b[0m\u001b[0m\n",
      "\u001b[1;31mFileNotFoundError\u001b[0m: [WinError 2] 指定されたファイルが見つかりません。",
      "\nDuring handling of the above exception, another exception occurred:\n",
      "\u001b[1;31mFileNotFoundError\u001b[0m                         Traceback (most recent call last)",
      "\u001b[1;32mC:\\Anaconda3\\lib\\site-packages\\keras\\utils\\vis_utils.py\u001b[0m in \u001b[0;36m_check_pydot\u001b[1;34m()\u001b[0m\n\u001b[0;32m     25\u001b[0m         \u001b[1;31m# to check the pydot/graphviz installation.\u001b[0m\u001b[1;33m\u001b[0m\u001b[1;33m\u001b[0m\u001b[1;33m\u001b[0m\u001b[0m\n\u001b[1;32m---> 26\u001b[1;33m         \u001b[0mpydot\u001b[0m\u001b[1;33m.\u001b[0m\u001b[0mDot\u001b[0m\u001b[1;33m.\u001b[0m\u001b[0mcreate\u001b[0m\u001b[1;33m(\u001b[0m\u001b[0mpydot\u001b[0m\u001b[1;33m.\u001b[0m\u001b[0mDot\u001b[0m\u001b[1;33m(\u001b[0m\u001b[1;33m)\u001b[0m\u001b[1;33m)\u001b[0m\u001b[1;33m\u001b[0m\u001b[1;33m\u001b[0m\u001b[0m\n\u001b[0m\u001b[0;32m     27\u001b[0m     \u001b[1;32mexcept\u001b[0m \u001b[0mOSError\u001b[0m\u001b[1;33m:\u001b[0m\u001b[1;33m\u001b[0m\u001b[1;33m\u001b[0m\u001b[0m\n",
      "\u001b[1;32mC:\\Anaconda3\\lib\\site-packages\\pydot.py\u001b[0m in \u001b[0;36mcreate\u001b[1;34m(self, prog, format, encoding)\u001b[0m\n\u001b[0;32m   1921\u001b[0m                     prog=prog)\n\u001b[1;32m-> 1922\u001b[1;33m                 \u001b[1;32mraise\u001b[0m \u001b[0mOSError\u001b[0m\u001b[1;33m(\u001b[0m\u001b[1;33m*\u001b[0m\u001b[0margs\u001b[0m\u001b[1;33m)\u001b[0m\u001b[1;33m\u001b[0m\u001b[1;33m\u001b[0m\u001b[0m\n\u001b[0m\u001b[0;32m   1923\u001b[0m             \u001b[1;32melse\u001b[0m\u001b[1;33m:\u001b[0m\u001b[1;33m\u001b[0m\u001b[1;33m\u001b[0m\u001b[0m\n",
      "\u001b[1;31mFileNotFoundError\u001b[0m: [WinError 2] \"dot\" not found in path.",
      "\nDuring handling of the above exception, another exception occurred:\n",
      "\u001b[1;31mOSError\u001b[0m                                   Traceback (most recent call last)",
      "\u001b[1;32m<ipython-input-8-7cb56d4057e2>\u001b[0m in \u001b[0;36m<module>\u001b[1;34m\u001b[0m\n\u001b[0;32m      1\u001b[0m \u001b[0mencoder\u001b[0m \u001b[1;33m=\u001b[0m \u001b[0mModel\u001b[0m\u001b[1;33m(\u001b[0m\u001b[0minputs\u001b[0m\u001b[1;33m,\u001b[0m \u001b[1;33m[\u001b[0m\u001b[0mz_mean\u001b[0m\u001b[1;33m,\u001b[0m \u001b[0mz_log_var\u001b[0m\u001b[1;33m,\u001b[0m \u001b[0mz\u001b[0m\u001b[1;33m]\u001b[0m\u001b[1;33m,\u001b[0m \u001b[0mname\u001b[0m\u001b[1;33m=\u001b[0m\u001b[1;34m'encoder'\u001b[0m\u001b[1;33m)\u001b[0m\u001b[1;33m\u001b[0m\u001b[1;33m\u001b[0m\u001b[0m\n\u001b[0;32m      2\u001b[0m \u001b[0mencoder\u001b[0m\u001b[1;33m.\u001b[0m\u001b[0msummary\u001b[0m\u001b[1;33m(\u001b[0m\u001b[1;33m)\u001b[0m\u001b[1;33m\u001b[0m\u001b[1;33m\u001b[0m\u001b[0m\n\u001b[1;32m----> 3\u001b[1;33m \u001b[0mplot_model\u001b[0m\u001b[1;33m(\u001b[0m\u001b[0mencoder\u001b[0m\u001b[1;33m,\u001b[0m \u001b[0mto_file\u001b[0m\u001b[1;33m=\u001b[0m\u001b[1;34m'vae_mlp_encoder.png'\u001b[0m\u001b[1;33m,\u001b[0m \u001b[0mshow_shapes\u001b[0m\u001b[1;33m=\u001b[0m\u001b[1;32mTrue\u001b[0m\u001b[1;33m)\u001b[0m\u001b[1;33m\u001b[0m\u001b[1;33m\u001b[0m\u001b[0m\n\u001b[0m",
      "\u001b[1;32mC:\\Anaconda3\\lib\\site-packages\\keras\\utils\\vis_utils.py\u001b[0m in \u001b[0;36mplot_model\u001b[1;34m(model, to_file, show_shapes, show_layer_names, rankdir)\u001b[0m\n\u001b[0;32m    130\u001b[0m             \u001b[1;34m'LR'\u001b[0m \u001b[0mcreates\u001b[0m \u001b[0ma\u001b[0m \u001b[0mhorizontal\u001b[0m \u001b[0mplot\u001b[0m\u001b[1;33m.\u001b[0m\u001b[1;33m\u001b[0m\u001b[1;33m\u001b[0m\u001b[0m\n\u001b[0;32m    131\u001b[0m     \"\"\"\n\u001b[1;32m--> 132\u001b[1;33m     \u001b[0mdot\u001b[0m \u001b[1;33m=\u001b[0m \u001b[0mmodel_to_dot\u001b[0m\u001b[1;33m(\u001b[0m\u001b[0mmodel\u001b[0m\u001b[1;33m,\u001b[0m \u001b[0mshow_shapes\u001b[0m\u001b[1;33m,\u001b[0m \u001b[0mshow_layer_names\u001b[0m\u001b[1;33m,\u001b[0m \u001b[0mrankdir\u001b[0m\u001b[1;33m)\u001b[0m\u001b[1;33m\u001b[0m\u001b[1;33m\u001b[0m\u001b[0m\n\u001b[0m\u001b[0;32m    133\u001b[0m     \u001b[0m_\u001b[0m\u001b[1;33m,\u001b[0m \u001b[0mextension\u001b[0m \u001b[1;33m=\u001b[0m \u001b[0mos\u001b[0m\u001b[1;33m.\u001b[0m\u001b[0mpath\u001b[0m\u001b[1;33m.\u001b[0m\u001b[0msplitext\u001b[0m\u001b[1;33m(\u001b[0m\u001b[0mto_file\u001b[0m\u001b[1;33m)\u001b[0m\u001b[1;33m\u001b[0m\u001b[1;33m\u001b[0m\u001b[0m\n\u001b[0;32m    134\u001b[0m     \u001b[1;32mif\u001b[0m \u001b[1;32mnot\u001b[0m \u001b[0mextension\u001b[0m\u001b[1;33m:\u001b[0m\u001b[1;33m\u001b[0m\u001b[1;33m\u001b[0m\u001b[0m\n",
      "\u001b[1;32mC:\\Anaconda3\\lib\\site-packages\\keras\\utils\\vis_utils.py\u001b[0m in \u001b[0;36mmodel_to_dot\u001b[1;34m(model, show_shapes, show_layer_names, rankdir)\u001b[0m\n\u001b[0;32m     53\u001b[0m     \u001b[1;32mfrom\u001b[0m \u001b[1;33m.\u001b[0m\u001b[1;33m.\u001b[0m\u001b[0mmodels\u001b[0m \u001b[1;32mimport\u001b[0m \u001b[0mSequential\u001b[0m\u001b[1;33m\u001b[0m\u001b[1;33m\u001b[0m\u001b[0m\n\u001b[0;32m     54\u001b[0m \u001b[1;33m\u001b[0m\u001b[0m\n\u001b[1;32m---> 55\u001b[1;33m     \u001b[0m_check_pydot\u001b[0m\u001b[1;33m(\u001b[0m\u001b[1;33m)\u001b[0m\u001b[1;33m\u001b[0m\u001b[1;33m\u001b[0m\u001b[0m\n\u001b[0m\u001b[0;32m     56\u001b[0m     \u001b[0mdot\u001b[0m \u001b[1;33m=\u001b[0m \u001b[0mpydot\u001b[0m\u001b[1;33m.\u001b[0m\u001b[0mDot\u001b[0m\u001b[1;33m(\u001b[0m\u001b[1;33m)\u001b[0m\u001b[1;33m\u001b[0m\u001b[1;33m\u001b[0m\u001b[0m\n\u001b[0;32m     57\u001b[0m     \u001b[0mdot\u001b[0m\u001b[1;33m.\u001b[0m\u001b[0mset\u001b[0m\u001b[1;33m(\u001b[0m\u001b[1;34m'rankdir'\u001b[0m\u001b[1;33m,\u001b[0m \u001b[0mrankdir\u001b[0m\u001b[1;33m)\u001b[0m\u001b[1;33m\u001b[0m\u001b[1;33m\u001b[0m\u001b[0m\n",
      "\u001b[1;32mC:\\Anaconda3\\lib\\site-packages\\keras\\utils\\vis_utils.py\u001b[0m in \u001b[0;36m_check_pydot\u001b[1;34m()\u001b[0m\n\u001b[0;32m     27\u001b[0m     \u001b[1;32mexcept\u001b[0m \u001b[0mOSError\u001b[0m\u001b[1;33m:\u001b[0m\u001b[1;33m\u001b[0m\u001b[1;33m\u001b[0m\u001b[0m\n\u001b[0;32m     28\u001b[0m         raise OSError(\n\u001b[1;32m---> 29\u001b[1;33m             \u001b[1;34m'`pydot` failed to call GraphViz.'\u001b[0m\u001b[1;33m\u001b[0m\u001b[1;33m\u001b[0m\u001b[0m\n\u001b[0m\u001b[0;32m     30\u001b[0m             \u001b[1;34m'Please install GraphViz (https://www.graphviz.org/) '\u001b[0m\u001b[1;33m\u001b[0m\u001b[1;33m\u001b[0m\u001b[0m\n\u001b[0;32m     31\u001b[0m             'and ensure that its executables are in the $PATH.')\n",
      "\u001b[1;31mOSError\u001b[0m: `pydot` failed to call GraphViz.Please install GraphViz (https://www.graphviz.org/) and ensure that its executables are in the $PATH."
     ]
    }
   ],
   "source": [
    "encoder = Model(inputs, [z_mean, z_log_var, z], name='encoder')\n",
    "encoder.summary()\n",
    "plot_model(encoder, to_file='vae_mlp_encoder.png', show_shapes=True)"
   ]
  },
  {
   "cell_type": "code",
   "execution_count": null,
   "metadata": {},
   "outputs": [],
   "source": []
  }
 ],
 "metadata": {
  "kernelspec": {
   "display_name": "Python 3",
   "language": "python",
   "name": "python3"
  },
  "language_info": {
   "codemirror_mode": {
    "name": "ipython",
    "version": 3
   },
   "file_extension": ".py",
   "mimetype": "text/x-python",
   "name": "python",
   "nbconvert_exporter": "python",
   "pygments_lexer": "ipython3",
   "version": "3.7.3"
  }
 },
 "nbformat": 4,
 "nbformat_minor": 2
}
