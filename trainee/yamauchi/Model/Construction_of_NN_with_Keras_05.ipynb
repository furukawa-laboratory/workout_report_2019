{
 "cells": [
  {
   "cell_type": "markdown",
   "metadata": {},
   "source": [
    "## Undercomplete Autoencoder\n",
    "Undercomplete Autoencoderはエンコード後のデータの次元数が入力次元よりも小さくなるAutoencoderという．"
   ]
  },
  {
   "cell_type": "code",
   "execution_count": 1,
   "metadata": {},
   "outputs": [
    {
     "name": "stderr",
     "output_type": "stream",
     "text": [
      "Using TensorFlow backend.\n"
     ]
    }
   ],
   "source": [
    "from keras.layers import Input, Dense\n",
    "from keras.models import Model\n",
    "from keras.datasets import fashion_mnist"
   ]
  },
  {
   "cell_type": "code",
   "execution_count": 2,
   "metadata": {},
   "outputs": [],
   "source": [
    "import numpy as np"
   ]
  },
  {
   "cell_type": "code",
   "execution_count": 3,
   "metadata": {},
   "outputs": [],
   "source": [
    "encoding_dim = 32\n",
    "input_img = Input(shape=(784,))"
   ]
  },
  {
   "cell_type": "markdown",
   "metadata": {},
   "source": [
    "### ここからネットワークの構築"
   ]
  },
  {
   "cell_type": "markdown",
   "metadata": {},
   "source": [
    "#### エンコードの設計"
   ]
  },
  {
   "cell_type": "code",
   "execution_count": 4,
   "metadata": {},
   "outputs": [
    {
     "name": "stdout",
     "output_type": "stream",
     "text": [
      "WARNING:tensorflow:From C:\\Anaconda3\\lib\\site-packages\\tensorflow\\python\\framework\\op_def_library.py:263: colocate_with (from tensorflow.python.framework.ops) is deprecated and will be removed in a future version.\n",
      "Instructions for updating:\n",
      "Colocations handled automatically by placer.\n"
     ]
    }
   ],
   "source": [
    "encoded = Dense(encoding_dim, activation='relu')(input_img)"
   ]
  },
  {
   "cell_type": "markdown",
   "metadata": {},
   "source": [
    "Denseの第一引数\"encoding_dim\"は圧縮後の次元（ニューロンの数），第二引数\"activation\"は活性化関数を指定している．"
   ]
  },
  {
   "cell_type": "markdown",
   "metadata": {},
   "source": [
    "#### デコードの設計"
   ]
  },
  {
   "cell_type": "code",
   "execution_count": 5,
   "metadata": {},
   "outputs": [],
   "source": [
    "decoded = Dense(784, activation='sigmoid')(encoded)"
   ]
  },
  {
   "cell_type": "markdown",
   "metadata": {},
   "source": [
    "Denseの第一引数はエンコード後の次元（ニューロンの数），活性化関数はsigmoid．"
   ]
  },
  {
   "cell_type": "markdown",
   "metadata": {},
   "source": [
    "#### オートエンコーダの構築"
   ]
  },
  {
   "cell_type": "code",
   "execution_count": 6,
   "metadata": {},
   "outputs": [
    {
     "name": "stderr",
     "output_type": "stream",
     "text": [
      "C:\\Anaconda3\\lib\\site-packages\\ipykernel_launcher.py:1: UserWarning: Update your `Model` call to the Keras 2 API: `Model(inputs=Tensor(\"in..., outputs=Tensor(\"de...)`\n",
      "  \"\"\"Entry point for launching an IPython kernel.\n"
     ]
    }
   ],
   "source": [
    "autoencoder = Model(input=input_img, output=decoded)"
   ]
  },
  {
   "cell_type": "code",
   "execution_count": 7,
   "metadata": {},
   "outputs": [],
   "source": [
    "autoencoder.compile(optimizer='adadelta', loss='binary_crossentropy')"
   ]
  },
  {
   "cell_type": "markdown",
   "metadata": {},
   "source": [
    "#### 学習データの準備\n",
    "今回はfashion mnist"
   ]
  },
  {
   "cell_type": "code",
   "execution_count": 10,
   "metadata": {
    "scrolled": true
   },
   "outputs": [],
   "source": [
    "(x_train, _), (x_test, _) = fashion_mnist.load_data()\n",
    "x_train = x_train.astype('float32') / 255.\n",
    "x_test  = x_test.astype('float32') / 255.\n",
    "x_train = x_train.reshape((len(x_train), np.prod(x_train.shape[1:])))\n",
    "x_test  = x_test.reshape((len(x_test), np.prod(x_test.shape[1:])))"
   ]
  },
  {
   "cell_type": "markdown",
   "metadata": {},
   "source": [
    "#### 実際に学習\n",
    "エポック50, バッチサイズ256"
   ]
  },
  {
   "cell_type": "code",
   "execution_count": 11,
   "metadata": {},
   "outputs": [
    {
     "name": "stdout",
     "output_type": "stream",
     "text": [
      "WARNING:tensorflow:From C:\\Anaconda3\\lib\\site-packages\\tensorflow\\python\\ops\\math_ops.py:3066: to_int32 (from tensorflow.python.ops.math_ops) is deprecated and will be removed in a future version.\n",
      "Instructions for updating:\n",
      "Use tf.cast instead.\n"
     ]
    },
    {
     "name": "stderr",
     "output_type": "stream",
     "text": [
      "C:\\Anaconda3\\lib\\site-packages\\ipykernel_launcher.py:1: UserWarning: The `nb_epoch` argument in `fit` has been renamed `epochs`.\n",
      "  \"\"\"Entry point for launching an IPython kernel.\n"
     ]
    },
    {
     "name": "stdout",
     "output_type": "stream",
     "text": [
      "Train on 60000 samples, validate on 10000 samples\n",
      "Epoch 1/50\n",
      "60000/60000 [==============================] - 5s 90us/step - loss: 0.5275 - val_loss: 0.4584\n",
      "Epoch 2/50\n",
      "60000/60000 [==============================] - 4s 62us/step - loss: 0.4256 - val_loss: 0.4065\n",
      "Epoch 3/50\n",
      "60000/60000 [==============================] - 4s 63us/step - loss: 0.3959 - val_loss: 0.3884\n",
      "Epoch 4/50\n",
      "60000/60000 [==============================] - 4s 61us/step - loss: 0.3791 - val_loss: 0.3732\n",
      "Epoch 5/50\n",
      "60000/60000 [==============================] - 4s 66us/step - loss: 0.3651 - val_loss: 0.3607\n",
      "Epoch 6/50\n",
      "60000/60000 [==============================] - 4s 62us/step - loss: 0.3537 - val_loss: 0.3505\n",
      "Epoch 7/50\n",
      "60000/60000 [==============================] - 4s 64us/step - loss: 0.3443 - val_loss: 0.3422\n",
      "Epoch 8/50\n",
      "60000/60000 [==============================] - 4s 64us/step - loss: 0.3369 - val_loss: 0.3357\n",
      "Epoch 9/50\n",
      "60000/60000 [==============================] - 4s 66us/step - loss: 0.3311 - val_loss: 0.3306\n",
      "Epoch 10/50\n",
      "60000/60000 [==============================] - 4s 68us/step - loss: 0.3265 - val_loss: 0.3265\n",
      "Epoch 11/50\n",
      "60000/60000 [==============================] - 4s 65us/step - loss: 0.3228 - val_loss: 0.3231\n",
      "Epoch 12/50\n",
      "60000/60000 [==============================] - 4s 64us/step - loss: 0.3197 - val_loss: 0.3203\n",
      "Epoch 13/50\n",
      "60000/60000 [==============================] - 4s 63us/step - loss: 0.3171 - val_loss: 0.3180\n",
      "Epoch 14/50\n",
      "60000/60000 [==============================] - 4s 64us/step - loss: 0.3150 - val_loss: 0.3161\n",
      "Epoch 15/50\n",
      "60000/60000 [==============================] - 4s 72us/step - loss: 0.3133 - val_loss: 0.3145\n",
      "Epoch 16/50\n",
      "60000/60000 [==============================] - 4s 68us/step - loss: 0.3117 - val_loss: 0.3131\n",
      "Epoch 17/50\n",
      "60000/60000 [==============================] - 4s 68us/step - loss: 0.3104 - val_loss: 0.3119\n",
      "Epoch 18/50\n",
      "60000/60000 [==============================] - 4s 71us/step - loss: 0.3093 - val_loss: 0.3108\n",
      "Epoch 19/50\n",
      "60000/60000 [==============================] - 5s 76us/step - loss: 0.3083 - val_loss: 0.3098\n",
      "Epoch 20/50\n",
      "60000/60000 [==============================] - 5s 76us/step - loss: 0.3073 - val_loss: 0.3089\n",
      "Epoch 21/50\n",
      "60000/60000 [==============================] - 4s 69us/step - loss: 0.3065 - val_loss: 0.3081\n",
      "Epoch 22/50\n",
      "60000/60000 [==============================] - 5s 76us/step - loss: 0.3057 - val_loss: 0.3074\n",
      "Epoch 23/50\n",
      "60000/60000 [==============================] - 4s 67us/step - loss: 0.3050 - val_loss: 0.3067\n",
      "Epoch 24/50\n",
      "60000/60000 [==============================] - 4s 70us/step - loss: 0.3043 - val_loss: 0.3060\n",
      "Epoch 25/50\n",
      "60000/60000 [==============================] - 5s 86us/step - loss: 0.3037 - val_loss: 0.3054\n",
      "Epoch 26/50\n",
      "60000/60000 [==============================] - 6s 93us/step - loss: 0.3031 - val_loss: 0.3048\n",
      "Epoch 27/50\n",
      "60000/60000 [==============================] - 6s 100us/step - loss: 0.3025 - val_loss: 0.3042\n",
      "Epoch 28/50\n",
      "60000/60000 [==============================] - 4s 73us/step - loss: 0.3019 - val_loss: 0.3037\n",
      "Epoch 29/50\n",
      "60000/60000 [==============================] - 4s 75us/step - loss: 0.3014 - val_loss: 0.3032\n",
      "Epoch 30/50\n",
      "60000/60000 [==============================] - 5s 76us/step - loss: 0.3009 - val_loss: 0.3027\n",
      "Epoch 31/50\n",
      "60000/60000 [==============================] - 4s 75us/step - loss: 0.3004 - val_loss: 0.3022\n",
      "Epoch 32/50\n",
      "60000/60000 [==============================] - 5s 77us/step - loss: 0.2999 - val_loss: 0.3017\n",
      "Epoch 33/50\n",
      "60000/60000 [==============================] - 4s 75us/step - loss: 0.2994 - val_loss: 0.3012\n",
      "Epoch 34/50\n",
      "60000/60000 [==============================] - 4s 73us/step - loss: 0.2990 - val_loss: 0.3008\n",
      "Epoch 35/50\n",
      "60000/60000 [==============================] - 4s 73us/step - loss: 0.2985 - val_loss: 0.3004\n",
      "Epoch 36/50\n",
      "60000/60000 [==============================] - 4s 73us/step - loss: 0.2981 - val_loss: 0.3000\n",
      "Epoch 37/50\n",
      "60000/60000 [==============================] - 5s 81us/step - loss: 0.2977 - val_loss: 0.2996\n",
      "Epoch 38/50\n",
      "60000/60000 [==============================] - 5s 77us/step - loss: 0.2973 - val_loss: 0.2992\n",
      "Epoch 39/50\n",
      "60000/60000 [==============================] - 4s 71us/step - loss: 0.2969 - val_loss: 0.2988\n",
      "Epoch 40/50\n",
      "60000/60000 [==============================] - 5s 83us/step - loss: 0.2966 - val_loss: 0.2985\n",
      "Epoch 41/50\n",
      "60000/60000 [==============================] - 4s 72us/step - loss: 0.2962 - val_loss: 0.2981\n",
      "Epoch 42/50\n",
      "60000/60000 [==============================] - 4s 73us/step - loss: 0.2959 - val_loss: 0.2978\n",
      "Epoch 43/50\n",
      "60000/60000 [==============================] - 4s 74us/step - loss: 0.2956 - val_loss: 0.2975A: 0s - loss: 0.295 - ETA: 0s - loss: 0.29\n",
      "Epoch 44/50\n",
      "60000/60000 [==============================] - 5s 76us/step - loss: 0.2953 - val_loss: 0.2972\n",
      "Epoch 45/50\n",
      "60000/60000 [==============================] - 5s 82us/step - loss: 0.2950 - val_loss: 0.2969\n",
      "Epoch 46/50\n",
      "60000/60000 [==============================] - 5s 82us/step - loss: 0.2947 - val_loss: 0.2966\n",
      "Epoch 47/50\n",
      "60000/60000 [==============================] - 5s 83us/step - loss: 0.2944 - val_loss: 0.2964\n",
      "Epoch 48/50\n",
      "60000/60000 [==============================] - 5s 79us/step - loss: 0.2942 - val_loss: 0.2962\n",
      "Epoch 49/50\n",
      "60000/60000 [==============================] - 5s 81us/step - loss: 0.2939 - val_loss: 0.2959\n",
      "Epoch 50/50\n",
      "60000/60000 [==============================] - 5s 77us/step - loss: 0.2937 - val_loss: 0.2957\n"
     ]
    },
    {
     "data": {
      "text/plain": [
       "<keras.callbacks.History at 0x2470a2be7f0>"
      ]
     },
     "execution_count": 11,
     "metadata": {},
     "output_type": "execute_result"
    }
   ],
   "source": [
    "autoencoder.fit(x_train, x_train, nb_epoch=50, batch_size=256, shuffle=True, validation_data=(x_test, x_test))"
   ]
  },
  {
   "cell_type": "code",
   "execution_count": 12,
   "metadata": {},
   "outputs": [],
   "source": [
    "import matplotlib.pyplot as plt\n",
    "%matplotlib inline"
   ]
  },
  {
   "cell_type": "code",
   "execution_count": 13,
   "metadata": {},
   "outputs": [],
   "source": [
    "decoded_imgs = autoencoder.predict(x_test)"
   ]
  },
  {
   "cell_type": "code",
   "execution_count": 14,
   "metadata": {},
   "outputs": [
    {
     "data": {
      "image/png": "[encoded data removed]",
      "text/plain": [
       "<Figure size 1440x288 with 20 Axes>"
      ]
     },
     "metadata": {
      "needs_background": "light"
     },
     "output_type": "display_data"
    }
   ],
   "source": [
    "n = 10\n",
    "\n",
    "plt.figure(figsize=(20, 4))\n",
    "\n",
    "for i in range(n):\n",
    "    ax = plt.subplot(2, n, i+1)\n",
    "    plt.imshow(x_test[i].reshape(28, 28))\n",
    "    plt.gray()\n",
    "    ax.get_xaxis().set_visible(False)\n",
    "    ax.get_yaxis().set_visible(False)\n",
    "    \n",
    "    ax = plt.subplot(2, n, i+1+n)\n",
    "    plt.imshow(decoded_imgs[i].reshape(28, 28))\n",
    "    plt.gray()\n",
    "    ax.get_xaxis().set_visible(False)\n",
    "    ax.get_yaxis().set_visible(False)\n",
    "plt.show()"
   ]
  }
 ],
 "metadata": {
  "kernelspec": {
   "display_name": "Python 3",
   "language": "python",
   "name": "python3"
  },
  "language_info": {
   "codemirror_mode": {
    "name": "ipython",
    "version": 3
   },
   "file_extension": ".py",
   "mimetype": "text/x-python",
   "name": "python",
   "nbconvert_exporter": "python",
   "pygments_lexer": "ipython3",
   "version": "3.7.1"
  }
 },
 "nbformat": 4,
 "nbformat_minor": 2
}
