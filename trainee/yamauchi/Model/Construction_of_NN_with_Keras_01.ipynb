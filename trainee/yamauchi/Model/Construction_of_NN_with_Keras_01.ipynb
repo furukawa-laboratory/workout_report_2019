{
 "cells": [
  {
   "cell_type": "markdown",
   "metadata": {},
   "source": [
    "# KerasでMNISTデータを学習してみる"
   ]
  },
  {
   "cell_type": "code",
   "execution_count": 3,
   "metadata": {},
   "outputs": [],
   "source": [
    "import keras\n",
    "from keras.datasets import mnist\n",
    "from keras.models import Sequential\n",
    "from keras.layers import Dense, Dropout, InputLayer\n",
    "from keras.optimizers import RMSprop"
   ]
  },
  {
   "cell_type": "markdown",
   "metadata": {},
   "source": [
    "## MNISTデータを読み込む\n",
    "Kerasが自動でダウンロードしてくれる、これは凄いことです。"
   ]
  },
  {
   "cell_type": "code",
   "execution_count": 4,
   "metadata": {},
   "outputs": [
    {
     "name": "stdout",
     "output_type": "stream",
     "text": [
      "Downloading data from https://s3.amazonaws.com/img-datasets/mnist.npz\n",
      "11493376/11490434 [==============================] - 17s 1us/step\n"
     ]
    }
   ],
   "source": [
    "(x_train, y_train), (x_test, y_test) = mnist.load_data()"
   ]
  },
  {
   "cell_type": "markdown",
   "metadata": {},
   "source": [
    "## MNISTデータを加工\n",
    "28×28の画像が60,000枚ある。画像をすべて728個の要素を持つ一次元配列に整形する。\n",
    "\n",
    "また、各要素は0~255の値を持つ。これを0~1の値に変換する。標準化？正規化？\n",
    "\n",
    "更に、正解データをただのラベルからバイナリ表現に変換する。OneHotEncoding的な？"
   ]
  },
  {
   "cell_type": "code",
   "execution_count": 5,
   "metadata": {},
   "outputs": [],
   "source": [
    "x_train = x_train.reshape(60000, 784)\n",
    "x_test  = x_test.reshape(10000, 784)\n",
    "x_train = x_train.astype('float32') # float32型に変換\n",
    "x_test  = x_test.astype('float32')\n",
    "x_train /= 255 # x_train = xtrain / 255\n",
    "x_test  /= 255\n",
    "y_train = keras.utils.to_categorical(y_train, 10) # translate y_train to binary class matrix\n",
    "y_test  = keras.utils.to_categorical(y_test, 10)"
   ]
  },
  {
   "cell_type": "markdown",
   "metadata": {},
   "source": [
    "## モデルの構築\n",
    "\n",
    "Denseは第１引数に出力の次元を、第２引数に活性化関数を指定する。\n",
    "\n",
    "今回、出力は0~9のそれぞれの確率を算出するので10次元である。"
   ]
  },
  {
   "cell_type": "code",
   "execution_count": 9,
   "metadata": {},
   "outputs": [],
   "source": [
    "model = Sequential()\n",
    "model.add(InputLayer(input_shape=(784,)))\n",
    "model.add(Dense(10, activation='softmax')) # 活性化関数にsoftmax関数を指定\n",
    "model.compile(loss='categorical_crossentropy', optimizer='rmsprop', metrics=['accuracy'])"
   ]
  },
  {
   "cell_type": "markdown",
   "metadata": {},
   "source": [
    "## 学習"
   ]
  },
  {
   "cell_type": "code",
   "execution_count": 10,
   "metadata": {},
   "outputs": [
    {
     "name": "stdout",
     "output_type": "stream",
     "text": [
      "WARNING:tensorflow:From C:\\Anaconda3\\lib\\site-packages\\tensorflow\\python\\ops\\math_ops.py:3066: to_int32 (from tensorflow.python.ops.math_ops) is deprecated and will be removed in a future version.\n",
      "Instructions for updating:\n",
      "Use tf.cast instead.\n",
      "Train on 60000 samples, validate on 10000 samples\n",
      "Epoch 1/20\n",
      "60000/60000 [==============================] - 1s 12us/step - loss: 0.6106 - acc: 0.8466 - val_loss: 0.3401 - val_acc: 0.9073\n",
      "Epoch 2/20\n",
      "60000/60000 [==============================] - 1s 9us/step - loss: 0.3304 - acc: 0.9083 - val_loss: 0.2971 - val_acc: 0.9150\n",
      "Epoch 3/20\n",
      "60000/60000 [==============================] - 1s 9us/step - loss: 0.3014 - acc: 0.9155 - val_loss: 0.2840 - val_acc: 0.9204\n",
      "Epoch 4/20\n",
      "60000/60000 [==============================] - 1s 10us/step - loss: 0.2878 - acc: 0.9192 - val_loss: 0.2782 - val_acc: 0.9219\n",
      "Epoch 5/20\n",
      "60000/60000 [==============================] - 1s 9us/step - loss: 0.2802 - acc: 0.9217 - val_loss: 0.2747 - val_acc: 0.9233\n",
      "Epoch 6/20\n",
      "60000/60000 [==============================] - 1s 9us/step - loss: 0.2746 - acc: 0.9232 - val_loss: 0.2717 - val_acc: 0.9248\n",
      "Epoch 7/20\n",
      "60000/60000 [==============================] - 1s 9us/step - loss: 0.2706 - acc: 0.9247 - val_loss: 0.2714 - val_acc: 0.9249\n",
      "Epoch 8/20\n",
      "60000/60000 [==============================] - 1s 10us/step - loss: 0.2671 - acc: 0.9263 - val_loss: 0.2696 - val_acc: 0.9253\n",
      "Epoch 9/20\n",
      "60000/60000 [==============================] - 1s 10us/step - loss: 0.2646 - acc: 0.9278 - val_loss: 0.2696 - val_acc: 0.9270\n",
      "Epoch 10/20\n",
      "60000/60000 [==============================] - 1s 9us/step - loss: 0.2624 - acc: 0.9282 - val_loss: 0.2702 - val_acc: 0.9266\n",
      "Epoch 11/20\n",
      "60000/60000 [==============================] - 1s 10us/step - loss: 0.2606 - acc: 0.9284 - val_loss: 0.2694 - val_acc: 0.9267\n",
      "Epoch 12/20\n",
      "60000/60000 [==============================] - 1s 9us/step - loss: 0.2593 - acc: 0.9293 - val_loss: 0.2680 - val_acc: 0.9274\n",
      "Epoch 13/20\n",
      "60000/60000 [==============================] - 1s 9us/step - loss: 0.2578 - acc: 0.9295 - val_loss: 0.2668 - val_acc: 0.9276\n",
      "Epoch 14/20\n",
      "60000/60000 [==============================] - 1s 9us/step - loss: 0.2568 - acc: 0.9300 - val_loss: 0.2679 - val_acc: 0.9277\n",
      "Epoch 15/20\n",
      "60000/60000 [==============================] - 1s 9us/step - loss: 0.2558 - acc: 0.9308 - val_loss: 0.2679 - val_acc: 0.9286\n",
      "Epoch 16/20\n",
      "60000/60000 [==============================] - 1s 10us/step - loss: 0.2547 - acc: 0.9307 - val_loss: 0.2703 - val_acc: 0.9261\n",
      "Epoch 17/20\n",
      "60000/60000 [==============================] - 1s 9us/step - loss: 0.2539 - acc: 0.9314 - val_loss: 0.2688 - val_acc: 0.9280\n",
      "Epoch 18/20\n",
      "60000/60000 [==============================] - 1s 9us/step - loss: 0.2534 - acc: 0.9315 - val_loss: 0.2705 - val_acc: 0.9280\n",
      "Epoch 19/20\n",
      "60000/60000 [==============================] - 1s 9us/step - loss: 0.2528 - acc: 0.9318 - val_loss: 0.2705 - val_acc: 0.9270\n",
      "Epoch 20/20\n",
      "60000/60000 [==============================] - 1s 10us/step - loss: 0.2520 - acc: 0.9318 - val_loss: 0.2686 - val_acc: 0.9280\n"
     ]
    }
   ],
   "source": [
    "epochs = 20\n",
    "batch_size = 128\n",
    "history = model.fit(x_train, y_train, batch_size=batch_size, epochs=epochs, verbose=1, validation_data=(x_test, y_test))"
   ]
  },
  {
   "cell_type": "markdown",
   "metadata": {},
   "source": [
    "## 検証"
   ]
  },
  {
   "cell_type": "code",
   "execution_count": 11,
   "metadata": {},
   "outputs": [
    {
     "name": "stdout",
     "output_type": "stream",
     "text": [
      "10000/10000 [==============================] - 0s 11us/step\n",
      "\n",
      "Test loss: 0.2686302809998393\n",
      "Test accuracy: 0.928\n"
     ]
    }
   ],
   "source": [
    "score = model.evaluate(x_test, y_test, verbose=1)\n",
    "print()\n",
    "print('Test loss:', score[0])\n",
    "print('Test accuracy:', score[1])"
   ]
  },
  {
   "cell_type": "markdown",
   "metadata": {},
   "source": [
    "学習したモデルを検証用データに適用した結果、92.8%の確率で正解を出力することができた。\n",
    "Test lossって何だったっけ。"
   ]
  },
  {
   "cell_type": "markdown",
   "metadata": {},
   "source": [
    "## 学習過程の可視化\n",
    "historyにはmodel.fit()からの戻り値が格納されている。その内容は次のような学習過程を含んでいる。\n",
    "\n",
    " - loss : 学習用データを使って学習を終えた時点での損失。値が小さいほど正しい結果を出力するように学習できている。値が大きいほど正しい結果を出せていない。つまりは学習過程における誤答率？\n",
    " \n",
    " - val_loss : 検証用データを与えた際に、どれだけ正当したかを表す。値が小さいほど正当できている。"
   ]
  },
  {
   "cell_type": "code",
   "execution_count": 13,
   "metadata": {},
   "outputs": [],
   "source": [
    "import matplotlib.pyplot as plt"
   ]
  },
  {
   "cell_type": "code",
   "execution_count": 14,
   "metadata": {},
   "outputs": [
    {
     "data": {
      "image/png": "[encoded data removed]",
      "text/plain": [
       "<Figure size 432x288 with 1 Axes>"
      ]
     },
     "metadata": {
      "needs_background": "light"
     },
     "output_type": "display_data"
    }
   ],
   "source": [
    "loss = history.history['loss']\n",
    "val_loss = history.history['val_loss']\n",
    "\n",
    "nb_epoch = len(loss)\n",
    "\n",
    "plt.plot(range(nb_epoch), loss, marker='.', label='loss')\n",
    "plt.plot(range(nb_epoch), val_loss, marker='.', label='val_loss')\n",
    "plt.legend(loc='best', fontsize=10)\n",
    "\n",
    "plt.grid()\n",
    "\n",
    "plt.xlabel('epoch')\n",
    "plt.ylabel('loss')\n",
    "plt.show()"
   ]
  },
  {
   "cell_type": "markdown",
   "metadata": {},
   "source": [
    "学習を進めるにつれて、lossとval_lossの両方が減少している。"
   ]
  }
 ],
 "metadata": {
  "kernelspec": {
   "display_name": "Python 3",
   "language": "python",
   "name": "python3"
  },
  "language_info": {
   "codemirror_mode": {
    "name": "ipython",
    "version": 3
   },
   "file_extension": ".py",
   "mimetype": "text/x-python",
   "name": "python",
   "nbconvert_exporter": "python",
   "pygments_lexer": "ipython3",
   "version": "3.7.3"
  }
 },
 "nbformat": 4,
 "nbformat_minor": 2
}
