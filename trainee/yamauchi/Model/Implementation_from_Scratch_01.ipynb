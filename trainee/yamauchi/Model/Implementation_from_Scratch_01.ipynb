{
 "cells": [
  {
   "cell_type": "code",
   "execution_count": 1,
   "metadata": {},
   "outputs": [],
   "source": [
    "# 1\n",
    "import numpy as np"
   ]
  },
  {
   "cell_type": "code",
   "execution_count": 6,
   "metadata": {},
   "outputs": [
    {
     "data": {
      "text/plain": [
       "'1.15.4'"
      ]
     },
     "execution_count": 6,
     "metadata": {},
     "output_type": "execute_result"
    }
   ],
   "source": [
    "# 2\n",
    "np.__version__\n",
    "#np.show_config()"
   ]
  },
  {
   "cell_type": "code",
   "execution_count": 4,
   "metadata": {},
   "outputs": [
    {
     "data": {
      "text/plain": [
       "array([0., 0., 0., 0., 0., 0., 0., 0., 0., 0.])"
      ]
     },
     "execution_count": 4,
     "metadata": {},
     "output_type": "execute_result"
    }
   ],
   "source": [
    "# 3\n",
    "null_vector = np.zeros(10)\n",
    "null_vector"
   ]
  },
  {
   "cell_type": "code",
   "execution_count": 10,
   "metadata": {},
   "outputs": [
    {
     "name": "stdout",
     "output_type": "stream",
     "text": [
      "8\n",
      "10\n"
     ]
    }
   ],
   "source": [
    "# 4\n",
    "print(null_vector.itemsize) # 一要素のバイト数\n",
    "print(null_vector.size) # 配列の要素数"
   ]
  },
  {
   "cell_type": "code",
   "execution_count": 14,
   "metadata": {},
   "outputs": [
    {
     "name": "stderr",
     "output_type": "stream",
     "text": [
      "ERROR:root:File `'`python.py'` not found.\n"
     ]
    }
   ],
   "source": [
    "# 5\n",
    "%run `python -c \"import numpy; numpy.info(numpy.add)\"`"
   ]
  },
  {
   "cell_type": "code",
   "execution_count": 16,
   "metadata": {},
   "outputs": [
    {
     "data": {
      "text/plain": [
       "array([0., 0., 0., 0., 1., 0., 0., 0., 0., 0.])"
      ]
     },
     "execution_count": 16,
     "metadata": {},
     "output_type": "execute_result"
    }
   ],
   "source": [
    "# 6\n",
    "Z = np.zeros(10)\n",
    "Z[4] = 1\n",
    "Z"
   ]
  },
  {
   "cell_type": "code",
   "execution_count": 24,
   "metadata": {},
   "outputs": [
    {
     "data": {
      "text/plain": [
       "array([10, 11, 12, 13, 14, 15, 16, 17, 18, 19, 20, 21, 22, 23, 24, 25, 26,\n",
       "       27, 28, 29, 30, 31, 32, 33, 34, 35, 36, 37, 38, 39, 40, 41, 42, 43,\n",
       "       44, 45, 46, 47, 48, 49])"
      ]
     },
     "execution_count": 24,
     "metadata": {},
     "output_type": "execute_result"
    }
   ],
   "source": [
    "# 7\n",
    "Z = np.arange(10,50) # arangeは等差や数列を生成する\n",
    "Z"
   ]
  },
  {
   "cell_type": "code",
   "execution_count": 30,
   "metadata": {},
   "outputs": [
    {
     "data": {
      "text/plain": [
       "array([49, 48, 47, 46, 45, 44, 43, 42, 41, 40, 39, 38, 37, 36, 35, 34, 33,\n",
       "       32, 31, 30, 29, 28, 27, 26, 25, 24, 23, 22, 21, 20, 19, 18, 17, 16,\n",
       "       15, 14, 13, 12, 11, 10])"
      ]
     },
     "execution_count": 30,
     "metadata": {},
     "output_type": "execute_result"
    }
   ],
   "source": [
    "# 8\n",
    "Z[::-1]"
   ]
  },
  {
   "cell_type": "code",
   "execution_count": 37,
   "metadata": {},
   "outputs": [
    {
     "data": {
      "text/plain": [
       "array([[0, 1, 2],\n",
       "       [3, 4, 5],\n",
       "       [6, 7, 8]])"
      ]
     },
     "execution_count": 37,
     "metadata": {},
     "output_type": "execute_result"
    }
   ],
   "source": [
    "# 9\n",
    "Z = np.arange(9).reshape(3,3)\n",
    "Z"
   ]
  },
  {
   "cell_type": "code",
   "execution_count": 39,
   "metadata": {},
   "outputs": [
    {
     "name": "stdout",
     "output_type": "stream",
     "text": [
      "(array([0, 1, 4], dtype=int64),)\n"
     ]
    }
   ],
   "source": [
    "# 10\n",
    "nz = np.nonzero([1,2,0,0,4,0])\n",
    "print(nz)"
   ]
  },
  {
   "cell_type": "code",
   "execution_count": 43,
   "metadata": {},
   "outputs": [
    {
     "data": {
      "text/plain": [
       "array([[1., 0., 0.],\n",
       "       [0., 1., 0.],\n",
       "       [0., 0., 1.]])"
      ]
     },
     "execution_count": 43,
     "metadata": {},
     "output_type": "execute_result"
    }
   ],
   "source": [
    "# 11\n",
    "Z = np.eye(3)\n",
    "Z"
   ]
  },
  {
   "cell_type": "code",
   "execution_count": 44,
   "metadata": {},
   "outputs": [
    {
     "data": {
      "text/plain": [
       "array([[[0.87657934, 0.04012949, 0.83179077],\n",
       "        [0.91054489, 0.77131578, 0.33065055],\n",
       "        [0.38110235, 0.64351589, 0.66221978]],\n",
       "\n",
       "       [[0.90974652, 0.00990754, 0.31002218],\n",
       "        [0.45471913, 0.04607618, 0.13383704],\n",
       "        [0.71407605, 0.62360702, 0.82140099]],\n",
       "\n",
       "       [[0.15639689, 0.41344551, 0.21411629],\n",
       "        [0.63657867, 0.59426645, 0.23591692],\n",
       "        [0.30749411, 0.10990068, 0.44756993]]])"
      ]
     },
     "execution_count": 44,
     "metadata": {},
     "output_type": "execute_result"
    }
   ],
   "source": [
    "# 12\n",
    "Z = np.random.random((3,3,3))\n",
    "Z"
   ]
  },
  {
   "cell_type": "code",
   "execution_count": 46,
   "metadata": {},
   "outputs": [
    {
     "name": "stdout",
     "output_type": "stream",
     "text": [
      "[[8.78588796e-01 4.09590592e-01 9.37633980e-01 8.51255607e-01\n",
      "  8.34622883e-01 8.18183352e-01 9.62204564e-01 8.66828633e-01\n",
      "  9.08390764e-01 4.96864548e-01]\n",
      " [5.79186941e-01 9.13081583e-01 1.87735908e-01 7.41524940e-01\n",
      "  3.99795431e-01 8.45870552e-01 9.31510091e-01 4.12157607e-01\n",
      "  5.07989166e-01 7.29082345e-01]\n",
      " [5.73388647e-01 1.90836282e-01 2.81720191e-01 4.78034375e-01\n",
      "  9.72833999e-02 2.41876219e-01 6.55012695e-01 2.57542571e-01\n",
      "  8.39354682e-01 2.29349357e-01]\n",
      " [8.09409384e-01 6.27262843e-01 6.08932051e-01 7.17600141e-01\n",
      "  8.77966128e-01 9.84403756e-01 2.72664438e-01 9.41362248e-01\n",
      "  9.77844039e-01 6.78193429e-01]\n",
      " [9.98832399e-01 8.34791365e-01 5.83333882e-01 8.87871608e-01\n",
      "  4.09960322e-01 3.59358046e-01 6.84969743e-01 1.03572740e-01\n",
      "  9.85455648e-02 4.48056709e-01]\n",
      " [8.30558752e-01 4.38799598e-01 5.68177787e-01 4.91631831e-01\n",
      "  1.41709131e-01 9.63074680e-01 4.90106383e-01 3.29787413e-01\n",
      "  7.09676280e-01 7.22550393e-02]\n",
      " [4.93721991e-01 2.94630283e-01 6.05532508e-01 1.85495814e-01\n",
      "  4.06146706e-01 8.33434525e-01 8.65415753e-01 8.48657229e-02\n",
      "  4.68281346e-01 1.71737869e-01]\n",
      " [3.98506039e-02 5.25144214e-01 8.86972920e-01 8.29197441e-02\n",
      "  4.50059053e-02 7.06773392e-01 9.67353797e-01 6.18537283e-01\n",
      "  4.37492868e-01 9.76328481e-01]\n",
      " [9.83167731e-01 1.94837294e-01 4.21284439e-01 9.33460687e-01\n",
      "  9.72804261e-01 7.64316495e-01 5.29482669e-01 2.06324908e-01\n",
      "  1.37620582e-01 9.09326739e-01]\n",
      " [4.76633053e-01 2.17488227e-01 9.54389832e-01 8.16455470e-03\n",
      "  3.47311564e-01 9.18557711e-01 1.10776566e-04 8.35086580e-01\n",
      "  1.86367480e-01 5.00575601e-01]]\n",
      "0.00011077656616542697 0.9988323991138722\n"
     ]
    }
   ],
   "source": [
    "# 13\n",
    "Z = np.random.random((10,10))\n",
    "Zmin, Zmax = Z.min(), Z.max()\n",
    "print(Z)\n",
    "print(Zmin, Zmax)"
   ]
  },
  {
   "cell_type": "code",
   "execution_count": 47,
   "metadata": {},
   "outputs": [
    {
     "name": "stdout",
     "output_type": "stream",
     "text": [
      "[0.43674151 0.53770157 0.505413   0.26204175 0.07907502 0.91412791\n",
      " 0.62691196 0.57244855 0.69505577 0.13205379 0.14834148 0.03654287\n",
      " 0.29119257 0.79148371 0.24111041 0.99427518 0.16761898 0.06543685\n",
      " 0.1070924  0.25314655 0.98800358 0.00928911 0.73175135 0.74486347\n",
      " 0.52341237 0.13960031 0.57445206 0.31914396 0.45412096 0.44867517]\n",
      "0.4263708051606915\n"
     ]
    }
   ],
   "source": [
    "# 14\n",
    "Z = np.random.random(30)\n",
    "print(Z)\n",
    "print(Z.mean())"
   ]
  },
  {
   "cell_type": "code",
   "execution_count": 51,
   "metadata": {},
   "outputs": [
    {
     "data": {
      "text/plain": [
       "array([[1., 1., 1., 1., 1., 1., 1., 1., 1., 1.],\n",
       "       [1., 0., 0., 0., 0., 0., 0., 0., 0., 1.],\n",
       "       [1., 0., 1., 1., 1., 1., 1., 1., 0., 1.],\n",
       "       [1., 0., 1., 0., 0., 0., 0., 1., 0., 1.],\n",
       "       [1., 0., 1., 0., 0., 0., 0., 1., 0., 1.],\n",
       "       [1., 0., 1., 0., 0., 0., 0., 1., 0., 1.],\n",
       "       [1., 0., 1., 0., 0., 0., 0., 1., 0., 1.],\n",
       "       [1., 0., 1., 1., 1., 1., 1., 1., 0., 1.],\n",
       "       [1., 0., 0., 0., 0., 0., 0., 0., 0., 1.],\n",
       "       [1., 1., 1., 1., 1., 1., 1., 1., 1., 1.]])"
      ]
     },
     "execution_count": 51,
     "metadata": {},
     "output_type": "execute_result"
    }
   ],
   "source": [
    "# 15\n",
    "Z = np.ones((10, 10))\n",
    "Z[1:-1,1:-1] = 0\n",
    "Z[2:-2,2:-2] = 1\n",
    "Z[3:-3,3:-3] = 0\n",
    "Z"
   ]
  },
  {
   "cell_type": "code",
   "execution_count": 52,
   "metadata": {},
   "outputs": [
    {
     "data": {
      "text/plain": [
       "array([[0., 0., 0., 0., 0., 0., 0.],\n",
       "       [0., 1., 1., 1., 1., 1., 0.],\n",
       "       [0., 1., 1., 1., 1., 1., 0.],\n",
       "       [0., 1., 1., 1., 1., 1., 0.],\n",
       "       [0., 1., 1., 1., 1., 1., 0.],\n",
       "       [0., 1., 1., 1., 1., 1., 0.],\n",
       "       [0., 0., 0., 0., 0., 0., 0.]])"
      ]
     },
     "execution_count": 52,
     "metadata": {},
     "output_type": "execute_result"
    }
   ],
   "source": [
    "# 16\n",
    "Z = np.ones((5,5))\n",
    "Z = np.pad(Z, pad_width=1, mode='constant', constant_values=0)\n",
    "Z"
   ]
  },
  {
   "cell_type": "code",
   "execution_count": 62,
   "metadata": {},
   "outputs": [
    {
     "name": "stdout",
     "output_type": "stream",
     "text": [
      "nan\n",
      "False\n",
      "False\n",
      "nan\n",
      "True\n",
      "0.30000000000000004\n"
     ]
    }
   ],
   "source": [
    "# 17\n",
    "print(0 * np.nan)\n",
    "print(np.nan == np.nan)\n",
    "print(np.inf > np.nan)\n",
    "print(np.nan - np.nan)\n",
    "print(np.nan in set([np.nan])) # セットに特定の値が含まれているかを判定\n",
    "print(3 * 0.1) # 誤差誤差誤差後差誤差誤差"
   ]
  },
  {
   "cell_type": "code",
   "execution_count": 73,
   "metadata": {},
   "outputs": [
    {
     "data": {
      "text/plain": [
       "array([[0, 0, 0, 0, 0],\n",
       "       [1, 0, 0, 0, 0],\n",
       "       [0, 2, 0, 0, 0],\n",
       "       [0, 0, 3, 0, 0],\n",
       "       [0, 0, 0, 4, 0]])"
      ]
     },
     "execution_count": 73,
     "metadata": {},
     "output_type": "execute_result"
    }
   ],
   "source": [
    "# 18\n",
    "Z = np.diag(1+np.arange(4), k=-1) \n",
    "# kは対角成分の開始位置を示す．\n",
    "#正の数ならば右横方向へ，負の数ならば下方向へ\n",
    "Z"
   ]
  },
  {
   "cell_type": "code",
   "execution_count": 78,
   "metadata": {},
   "outputs": [
    {
     "data": {
      "text/plain": [
       "array([[0, 1, 0, 1, 0, 1, 0, 1],\n",
       "       [1, 0, 1, 0, 1, 0, 1, 0],\n",
       "       [0, 1, 0, 1, 0, 1, 0, 1],\n",
       "       [1, 0, 1, 0, 1, 0, 1, 0],\n",
       "       [0, 1, 0, 1, 0, 1, 0, 1],\n",
       "       [1, 0, 1, 0, 1, 0, 1, 0],\n",
       "       [0, 1, 0, 1, 0, 1, 0, 1],\n",
       "       [1, 0, 1, 0, 1, 0, 1, 0]])"
      ]
     },
     "execution_count": 78,
     "metadata": {},
     "output_type": "execute_result"
    }
   ],
   "source": [
    "# 19\n",
    "Z = np.zeros((8,8), dtype=int)\n",
    "Z[1::2,::2] = 1\n",
    "Z[::2,1::2] = 1\n",
    "Z"
   ]
  },
  {
   "cell_type": "code",
   "execution_count": 79,
   "metadata": {},
   "outputs": [
    {
     "data": {
      "text/plain": [
       "(1, 5, 3)"
      ]
     },
     "execution_count": 79,
     "metadata": {},
     "output_type": "execute_result"
    }
   ],
   "source": [
    "# 20\n",
    "np.unravel_index(99,(6,7,8))"
   ]
  },
  {
   "cell_type": "code",
   "execution_count": 98,
   "metadata": {},
   "outputs": [
    {
     "data": {
      "text/plain": [
       "array([[[  0,   1,   2,   3,   4,   5,   6,   7],\n",
       "        [  8,   9,  10,  11,  12,  13,  14,  15],\n",
       "        [ 16,  17,  18,  19,  20,  21,  22,  23],\n",
       "        [ 24,  25,  26,  27,  28,  29,  30,  31],\n",
       "        [ 32,  33,  34,  35,  36,  37,  38,  39],\n",
       "        [ 40,  41,  42,  43,  44,  45,  46,  47],\n",
       "        [ 48,  49,  50,  51,  52,  53,  54,  55]],\n",
       "\n",
       "       [[ 56,  57,  58,  59,  60,  61,  62,  63],\n",
       "        [ 64,  65,  66,  67,  68,  69,  70,  71],\n",
       "        [ 72,  73,  74,  75,  76,  77,  78,  79],\n",
       "        [ 80,  81,  82,  83,  84,  85,  86,  87],\n",
       "        [ 88,  89,  90,  91,  92,  93,  94,  95],\n",
       "        [ 96,  97,  98,  99, 100, 101, 102, 103],\n",
       "        [104, 105, 106, 107, 108, 109, 110, 111]],\n",
       "\n",
       "       [[112, 113, 114, 115, 116, 117, 118, 119],\n",
       "        [120, 121, 122, 123, 124, 125, 126, 127],\n",
       "        [128, 129, 130, 131, 132, 133, 134, 135],\n",
       "        [136, 137, 138, 139, 140, 141, 142, 143],\n",
       "        [144, 145, 146, 147, 148, 149, 150, 151],\n",
       "        [152, 153, 154, 155, 156, 157, 158, 159],\n",
       "        [160, 161, 162, 163, 164, 165, 166, 167]],\n",
       "\n",
       "       [[168, 169, 170, 171, 172, 173, 174, 175],\n",
       "        [176, 177, 178, 179, 180, 181, 182, 183],\n",
       "        [184, 185, 186, 187, 188, 189, 190, 191],\n",
       "        [192, 193, 194, 195, 196, 197, 198, 199],\n",
       "        [200, 201, 202, 203, 204, 205, 206, 207],\n",
       "        [208, 209, 210, 211, 212, 213, 214, 215],\n",
       "        [216, 217, 218, 219, 220, 221, 222, 223]],\n",
       "\n",
       "       [[224, 225, 226, 227, 228, 229, 230, 231],\n",
       "        [232, 233, 234, 235, 236, 237, 238, 239],\n",
       "        [240, 241, 242, 243, 244, 245, 246, 247],\n",
       "        [248, 249, 250, 251, 252, 253, 254, 255],\n",
       "        [256, 257, 258, 259, 260, 261, 262, 263],\n",
       "        [264, 265, 266, 267, 268, 269, 270, 271],\n",
       "        [272, 273, 274, 275, 276, 277, 278, 279]],\n",
       "\n",
       "       [[280, 281, 282, 283, 284, 285, 286, 287],\n",
       "        [288, 289, 290, 291, 292, 293, 294, 295],\n",
       "        [296, 297, 298, 299, 300, 301, 302, 303],\n",
       "        [304, 305, 306, 307, 308, 309, 310, 311],\n",
       "        [312, 313, 314, 315, 316, 317, 318, 319],\n",
       "        [320, 321, 322, 323, 324, 325, 326, 327],\n",
       "        [328, 329, 330, 331, 332, 333, 334, 335]]])"
      ]
     },
     "execution_count": 98,
     "metadata": {},
     "output_type": "execute_result"
    }
   ],
   "source": [
    "np.arange(6*7*8).reshape(6,7,8) "
   ]
  },
  {
   "cell_type": "code",
   "execution_count": 97,
   "metadata": {},
   "outputs": [
    {
     "data": {
      "text/plain": [
       "(1, 5, 3)"
      ]
     },
     "execution_count": 97,
     "metadata": {},
     "output_type": "execute_result"
    }
   ],
   "source": [
    "np.unravel_index(99, Z.shape)"
   ]
  },
  {
   "cell_type": "code",
   "execution_count": null,
   "metadata": {},
   "outputs": [],
   "source": []
  }
 ],
 "metadata": {
  "kernelspec": {
   "display_name": "Python 3",
   "language": "python",
   "name": "python3"
  },
  "language_info": {
   "codemirror_mode": {
    "name": "ipython",
    "version": 3
   },
   "file_extension": ".py",
   "mimetype": "text/x-python",
   "name": "python",
   "nbconvert_exporter": "python",
   "pygments_lexer": "ipython3",
   "version": "3.7.1"
  }
 },
 "nbformat": 4,
 "nbformat_minor": 2
}
