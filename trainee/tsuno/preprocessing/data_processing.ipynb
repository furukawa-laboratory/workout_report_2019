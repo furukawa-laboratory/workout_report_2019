{
 "cells": [
  {
   "cell_type": "code",
   "execution_count": 1,
   "metadata": {},
   "outputs": [],
   "source": [
    "#from IPython.core.display import display, HTML\n",
    "#display(HTML('<style>.container{width:100%!important;}</style>'))"
   ]
  },
  {
   "cell_type": "code",
   "execution_count": 2,
   "metadata": {},
   "outputs": [],
   "source": [
    "import pandas, scipy, numpy\n",
    "# Setting precision for the output\n",
    "numpy.set_printoptions(precision=3)\n",
    "\n",
    "df = pandas.read_csv('http://archive.ics.uci.edu/ml/machine-learning-databases/wine-quality/winequality-red.csv',sep=';')\n",
    "# 行・列のlabel以外を取得\n",
    "array = df.values\n",
    "# Separating data into input and output components\n",
    "x = array[:, 0:8]\n",
    "y = array[:, 8]"
   ]
  },
  {
   "cell_type": "markdown",
   "metadata": {},
   "source": [
    "# Scalling Data"
   ]
  },
  {
   "cell_type": "code",
   "execution_count": 3,
   "metadata": {},
   "outputs": [
    {
     "name": "stdout",
     "output_type": "stream",
     "text": [
      "[[0.248 0.397 0.    0.068 0.107 0.141 0.099 0.568]\n",
      " [0.283 0.521 0.    0.116 0.144 0.338 0.216 0.494]\n",
      " [0.283 0.438 0.04  0.096 0.134 0.197 0.17  0.509]\n",
      " [0.584 0.11  0.56  0.068 0.105 0.225 0.191 0.582]\n",
      " [0.248 0.397 0.    0.068 0.107 0.141 0.099 0.568]]\n"
     ]
    }
   ],
   "source": [
    "from sklearn.preprocessing import MinMaxScaler\n",
    "scaler = MinMaxScaler(feature_range=(0,1))\n",
    "rescaledX = scaler.fit_transform(x)\n",
    "print(rescaledX[:5,:])"
   ]
  },
  {
   "cell_type": "markdown",
   "metadata": {},
   "source": [
    "# Standardizing Data"
   ]
  },
  {
   "cell_type": "code",
   "execution_count": 4,
   "metadata": {},
   "outputs": [
    {
     "name": "stdout",
     "output_type": "stream",
     "text": [
      "[[-0.528  0.962 -1.391 -0.453 -0.244 -0.466 -0.379  0.558]\n",
      " [-0.299  1.967 -1.391  0.043  0.224  0.873  0.624  0.028]\n",
      " [-0.299  1.297 -1.186 -0.169  0.096 -0.084  0.229  0.134]\n",
      " [ 1.655 -1.384  1.484 -0.453 -0.265  0.108  0.412  0.664]\n",
      " [-0.528  0.962 -1.391 -0.453 -0.244 -0.466 -0.379  0.558]]\n"
     ]
    }
   ],
   "source": [
    "from sklearn.preprocessing import StandardScaler\n",
    "scaler = StandardScaler().fit(x)\n",
    "rescaledX = scaler.transform(x)\n",
    "print(rescaledX[0:5,:])"
   ]
  }
 ],
 "metadata": {
  "kernelspec": {
   "display_name": "Python 3",
   "language": "python",
   "name": "python3"
  },
  "language_info": {
   "codemirror_mode": {
    "name": "ipython",
    "version": 3
   },
   "file_extension": ".py",
   "mimetype": "text/x-python",
   "name": "python",
   "nbconvert_exporter": "python",
   "pygments_lexer": "ipython3",
   "version": "3.7.1"
  }
 },
 "nbformat": 4,
 "nbformat_minor": 2
}
