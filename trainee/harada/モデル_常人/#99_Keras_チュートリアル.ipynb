{
 "cells": [
  {
   "cell_type": "markdown",
   "metadata": {},
   "source": [
    "### 1. [チュートリアル](#チュートリアル)\n",
    "\n",
    "### 2. [CNNの構築でmnistの分類精度向上](#CNN)\n",
    "\n",
    "### 3. Autoencoder\n",
    "- 3.1. [Autoencoder の構築とmnist の学習](#Autoencoder)\n",
    "- 3.2. [入力データと再構成した画像の比較](#比較)\n",
    "- 3.3. [任意の潜在変数からデコードした画像の表示](#表示)"
   ]
  },
  {
   "cell_type": "markdown",
   "metadata": {},
   "source": [
    "## チュートリアル"
   ]
  },
  {
   "cell_type": "code",
   "execution_count": 1,
   "metadata": {
    "scrolled": true
   },
   "outputs": [
    {
     "name": "stderr",
     "output_type": "stream",
     "text": [
      "Using TensorFlow backend.\n"
     ]
    }
   ],
   "source": [
    "import keras\n",
    "from keras.datasets import mnist\n",
    "from keras.models import Sequential\n",
    "from keras.layers import Dense, Dropout, InputLayer\n",
    "from keras.optimizers import RMSprop"
   ]
  },
  {
   "cell_type": "code",
   "execution_count": 3,
   "metadata": {},
   "outputs": [
    {
     "name": "stdout",
     "output_type": "stream",
     "text": [
      "Downloading data from https://s3.amazonaws.com/img-datasets/mnist.npz\n",
      "11493376/11490434 [==============================] - 2s 0us/step\n"
     ]
    }
   ],
   "source": [
    "# MNIST データを読み込む\n",
    "(x_train, y_train), (x_test, y_test) = mnist.load_data()"
   ]
  },
  {
   "cell_type": "code",
   "execution_count": 4,
   "metadata": {},
   "outputs": [],
   "source": [
    "# MNIST データを加工する\n",
    "x_train = x_train.reshape(60000, 784)\n",
    "x_test  = x_test.reshape(10000, 784)\n",
    "x_train = x_train.astype('float32')\n",
    "x_test  = x_test.astype('float32')\n",
    "x_train/= 255\n",
    "x_test /= 255\n",
    "y_train = keras.utils.to_categorical(y_train, 10)\n",
    "y_test  = keras.utils.to_categorical(y_test, 10)"
   ]
  },
  {
   "cell_type": "code",
   "execution_count": 5,
   "metadata": {},
   "outputs": [
    {
     "name": "stdout",
     "output_type": "stream",
     "text": [
      "WARNING:tensorflow:From C:\\Users\\admin.H118\\Anaconda3\\lib\\site-packages\\tensorflow\\python\\framework\\op_def_library.py:263: colocate_with (from tensorflow.python.framework.ops) is deprecated and will be removed in a future version.\n",
      "Instructions for updating:\n",
      "Colocations handled automatically by placer.\n"
     ]
    }
   ],
   "source": [
    "# Dense : 第1引数で出力の次元数を指定します。\n",
    "# 入力の次元数はinput_shapeで指定します(指定しない場合は出力と同じ)\n",
    "model = Sequential()\n",
    "model.add(InputLayer(input_shape = (784,)))\n",
    "model.add(Dense(10, activation = 'softmax'))\n",
    "\n",
    "# モデルをコンパイルする\n",
    "model.compile(loss = 'categorical_crossentropy', optimizer = 'rmsprop', metrics = ['accuracy'])"
   ]
  },
  {
   "cell_type": "code",
   "execution_count": 6,
   "metadata": {},
   "outputs": [
    {
     "name": "stdout",
     "output_type": "stream",
     "text": [
      "WARNING:tensorflow:From C:\\Users\\admin.H118\\Anaconda3\\lib\\site-packages\\tensorflow\\python\\ops\\math_ops.py:3066: to_int32 (from tensorflow.python.ops.math_ops) is deprecated and will be removed in a future version.\n",
      "Instructions for updating:\n",
      "Use tf.cast instead.\n",
      "Train on 60000 samples, validate on 10000 samples\n",
      "Epoch 1/20\n",
      "60000/60000 [==============================] - 2s 34us/step - loss: 0.5886 - acc: 0.8569 - val_loss: 0.3416 - val_acc: 0.9078\n",
      "Epoch 2/20\n",
      "60000/60000 [==============================] - 2s 30us/step - loss: 0.3301 - acc: 0.9083 - val_loss: 0.2969 - val_acc: 0.9179\n",
      "Epoch 3/20\n",
      "60000/60000 [==============================] - 2s 36us/step - loss: 0.3012 - acc: 0.9161 - val_loss: 0.2867 - val_acc: 0.9210\n",
      "Epoch 4/20\n",
      "60000/60000 [==============================] - 2s 26us/step - loss: 0.2879 - acc: 0.9200 - val_loss: 0.2784 - val_acc: 0.9240\n",
      "Epoch 5/20\n",
      "60000/60000 [==============================] - 1s 20us/step - loss: 0.2799 - acc: 0.9218 - val_loss: 0.2754 - val_acc: 0.9243\n",
      "Epoch 6/20\n",
      "60000/60000 [==============================] - 1s 19us/step - loss: 0.2747 - acc: 0.9239 - val_loss: 0.2716 - val_acc: 0.9253\n",
      "Epoch 7/20\n",
      "60000/60000 [==============================] - 1s 19us/step - loss: 0.2704 - acc: 0.9252 - val_loss: 0.2713 - val_acc: 0.9251\n",
      "Epoch 8/20\n",
      "60000/60000 [==============================] - 1s 19us/step - loss: 0.2670 - acc: 0.9263 - val_loss: 0.2681 - val_acc: 0.9254\n",
      "Epoch 9/20\n",
      "60000/60000 [==============================] - 1s 19us/step - loss: 0.2647 - acc: 0.9273 - val_loss: 0.2675 - val_acc: 0.9260\n",
      "Epoch 10/20\n",
      "60000/60000 [==============================] - 1s 21us/step - loss: 0.2623 - acc: 0.9279 - val_loss: 0.2707 - val_acc: 0.9245\n",
      "Epoch 11/20\n",
      "60000/60000 [==============================] - 2s 27us/step - loss: 0.2606 - acc: 0.9286 - val_loss: 0.2673 - val_acc: 0.9271\n",
      "Epoch 12/20\n",
      "60000/60000 [==============================] - 1s 19us/step - loss: 0.2591 - acc: 0.9293 - val_loss: 0.2658 - val_acc: 0.9271\n",
      "Epoch 13/20\n",
      "60000/60000 [==============================] - 1s 19us/step - loss: 0.2580 - acc: 0.9293 - val_loss: 0.2706 - val_acc: 0.9259\n",
      "Epoch 14/20\n",
      "60000/60000 [==============================] - 1s 23us/step - loss: 0.2564 - acc: 0.9302 - val_loss: 0.2676 - val_acc: 0.9282\n",
      "Epoch 15/20\n",
      "60000/60000 [==============================] - 1s 22us/step - loss: 0.2557 - acc: 0.9302 - val_loss: 0.2688 - val_acc: 0.9280\n",
      "Epoch 16/20\n",
      "60000/60000 [==============================] - 1s 19us/step - loss: 0.2548 - acc: 0.9309 - val_loss: 0.2692 - val_acc: 0.9268\n",
      "Epoch 17/20\n",
      "60000/60000 [==============================] - 1s 20us/step - loss: 0.2540 - acc: 0.9312 - val_loss: 0.2693 - val_acc: 0.9273\n",
      "Epoch 18/20\n",
      "60000/60000 [==============================] - 2s 27us/step - loss: 0.2531 - acc: 0.9316 - val_loss: 0.2698 - val_acc: 0.9270\n",
      "Epoch 19/20\n",
      "60000/60000 [==============================] - 1s 21us/step - loss: 0.2523 - acc: 0.9317 - val_loss: 0.2715 - val_acc: 0.9267\n",
      "Epoch 20/20\n",
      "60000/60000 [==============================] - 1s 19us/step - loss: 0.2516 - acc: 0.9321 - val_loss: 0.2712 - val_acc: 0.9283\n"
     ]
    }
   ],
   "source": [
    "# 学習\n",
    "epochs = 20\n",
    "batch_size = 128\n",
    "history = model.fit(x_train, y_train, batch_size = batch_size,\n",
    "        epochs = epochs, verbose = 1, validation_data = (x_test, y_test))"
   ]
  },
  {
   "cell_type": "code",
   "execution_count": 7,
   "metadata": {},
   "outputs": [
    {
     "name": "stdout",
     "output_type": "stream",
     "text": [
      "10000/10000 [==============================] - 0s 24us/step\n",
      "\n",
      "Test loss: 0.27116234516501425\n",
      "Test accuracy: 0.9283\n"
     ]
    }
   ],
   "source": [
    "# 検証\n",
    "score = model.evaluate(x_test, y_test, verbose = 1)\n",
    "print()\n",
    "print('Test loss:', score[0])\n",
    "print('Test accuracy:', score[1])"
   ]
  },
  {
   "cell_type": "code",
   "execution_count": 29,
   "metadata": {},
   "outputs": [
    {
     "data": {
      "text/plain": [
       "array([[8.6324604e-08, 2.3124647e-13, 3.6825050e-08, 7.6128263e-04,\n",
       "        6.0045942e-08, 9.9434292e-06, 2.0160695e-15, 9.9903619e-01,\n",
       "        2.3279024e-06, 1.9002358e-04]], dtype=float32)"
      ]
     },
     "execution_count": 29,
     "metadata": {},
     "output_type": "execute_result"
    }
   ],
   "source": [
    "model.predict(x_test[[0][:]])"
   ]
  },
  {
   "cell_type": "code",
   "execution_count": 9,
   "metadata": {},
   "outputs": [
    {
     "data": {
      "image/png": "[encoded data removed]",
      "text/plain": [
       "<Figure size 432x288 with 1 Axes>"
      ]
     },
     "metadata": {
      "needs_background": "light"
     },
     "output_type": "display_data"
    }
   ],
   "source": [
    "import matplotlib.pyplot as plt\n",
    "%matplotlib inline\n",
    "\n",
    "loss     = history.history['loss']\n",
    "val_loss = history.history['val_loss']\n",
    "\n",
    "nb_epoch = len(loss)\n",
    "plt.plot(range(nb_epoch), loss, marker = '.', label = 'loss')\n",
    "plt.plot(range(nb_epoch), val_loss, marker = '.', label = 'val_loss')\n",
    "plt.legend(loc = 'best', fontsize = 10)\n",
    "plt.grid()\n",
    "plt.xlabel('epoch')\n",
    "plt.ylabel('loss')\n",
    "plt.show()"
   ]
  },
  {
   "cell_type": "markdown",
   "metadata": {},
   "source": [
    "## CNN"
   ]
  },
  {
   "cell_type": "code",
   "execution_count": 7,
   "metadata": {
    "scrolled": true
   },
   "outputs": [],
   "source": [
    "import keras\n",
    "from keras.datasets import mnist\n",
    "from keras.models import Sequential\n",
    "from keras.layers import Dense, Dropout, InputLayer, Flatten, Conv2D, MaxPooling2D\n",
    "from keras.optimizers import RMSprop"
   ]
  },
  {
   "cell_type": "code",
   "execution_count": 2,
   "metadata": {},
   "outputs": [],
   "source": [
    "# MNIST データを読み込む\n",
    "(x_train, y_train), (x_test, y_test) = mnist.load_data()"
   ]
  },
  {
   "cell_type": "code",
   "execution_count": 3,
   "metadata": {},
   "outputs": [],
   "source": [
    "# MNIST データを加工する\n",
    "x_train = x_train.reshape(60000, 28, 28, 1)\n",
    "x_test  = x_test.reshape(10000, 28, 28, 1)\n",
    "x_train = x_train.astype('float32')\n",
    "x_test  = x_test.astype('float32')\n",
    "x_train/= 255\n",
    "x_test /= 255\n",
    "y_train = keras.utils.to_categorical(y_train, 10)\n",
    "y_test  = keras.utils.to_categorical(y_test, 10)"
   ]
  },
  {
   "cell_type": "code",
   "execution_count": 4,
   "metadata": {},
   "outputs": [
    {
     "data": {
      "text/plain": [
       "(60000, 28, 28, 1)"
      ]
     },
     "execution_count": 4,
     "metadata": {},
     "output_type": "execute_result"
    }
   ],
   "source": [
    "x_train.shape"
   ]
  },
  {
   "cell_type": "code",
   "execution_count": 5,
   "metadata": {},
   "outputs": [
    {
     "data": {
      "text/plain": [
       "(10000, 28, 28, 1)"
      ]
     },
     "execution_count": 5,
     "metadata": {},
     "output_type": "execute_result"
    }
   ],
   "source": [
    "x_test.shape"
   ]
  },
  {
   "cell_type": "code",
   "execution_count": 8,
   "metadata": {},
   "outputs": [
    {
     "name": "stdout",
     "output_type": "stream",
     "text": [
      "WARNING:tensorflow:From C:\\Users\\admin.H118\\Anaconda3\\lib\\site-packages\\tensorflow\\python\\framework\\op_def_library.py:263: colocate_with (from tensorflow.python.framework.ops) is deprecated and will be removed in a future version.\n",
      "Instructions for updating:\n",
      "Colocations handled automatically by placer.\n",
      "WARNING:tensorflow:From C:\\Users\\admin.H118\\Anaconda3\\lib\\site-packages\\keras\\backend\\tensorflow_backend.py:3445: calling dropout (from tensorflow.python.ops.nn_ops) with keep_prob is deprecated and will be removed in a future version.\n",
      "Instructions for updating:\n",
      "Please use `rate` instead of `keep_prob`. Rate should be set to `rate = 1 - keep_prob`.\n"
     ]
    }
   ],
   "source": [
    "\n",
    "# Dense : 第1引数で出力の次元数を指定します。\n",
    "# 入力の次元数はinput_shapeで指定します(指定しない場合は出力と同じ)\n",
    "model = Sequential()\n",
    "\n",
    "model.add(Conv2D(32, kernel_size=(3, 3), activation='relu', input_shape=(28, 28, 1)))\n",
    "model.add(Conv2D(64, (3, 3), activation='relu'))\n",
    "model.add(MaxPooling2D(pool_size=(2, 2)))\n",
    "model.add(Dropout(0.25))\n",
    "model.add(Flatten())\n",
    "model.add(Dense(128, activation='relu'))\n",
    "model.add(Dropout(0.5))\n",
    "model.add(Dense(10, activation='softmax'))\n",
    "\n",
    "# モデルをコンパイルする\n",
    "model.compile(loss = 'categorical_crossentropy', optimizer = 'rmsprop', metrics = ['accuracy'])"
   ]
  },
  {
   "cell_type": "code",
   "execution_count": 9,
   "metadata": {},
   "outputs": [
    {
     "name": "stdout",
     "output_type": "stream",
     "text": [
      "WARNING:tensorflow:From C:\\Users\\admin.H118\\Anaconda3\\lib\\site-packages\\tensorflow\\python\\ops\\math_ops.py:3066: to_int32 (from tensorflow.python.ops.math_ops) is deprecated and will be removed in a future version.\n",
      "Instructions for updating:\n",
      "Use tf.cast instead.\n",
      "Train on 60000 samples, validate on 10000 samples\n",
      "Epoch 1/30\n",
      "60000/60000 [==============================] - 104s 2ms/step - loss: 0.2386 - acc: 0.9268 - val_loss: 0.0586 - val_acc: 0.9829\n",
      "Epoch 2/30\n",
      "60000/60000 [==============================] - 94s 2ms/step - loss: 0.0861 - acc: 0.9746 - val_loss: 0.0408 - val_acc: 0.9867\n",
      "Epoch 3/30\n",
      "60000/60000 [==============================] - 96s 2ms/step - loss: 0.0640 - acc: 0.9807 - val_loss: 0.0428 - val_acc: 0.9852\n",
      "Epoch 4/30\n",
      "60000/60000 [==============================] - 98s 2ms/step - loss: 0.0560 - acc: 0.9835 - val_loss: 0.0363 - val_acc: 0.9876\n",
      "Epoch 5/30\n",
      "60000/60000 [==============================] - 94s 2ms/step - loss: 0.0529 - acc: 0.9843 - val_loss: 0.0295 - val_acc: 0.9904\n",
      "Epoch 6/30\n",
      "60000/60000 [==============================] - 99s 2ms/step - loss: 0.0523 - acc: 0.9849 - val_loss: 0.0334 - val_acc: 0.9899\n",
      "Epoch 7/30\n",
      "60000/60000 [==============================] - 106s 2ms/step - loss: 0.0546 - acc: 0.9854 - val_loss: 0.0404 - val_acc: 0.9878\n",
      "Epoch 8/30\n",
      "60000/60000 [==============================] - 98s 2ms/step - loss: 0.0555 - acc: 0.9847 - val_loss: 0.0347 - val_acc: 0.9892\n",
      "Epoch 9/30\n",
      "60000/60000 [==============================] - 105s 2ms/step - loss: 0.0561 - acc: 0.9841 - val_loss: 0.0318 - val_acc: 0.9897\n",
      "Epoch 10/30\n",
      "60000/60000 [==============================] - 105s 2ms/step - loss: 0.0583 - acc: 0.9843 - val_loss: 0.0382 - val_acc: 0.9896\n",
      "Epoch 11/30\n",
      "60000/60000 [==============================] - 105s 2ms/step - loss: 0.0608 - acc: 0.9837 - val_loss: 0.0366 - val_acc: 0.9890\n",
      "Epoch 12/30\n",
      "60000/60000 [==============================] - 101s 2ms/step - loss: 0.0607 - acc: 0.9839 - val_loss: 0.0342 - val_acc: 0.9906\n",
      "Epoch 13/30\n",
      "60000/60000 [==============================] - 102s 2ms/step - loss: 0.0605 - acc: 0.9842 - val_loss: 0.0480 - val_acc: 0.9855\n",
      "Epoch 14/30\n",
      "60000/60000 [==============================] - 99s 2ms/step - loss: 0.0617 - acc: 0.9834 - val_loss: 0.0353 - val_acc: 0.9907\n",
      "Epoch 15/30\n",
      "60000/60000 [==============================] - 98s 2ms/step - loss: 0.0605 - acc: 0.9838 - val_loss: 0.0345 - val_acc: 0.9901\n",
      "Epoch 16/30\n",
      "60000/60000 [==============================] - 98s 2ms/step - loss: 0.0640 - acc: 0.9832 - val_loss: 0.0360 - val_acc: 0.9893\n",
      "Epoch 17/30\n",
      "60000/60000 [==============================] - 99s 2ms/step - loss: 0.0621 - acc: 0.9832 - val_loss: 0.0390 - val_acc: 0.9892\n",
      "Epoch 18/30\n",
      "60000/60000 [==============================] - 99s 2ms/step - loss: 0.0607 - acc: 0.9843 - val_loss: 0.0444 - val_acc: 0.9903\n",
      "Epoch 19/30\n",
      "60000/60000 [==============================] - 101s 2ms/step - loss: 0.0628 - acc: 0.9838 - val_loss: 0.0408 - val_acc: 0.9900\n",
      "Epoch 20/30\n",
      "60000/60000 [==============================] - 99s 2ms/step - loss: 0.0658 - acc: 0.9837 - val_loss: 0.0455 - val_acc: 0.9894\n",
      "Epoch 21/30\n",
      "60000/60000 [==============================] - 102s 2ms/step - loss: 0.0641 - acc: 0.9834 - val_loss: 0.0457 - val_acc: 0.9900\n",
      "Epoch 22/30\n",
      "60000/60000 [==============================] - 101s 2ms/step - loss: 0.0650 - acc: 0.9836 - val_loss: 0.1815 - val_acc: 0.9809\n",
      "Epoch 23/30\n",
      "60000/60000 [==============================] - 99s 2ms/step - loss: 0.0659 - acc: 0.9832 - val_loss: 0.0365 - val_acc: 0.9899\n",
      "Epoch 24/30\n",
      "60000/60000 [==============================] - 99s 2ms/step - loss: 0.0644 - acc: 0.9840 - val_loss: 0.0397 - val_acc: 0.9903\n",
      "Epoch 25/30\n",
      "60000/60000 [==============================] - 94s 2ms/step - loss: 0.0664 - acc: 0.9842 - val_loss: 0.0348 - val_acc: 0.9913\n",
      "Epoch 26/30\n",
      "60000/60000 [==============================] - 96s 2ms/step - loss: 0.0636 - acc: 0.9843 - val_loss: 0.0354 - val_acc: 0.9902\n",
      "Epoch 27/30\n",
      "60000/60000 [==============================] - 94s 2ms/step - loss: 0.0680 - acc: 0.9831 - val_loss: 0.0481 - val_acc: 0.9870\n",
      "Epoch 28/30\n",
      "60000/60000 [==============================] - 94s 2ms/step - loss: 0.0686 - acc: 0.9830 - val_loss: 0.0438 - val_acc: 0.9891\n",
      "Epoch 29/30\n",
      "60000/60000 [==============================] - 94s 2ms/step - loss: 0.0642 - acc: 0.9841 - val_loss: 0.0474 - val_acc: 0.9896\n",
      "Epoch 30/30\n",
      "60000/60000 [==============================] - 94s 2ms/step - loss: 0.0680 - acc: 0.9832 - val_loss: 0.0413 - val_acc: 0.9900\n"
     ]
    }
   ],
   "source": [
    "# 学習\n",
    "epochs = 30\n",
    "batch_size = 128\n",
    "history = model.fit(x_train, y_train, batch_size = batch_size,\n",
    "        epochs = epochs, verbose = 1, validation_data = (x_test, y_test))"
   ]
  },
  {
   "cell_type": "code",
   "execution_count": 10,
   "metadata": {},
   "outputs": [
    {
     "name": "stdout",
     "output_type": "stream",
     "text": [
      "10000/10000 [==============================] - 6s 554us/step\n",
      "Test loss: 0.04126760577610748\n",
      "Test accuracy: 0.99\n"
     ]
    }
   ],
   "source": [
    "# 検証\n",
    "score = model.evaluate(x_test, y_test, verbose = 1)\n",
    "print('Test loss:', score[0])\n",
    "print('Test accuracy:', score[1])"
   ]
  },
  {
   "cell_type": "code",
   "execution_count": 29,
   "metadata": {},
   "outputs": [
    {
     "data": {
      "text/plain": [
       "array([[8.6324604e-08, 2.3124647e-13, 3.6825050e-08, 7.6128263e-04,\n",
       "        6.0045942e-08, 9.9434292e-06, 2.0160695e-15, 9.9903619e-01,\n",
       "        2.3279024e-06, 1.9002358e-04]], dtype=float32)"
      ]
     },
     "execution_count": 29,
     "metadata": {},
     "output_type": "execute_result"
    }
   ],
   "source": [
    "model.predict(x_test[[0][:]])"
   ]
  },
  {
   "cell_type": "code",
   "execution_count": 11,
   "metadata": {},
   "outputs": [
    {
     "data": {
      "image/png": "[encoded data removed]",
      "text/plain": [
       "<Figure size 432x288 with 1 Axes>"
      ]
     },
     "metadata": {
      "needs_background": "light"
     },
     "output_type": "display_data"
    }
   ],
   "source": [
    "import matplotlib.pyplot as plt\n",
    "%matplotlib inline\n",
    "\n",
    "loss     = history.history['loss']\n",
    "val_loss = history.history['val_loss']\n",
    "\n",
    "nb_epoch = len(loss)\n",
    "plt.plot(range(nb_epoch), loss, marker = '.', label = 'loss')\n",
    "plt.plot(range(nb_epoch), val_loss, marker = '.', label = 'val_loss')\n",
    "plt.legend(loc = 'best', fontsize = 10)\n",
    "plt.grid()\n",
    "plt.xlabel('epoch')\n",
    "plt.ylabel('loss')\n",
    "plt.show()"
   ]
  },
  {
   "cell_type": "markdown",
   "metadata": {},
   "source": [
    "epoch=10 のval_loss を見ると\n",
    "NN: 0.275 に比べ\n",
    "CNN: 0.03\n",
    "と大きく改善されている。"
   ]
  },
  {
   "cell_type": "markdown",
   "metadata": {},
   "source": [
    "#### epoch22に一体何が？"
   ]
  },
  {
   "cell_type": "markdown",
   "metadata": {},
   "source": [
    "## Autoencoder"
   ]
  },
  {
   "cell_type": "code",
   "execution_count": 12,
   "metadata": {},
   "outputs": [],
   "source": [
    "from keras.layers import Input, Dense\n",
    "from keras.models import Model\n",
    "\n",
    "# this is the size of our encoded representations\n",
    "encoding_dim = 32\n",
    "\n",
    "# this is our input placeholder\n",
    "input_img = Input(shape=(784,))\n",
    "# \"encoded\" is the encoded representation of the input\n",
    "encoded = Dense(encoding_dim, activation='relu')(input_img)\n",
    "# \"decoded\" is the lossy reconstruction of the input\n",
    "decoded = Dense(784, activation='sigmoid')(encoded)\n",
    "\n",
    "# this model maps an input to its reconstruction\n",
    "autoencoder = Model(input_img, decoded)"
   ]
  },
  {
   "cell_type": "code",
   "execution_count": 13,
   "metadata": {},
   "outputs": [],
   "source": [
    "# This model maps an input to its encoded representation\n",
    "encoder = Model(input_img, encoded)\n",
    "# create a placeholder for an encoded (32-dimensional) input\n",
    "encoded_input = Input(shape=(encoding_dim,))\n",
    "# retrieve the last layer of the autoencoder model\n",
    "decoder_layer = autoencoder.layers[-1]\n",
    "# create the decoder model\n",
    "decoder = Model(encoded_input, decoder_layer(encoded_input))\n",
    "\n",
    "autoencoder.compile(optimizer='adadelta', loss='binary_crossentropy')"
   ]
  },
  {
   "cell_type": "code",
   "execution_count": 14,
   "metadata": {},
   "outputs": [
    {
     "name": "stdout",
     "output_type": "stream",
     "text": [
      "x_train.shape: (60000, 784)\n",
      "x_test.shape: (10000, 784)\n"
     ]
    }
   ],
   "source": [
    "from keras.datasets import mnist\n",
    "import numpy as np\n",
    "\n",
    "(x_train, _), (x_test, _) = mnist.load_data()\n",
    "x_train = x_train.astype('float32') / 255.\n",
    "x_test = x_test.astype('float32') / 255.\n",
    "x_train = x_train.reshape((len(x_train)), np.prod(x_train.shape[1:]))\n",
    "x_test = x_test.reshape((len(x_test), np.prod(x_test.shape[1:])))\n",
    "print('x_train.shape: {}'.format(x_train.shape))\n",
    "print('x_test.shape: {}'.format(x_test.shape))"
   ]
  },
  {
   "cell_type": "code",
   "execution_count": 15,
   "metadata": {},
   "outputs": [
    {
     "name": "stdout",
     "output_type": "stream",
     "text": [
      "Train on 60000 samples, validate on 10000 samples\n",
      "Epoch 1/50\n",
      "60000/60000 [==============================] - 6s 93us/step - loss: 0.3632 - val_loss: 0.2692\n",
      "Epoch 2/50\n",
      "60000/60000 [==============================] - 4s 67us/step - loss: 0.2600 - val_loss: 0.2471\n",
      "Epoch 3/50\n",
      "60000/60000 [==============================] - 3s 58us/step - loss: 0.2363 - val_loss: 0.2239\n",
      "Epoch 4/50\n",
      "60000/60000 [==============================] - 4s 66us/step - loss: 0.2166 - val_loss: 0.2070\n",
      "Epoch 5/50\n",
      "60000/60000 [==============================] - 4s 67us/step - loss: 0.2024 - val_loss: 0.1951\n",
      "Epoch 6/50\n",
      "60000/60000 [==============================] - 4s 64us/step - loss: 0.1920 - val_loss: 0.1859\n",
      "Epoch 7/50\n",
      "60000/60000 [==============================] - 4s 69us/step - loss: 0.1839 - val_loss: 0.1787\n",
      "Epoch 8/50\n",
      "60000/60000 [==============================] - 4s 66us/step - loss: 0.1772 - val_loss: 0.1726\n",
      "Epoch 9/50\n",
      "60000/60000 [==============================] - 4s 68us/step - loss: 0.1714 - val_loss: 0.1672\n",
      "Epoch 10/50\n",
      "60000/60000 [==============================] - 4s 69us/step - loss: 0.1664 - val_loss: 0.1625\n",
      "Epoch 11/50\n",
      "60000/60000 [==============================] - 4s 68us/step - loss: 0.1619 - val_loss: 0.1583\n",
      "Epoch 12/50\n",
      "60000/60000 [==============================] - 4s 68us/step - loss: 0.1579 - val_loss: 0.1545\n",
      "Epoch 13/50\n",
      "60000/60000 [==============================] - 4s 62us/step - loss: 0.1542 - val_loss: 0.1509\n",
      "Epoch 14/50\n",
      "60000/60000 [==============================] - 4s 67us/step - loss: 0.1508 - val_loss: 0.1476\n",
      "Epoch 15/50\n",
      "60000/60000 [==============================] - 4s 66us/step - loss: 0.1477 - val_loss: 0.1447\n",
      "Epoch 16/50\n",
      "60000/60000 [==============================] - 4s 71us/step - loss: 0.1449 - val_loss: 0.1419\n",
      "Epoch 17/50\n",
      "60000/60000 [==============================] - 4s 70us/step - loss: 0.1422 - val_loss: 0.1395\n",
      "Epoch 18/50\n",
      "60000/60000 [==============================] - 5s 77us/step - loss: 0.1398 - val_loss: 0.1371\n",
      "Epoch 19/50\n",
      "60000/60000 [==============================] - 4s 71us/step - loss: 0.1375 - val_loss: 0.1349\n",
      "Epoch 20/50\n",
      "60000/60000 [==============================] - 5s 76us/step - loss: 0.1354 - val_loss: 0.1327\n",
      "Epoch 21/50\n",
      "60000/60000 [==============================] - 4s 74us/step - loss: 0.1333 - val_loss: 0.1307\n",
      "Epoch 22/50\n",
      "60000/60000 [==============================] - 4s 67us/step - loss: 0.1314 - val_loss: 0.1288\n",
      "Epoch 23/50\n",
      "60000/60000 [==============================] - 4s 68us/step - loss: 0.1294 - val_loss: 0.1268\n",
      "Epoch 24/50\n",
      "60000/60000 [==============================] - 4s 69us/step - loss: 0.1276 - val_loss: 0.1250\n",
      "Epoch 25/50\n",
      "60000/60000 [==============================] - 4s 73us/step - loss: 0.1257 - val_loss: 0.1232\n",
      "Epoch 26/50\n",
      "60000/60000 [==============================] - 4s 73us/step - loss: 0.1240 - val_loss: 0.1215\n",
      "Epoch 27/50\n",
      "60000/60000 [==============================] - 4s 72us/step - loss: 0.1223 - val_loss: 0.1197\n",
      "Epoch 28/50\n",
      "60000/60000 [==============================] - 4s 74us/step - loss: 0.1206 - val_loss: 0.1181\n",
      "Epoch 29/50\n",
      "60000/60000 [==============================] - 4s 70us/step - loss: 0.1190 - val_loss: 0.1166\n",
      "Epoch 30/50\n",
      "60000/60000 [==============================] - 4s 68us/step - loss: 0.1175 - val_loss: 0.1151\n",
      "Epoch 31/50\n",
      "60000/60000 [==============================] - 4s 69us/step - loss: 0.1160 - val_loss: 0.1137\n",
      "Epoch 32/50\n",
      "60000/60000 [==============================] - 4s 72us/step - loss: 0.1146 - val_loss: 0.1123\n",
      "Epoch 33/50\n",
      "60000/60000 [==============================] - 5s 80us/step - loss: 0.1133 - val_loss: 0.1111 ETA: \n",
      "Epoch 34/50\n",
      "60000/60000 [==============================] - 5s 78us/step - loss: 0.1121 - val_loss: 0.1099\n",
      "Epoch 35/50\n",
      "60000/60000 [==============================] - 4s 72us/step - loss: 0.1110 - val_loss: 0.1089\n",
      "Epoch 36/50\n",
      "60000/60000 [==============================] - 4s 74us/step - loss: 0.1100 - val_loss: 0.1079\n",
      "Epoch 37/50\n",
      "60000/60000 [==============================] - 4s 72us/step - loss: 0.1090 - val_loss: 0.1070\n",
      "Epoch 38/50\n",
      "60000/60000 [==============================] - 4s 70us/step - loss: 0.1082 - val_loss: 0.1061\n",
      "Epoch 39/50\n",
      "60000/60000 [==============================] - 4s 70us/step - loss: 0.1074 - val_loss: 0.1054\n",
      "Epoch 40/50\n",
      "60000/60000 [==============================] - 4s 70us/step - loss: 0.1066 - val_loss: 0.1047\n",
      "Epoch 41/50\n",
      "60000/60000 [==============================] - 5s 78us/step - loss: 0.1059 - val_loss: 0.1040\n",
      "Epoch 42/50\n",
      "60000/60000 [==============================] - 5s 91us/step - loss: 0.1053 - val_loss: 0.1034\n",
      "Epoch 43/50\n",
      "60000/60000 [==============================] - 4s 71us/step - loss: 0.1047 - val_loss: 0.1028\n",
      "Epoch 44/50\n",
      "60000/60000 [==============================] - 4s 73us/step - loss: 0.1042 - val_loss: 0.1023\n",
      "Epoch 45/50\n",
      "60000/60000 [==============================] - 4s 70us/step - loss: 0.1037 - val_loss: 0.1018\n",
      "Epoch 46/50\n",
      "60000/60000 [==============================] - 4s 70us/step - loss: 0.1032 - val_loss: 0.1014\n",
      "Epoch 47/50\n",
      "60000/60000 [==============================] - 4s 71us/step - loss: 0.1028 - val_loss: 0.1010\n",
      "Epoch 48/50\n",
      "60000/60000 [==============================] - 4s 71us/step - loss: 0.1024 - val_loss: 0.1006\n",
      "Epoch 49/50\n",
      "60000/60000 [==============================] - 5s 78us/step - loss: 0.1020 - val_loss: 0.1002\n",
      "Epoch 50/50\n",
      "60000/60000 [==============================] - 4s 71us/step - loss: 0.1016 - val_loss: 0.0999\n"
     ]
    },
    {
     "data": {
      "text/plain": [
       "<keras.callbacks.History at 0x1f1a764f630>"
      ]
     },
     "execution_count": 15,
     "metadata": {},
     "output_type": "execute_result"
    }
   ],
   "source": [
    "autoencoder.fit(x_train, x_train,\n",
    "                epochs=50,\n",
    "                batch_size=256,\n",
    "                shuffle=True,\n",
    "                validation_data=(x_test,x_test))"
   ]
  },
  {
   "cell_type": "code",
   "execution_count": 16,
   "metadata": {},
   "outputs": [
    {
     "name": "stdout",
     "output_type": "stream",
     "text": [
      "encoded_imgs.mean(): 7.67834997177124\n",
      "decoded_imgs.mean(): 0.1326075792312622\n"
     ]
    }
   ],
   "source": [
    "# encode and decode some digits\n",
    "# note that we take them from *test* set\n",
    "encoded_imgs = encoder.predict(x_test)\n",
    "decoded_imgs = decoder.predict(encoded_imgs)\n",
    "print('encoded_imgs.mean(): {}'.format(encoded_imgs.mean()))\n",
    "print('decoded_imgs.mean(): {}'.format(decoded_imgs.mean()))"
   ]
  },
  {
   "cell_type": "markdown",
   "metadata": {},
   "source": [
    "## 比較"
   ]
  },
  {
   "cell_type": "code",
   "execution_count": 36,
   "metadata": {},
   "outputs": [
    {
     "data": {
      "image/png": "[encoded data removed]",
      "text/plain": [
       "<Figure size 1440x288 with 20 Axes>"
      ]
     },
     "metadata": {
      "needs_background": "light"
     },
     "output_type": "display_data"
    }
   ],
   "source": [
    "%matplotlib inline\n",
    "# use Matplotlib(don't ask)\n",
    "import matplotlib.pyplot as plt\n",
    "\n",
    "n = 10 # how many digits we will display\n",
    "plt.figure(figsize=(20, 4))\n",
    "for i in range(n):\n",
    "    # display original\n",
    "    ax = plt.subplot(2, n, i + 1)\n",
    "    plt.imshow(x_test[i].reshape(28, 28))\n",
    "    plt.gray()\n",
    "    ax.get_xaxis().set_visible(False)\n",
    "    ax.get_yaxis().set_visible(False)\n",
    "    \n",
    "    # display reconstrution\n",
    "    ax = plt.subplot(2, n, i + 1+ n)\n",
    "    plt.imshow(decoded_imgs[i].reshape(28, 28))\n",
    "    plt.gray()\n",
    "    ax.get_xaxis().set_visible(False)\n",
    "    ax.get_yaxis().set_visible(False)\n",
    "\n",
    "plt.show()"
   ]
  },
  {
   "cell_type": "markdown",
   "metadata": {},
   "source": [
    "画像処理で簡単にぼやけが修正できるであろう程度に復元できている。\n",
    "８枚目の「9」は少しあやしい・・・？"
   ]
  },
  {
   "cell_type": "markdown",
   "metadata": {},
   "source": [
    "## 表示"
   ]
  },
  {
   "cell_type": "code",
   "execution_count": 40,
   "metadata": {},
   "outputs": [
    {
     "data": {
      "image/png": "[encoded data removed]",
      "text/plain": [
       "<Figure size 1440x288 with 10 Axes>"
      ]
     },
     "metadata": {
      "needs_background": "light"
     },
     "output_type": "display_data"
    }
   ],
   "source": [
    "n = 10 # how many digits we will display\n",
    "plt.figure(figsize=(20, 4))\n",
    "for i in range(n):\n",
    "    # display latent images\n",
    "    ax = plt.subplot(2, n, i + 1)\n",
    "    plt.imshow(encoded_imgs[i].reshape(8, 4))\n",
    "    plt.gray()\n",
    "    ax.get_xaxis().set_visible(False)\n",
    "    ax.get_yaxis().set_visible(False)\n",
    "\n",
    "plt.show()"
   ]
  },
  {
   "cell_type": "markdown",
   "metadata": {},
   "source": [
    "３枚目と６枚目がともに「１」の画像。なるほど、人が見てわかるくらい確かに似ている。"
   ]
  }
 ],
 "metadata": {
  "kernelspec": {
   "display_name": "Python 3",
   "language": "python",
   "name": "python3"
  },
  "language_info": {
   "codemirror_mode": {
    "name": "ipython",
    "version": 3
   },
   "file_extension": ".py",
   "mimetype": "text/x-python",
   "name": "python",
   "nbconvert_exporter": "python",
   "pygments_lexer": "ipython3",
   "version": "3.7.3"
  }
 },
 "nbformat": 4,
 "nbformat_minor": 2
}
