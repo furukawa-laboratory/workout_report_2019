{
 "cells": [
  {
   "cell_type": "markdown",
   "metadata": {},
   "source": [
    "# バイアスとバリアンスについて"
   ]
  },
  {
   "cell_type": "markdown",
   "metadata": {},
   "source": [
    "#### バイアスとバリアンスは、機械学習において、モデルの予測した値と真の値とのズレを評価する指針である。\n",
    "#### バイアスは未学習、バリアンスは過学習を評価しており、バイアスとバリアンスを見比べることで、真の値とのずれが、未学習によるものなのか過学習によるものなのかが直感的に理解できる。"
   ]
  },
  {
   "cell_type": "markdown",
   "metadata": {},
   "source": [
    "## 未学習と過学習"
   ]
  },
  {
   "cell_type": "markdown",
   "metadata": {},
   "source": [
    "### 未学習とは、まだ十分な学習ができておらず、データを表現するモデルが未完成な状態のこと。全然勉強してないからテストの問題が解けない状態は未学習\n",
    "### 過学習とは、訓練データを完ぺきに表現しようとするあまりに、未知のデータに対して全く識別できなくなった状態のこと。過去問やりすぎて値を変えられただけなのに解けないとか、過去問で出た問題以外解けないよという状態は過学習\n",
    "### つまりバイアスとバリアンスは、データを表現するモデルが「まだ勉強不足か、やりすぎなのか」を表している。"
   ]
  },
  {
   "cell_type": "code",
   "execution_count": 4,
   "metadata": {},
   "outputs": [],
   "source": [
    "import numpy as np\n",
    "from sklearn.preprocessing import PolynomialFeatures\n",
    "import math\n",
    "import matplotlib.pyplot as plt\n",
    "np.random.seed(seed=32)\n",
    "# create samples\n",
    "sample_size = 50\n",
    "noise_size = 0.2\n",
    "\n",
    "dataX = np.linspace(0.0, 5.0, num=1000).reshape((1000, 1))\n",
    "x = np.random.permutation(dataX)[:sample_size]\n",
    "noise = noise_size * np.random.randn(sample_size, 1)\n",
    "func = np.vectorize(math.sin)\n",
    "y = func(x*1.6) + noise\n"
   ]
  },
  {
   "cell_type": "code",
   "execution_count": 5,
   "metadata": {
    "scrolled": true
   },
   "outputs": [
    {
     "data": {
      "image/png": "[encoded data removed]",
      "text/plain": [
       "<Figure size 432x288 with 1 Axes>"
      ]
     },
     "metadata": {
      "needs_background": "light"
     },
     "output_type": "display_data"
    }
   ],
   "source": [
    "dim = [3, 9]\n",
    "for d in dim:\n",
    "    poly = PolynomialFeatures(degree=d)\n",
    "    X = poly.fit_transform(x)\n",
    "    XTX = np.dot(X.T, X)\n",
    "    XTX_inv = np.linalg.inv(XTX)\n",
    "    a = np.dot(XTX_inv, np.dot(X.T, y))\n",
    "    Xt = poly.fit_transform(dataX)\n",
    "    yt = np.dot(Xt, a)\n",
    "    plt.plot(dataX, yt, label='%d polynomial' % d)"
   ]
  },
  {
   "cell_type": "markdown",
   "metadata": {},
   "source": [
    "# バイアスとバリアンスを式から理解する(バイアス-バリアンス分解)"
   ]
  },
  {
   "cell_type": "markdown",
   "metadata": {},
   "source": [
    "### > バイアス-バリアンス分解は未学習や過学習の状況を理論的に解析する手法です。\n",
    "### とのことなのでせっかくなのでやってみます\n",
    "### バイアス-バリアンス分解を考えるためには、まず損失関数の期待値を考えなければならない."
   ]
  },
  {
   "cell_type": "markdown",
   "metadata": {},
   "source": [
    "### 訓練データxに対する正解の値tがデータとして手元にあり、モデルy(x)という関数によって、xとtの関係を学習させる。モデルを学習させるための損失関数を二乗誤差とすると\n",
    "$$\n",
    "    L(y(x),t) = (y(x)-t)^2\n",
    "$$\n",
    "### 損失関数はこの式で表される。右辺のカッコの中身はモデルの出した答えと真の値の誤差となっている。誤差があればあるほどLは大きくなるため、Lがなるべく小さくなるようにy(x)を決定する。"
   ]
  },
  {
   "cell_type": "markdown",
   "metadata": {},
   "source": [
    "### ここで、xとtというデータが得られる同時確率をp(x,t)とすると、損失関数の期待値は以下の式で表される。\n",
    "$$\n",
    "    E[L(y(x),t)] = \\int\\int(y(x)-t)^2p(x,t)dtdx\n",
    "$$"
   ]
  },
  {
   "cell_type": "markdown",
   "metadata": {},
   "source": [
    "### この式は確率分布の乗法方程式$ p(x,t)=p(t|x)p(x) $ によって以下の式へと変換できる\n",
    "$$\n",
    "    E[L(y(x),t)] = \\int p(x)dx\\int(y(x)-t)^2p(t|x)dt\n",
    "$$\n",
    "### この式より、損失の期待値が最小となるには$ \\int(y(x)-t)^2p(t|x)dt $ が最小となればよく、変化させられるのはy(x)(モデルの結果)のみなので\n",
    "$$\n",
    "    \\frac{\\partial}{\\partial y(x)}\\int(y(x)-t)^2p(t|x)dt=0\n",
    "$$\n",
    "### となればよい"
   ]
  },
  {
   "cell_type": "markdown",
   "metadata": {},
   "source": [
    "### 常識を変換していくと、\n",
    "$$\n",
    "    \\frac{\\partial}{\\partial y(x)}\\int(y(x)-t)^2p(t|x)dt\n",
    "$$\n",
    "$$\n",
    "    =2\\int(y(x)-t)p(t|x)dt\n",
    "$$\n",
    "$$\n",
    "    =2\\int y(x)p(t|x)dt-2\\int tp(t|x)dt\n",
    "$$\n",
    "$$\n",
    "    =2 y(x)\\int p(t|x)dt-2\\int tp(t|x)dt\n",
    "$$\n",
    "### ここで$\\int p(t|x)dt$は1であるので\n",
    "$$\n",
    "    =2 y(x)-2\\int tp(t|x)dt=0\n",
    "$$\n",
    "$$\n",
    "    y(x)=\\int tp(t|x)dt\n",
    "$$\n",
    "### ここで$\\int tp(t|x)$は条件付き期待値$E(t|x)$であるので\n",
    "$$\n",
    "    y(x)=E(t|x)\n",
    "$$\n",
    "### このことから、モデルを条件付き期待値によって決めることで、損失が最小化されることが分かった"
   ]
  },
  {
   "cell_type": "markdown",
   "metadata": {},
   "source": [
    "### 最適解が期待値だということがわかったので、損失関数の右辺を次のように変形することができる\n",
    "$$\n",
    "    L(y(x),t) = (y(x)+E[t|x]-E[t|x]-t)^2\n",
    "$$\n",
    "### 損失関数の右辺に$ E[t|x]-E[t|x]=0 $を加えただけである。右辺をさらに展開すると\n",
    "$$\n",
    "    L(y(x),t) = (y(x)+E[t|x]-E[t|x]-t)^2\n",
    "$$\n",
    "$$\n",
    "              = ((y(x)-E[t|x])+(E[t|x]-t))^2\n",
    "$$\n",
    "$$\n",
    "              = (y(x)-E[t|x])^2+2((y(x)-E[t|x])(E[t|x]-t))+(E[t|x]-t)^2\n",
    "$$"
   ]
  },
  {
   "cell_type": "markdown",
   "metadata": {},
   "source": [
    "### 展開した式を損失関数の期待値の式に代入し、tで積分すると第2項が0となる(らしい)ので損失関数の期待値は以下のようになる\n",
    "$$\n",
    "    E[L(y(x),t)] = \\int\\int(y(x)-E[t|x])^2p(x,t)dtdx+\\int\\int(E[t|x]-t)^2p(x,t)dtdx\n",
    "$$\n",
    "$$\n",
    "     = \\int(y(x)-E[t|x])^2dx\\int p(x,t)dt+\\int\\int(E[t|x]-t)^2p(t|x)p(x)dtdx\n",
    "$$\n",
    "$$\n",
    "     = \\int(y(x)-E[t|x])^2p(x)dx+\\int(E[t|x]-t)^2p(t|x)dt\\int p(x)dx\n",
    "$$\n",
    "$$\n",
    "     = \\int(y(x)-E[t|x])^2p(x)+var[t|x]p(x)\n",
    "$$\n",
    "### 機械学習で変化できるのは$ y(x)$ のみであるため、この式の第1項から、損失が最小となるには$ y(x)=E(t|x)$であることがわかる"
   ]
  },
  {
   "cell_type": "markdown",
   "metadata": {},
   "source": [
    "$$\n",
    "   E[L(y(x),t)] = \\int(y(x)-E[t|x])^2p(x)+var[t|x]p(x)\n",
    "$$\n",
    "### これまでで、損失の期待値が上式であることがわかったが、訓練データ集合$D[x_1,x_2...x_i]$は全ての値を取ってくることはできず、あくまでデータ集合の内の一部を取ってきているに過ぎない。そのためモデルの性能は取ってきたデータDの中身に依存してしまう。そのことを意識して期待値を以下のように書き換える。\n",
    "$$\n",
    "   y(x)\\to y(x;D)\n",
    "$$\n",
    "$$\n",
    "  E[t|x]\\to E[t|x;D]\n",
    "$$\n",
    "### 書き換えた条件付き期待値とモデルを用いて損失の期待値を表すと\n",
    "$$\n",
    "              E_D[L(y(x;D),t)] = E_D[((y(x;D)-E[t|x;D])+(E[t|x;D]-t))^2]\n",
    "$$\n",
    "### 右辺の第2項はモデルが関与できない損失のため、ノイズ校と呼ばれる。そのため、第1項について考えていく\n",
    "$$\n",
    "              E_D[L(y(x;D),t)] = E_D[(y(x;D)-E[t|x;D])^2]\n",
    "$$\n",
    "### この式の右辺に$E_D[y(x;D)]-E_D[y(x;D)]=0$を差し込む\n",
    "$$\n",
    "              E_D[L(y(x;D),t)] = E_D[(y(x;D)+E_D[y(x;D)]-E_D[y(x;D)]-E[t|x;D])^2]\n",
    "$$\n",
    "$$\n",
    "              E_D[L(y(x;D),t)] = E_D[(\\{y(x;D)-E_D[y(x;D)]\\}+\\{E_D[y(x;D)]-E_D[y(x;D)]\\})^2]\n",
    "$$\n",
    "### 期待値の中身を展開すると\n",
    "$$\n",
    "              E_D[L(y(x;D),t)] = E_D[\\{y(x;D)-E_D[y(x;D)]\\}]^2+2(y(x;D)-E_D[y(x;D)])(E_D[y(x;D)]-E_D[y(x;D)])+E_D[\\{E_D[y(x;D)]-E_D[y(x;D)]\\}]^2\n",
    "$$\n",
    "### 第2項は期待値を計算すると0になるため、この式は以下のようになる\n",
    "$$\n",
    "              E_D[L(y(x;D),t)] = E_D[\\{y(x;D)-E_D[y(x;D)]\\}]^2+E_D[\\{E_D[y(x;D)]-E_D[y(x;D)]\\}]^2\n",
    "$$\n",
    "### この式の第1項をバリアンスといい、第2項をバイアスと呼ぶ"
   ]
  },
  {
   "cell_type": "markdown",
   "metadata": {},
   "source": [
    "# バイアスバリアンス分解を書く"
   ]
  },
  {
   "cell_type": "markdown",
   "metadata": {},
   "source": [
    "# まとめて終わり"
   ]
  }
 ],
 "metadata": {
  "kernelspec": {
   "display_name": "Python 3",
   "language": "python",
   "name": "python3"
  },
  "language_info": {
   "codemirror_mode": {
    "name": "ipython",
    "version": 3
   },
   "file_extension": ".py",
   "mimetype": "text/x-python",
   "name": "python",
   "nbconvert_exporter": "python",
   "pygments_lexer": "ipython3",
   "version": "3.7.1"
  }
 },
 "nbformat": 4,
 "nbformat_minor": 2
}
