{
 "cells": [
  {
   "cell_type": "code",
   "execution_count": 32,
   "metadata": {},
   "outputs": [
    {
     "name": "stdout",
     "output_type": "stream",
     "text": [
      "[[ 4 -2]\n",
      " [ 1  1]]\n",
      "[[2]\n",
      " [3]]\n",
      "[[2]\n",
      " [5]]\n"
     ]
    },
    {
     "data": {
      "image/png": "[encoded data removed]",
      "text/plain": [
       "<Figure size 432x288 with 1 Axes>"
      ]
     },
     "metadata": {
      "needs_background": "light"
     },
     "output_type": "display_data"
    }
   ],
   "source": [
    "import numpy as np\n",
    "import matplotlib.pyplot as plt\n",
    "plt.figure()\n",
    "A =np.array([[4,-2],[1,1]])\n",
    "print(A)\n",
    "x=np.array([2,3])\n",
    "x=np.reshape(x,(2,1))\n",
    "print(x)\n",
    "y = np.dot(A,x)\n",
    "print(y)\n",
    "#print(x)\n",
    "# 矢印（ベクトル）の始点\n",
    "X = 0,0\n",
    "Y = 0,0\n",
    "\n",
    "colors = [2,1]\n",
    "plt.quiver(X,Y,x[0],x[1],angles='xy',scale_units='xy',scale=1)\n",
    "plt.quiver(X,Y,y[0],y[1],angles='xy',scale_units='xy',scale=1)\n",
    "\n",
    "# グラフ表示\n",
    "plt.xlim([0,15])\n",
    "plt.ylim([0,15])\n",
    "plt.grid()\n",
    "plt.draw()\n",
    "plt.show()\n"
   ]
  },
  {
   "cell_type": "code",
   "execution_count": 17,
   "metadata": {},
   "outputs": [
    {
     "name": "stdout",
     "output_type": "stream",
     "text": [
      "[[ 4 -2]\n",
      " [ 1  1]]\n",
      "[[2]\n",
      " [2]]\n"
     ]
    },
    {
     "data": {
      "image/png": "[encoded data removed]",
      "text/plain": [
       "<Figure size 432x288 with 1 Axes>"
      ]
     },
     "metadata": {
      "needs_background": "light"
     },
     "output_type": "display_data"
    },
    {
     "data": {
      "text/plain": [
       "'\\nplt1.xlim([-5,10])\\nplt1.ylim([-5,10])\\nplt1.grid()\\nplt1.draw()\\nplt1.show()\\n'"
      ]
     },
     "execution_count": 17,
     "metadata": {},
     "output_type": "execute_result"
    }
   ],
   "source": [
    "import numpy as np\n",
    "import matplotlib.pyplot as plt\n",
    "plt.figure()\n",
    "#plt1.figure\n",
    "A =np.array([[4,-2],[1,1]])\n",
    "print(A)\n",
    "x=np.array([1,1])\n",
    "x=np.reshape(x,(2,1))\n",
    "y = np.dot(A,x)\n",
    "print(y)\n",
    "X = 0,0\n",
    "Y = 0,0\n",
    "\n",
    "colors = [2,1]\n",
    "plt.quiver(X,Y,x[0],x[1],colors[0],angles='xy',scale_units='xy',scale=1)\n",
    "plt.quiver(X,Y,y[0],y[1],colors[1],angles='xy',scale_units='xy',scale=1)\n",
    "\n",
    "# グラフ5\n",
    "plt.xlim([0,5])\n",
    "plt.ylim([0,5])\n",
    "plt.grid()\n",
    "plt.draw()\n",
    "plt.show()"
   ]
  },
  {
   "cell_type": "code",
   "execution_count": 34,
   "metadata": {},
   "outputs": [
    {
     "name": "stdout",
     "output_type": "stream",
     "text": [
      "[[ 4 -2]\n",
      " [ 1  1]]\n",
      "[[6]\n",
      " [3]]\n"
     ]
    },
    {
     "data": {
      "image/png": "[encoded data removed]",
      "text/plain": [
       "<Figure size 432x288 with 1 Axes>"
      ]
     },
     "metadata": {
      "needs_background": "light"
     },
     "output_type": "display_data"
    }
   ],
   "source": [
    "import numpy as np\n",
    "import matplotlib.pyplot as plt\n",
    "plt.figure()\n",
    "#plt1.figure\n",
    "A =np.array([[4,-2],[1,1]])\n",
    "print(A)\n",
    "x=np.array([2,1])\n",
    "x=np.reshape(x,(2,1))\n",
    "y = np.dot(A,x)\n",
    "print(y)\n",
    "X = 0,0\n",
    "Y = 0,0\n",
    "\n",
    "colors = [2,1]\n",
    "plt.quiver(X,Y,x[0],x[1],colors[0],angles='xy',scale_units='xy',scale=1)\n",
    "plt.quiver(X,Y,y[0],y[1],colors[1],angles='xy',scale_units='xy',scale=1)\n",
    "\n",
    "# グラフ5\n",
    "plt.xlim([0,8])\n",
    "plt.ylim([0,8])\n",
    "plt.grid()\n",
    "plt.draw()\n",
    "plt.show()"
   ]
  },
  {
   "cell_type": "code",
   "execution_count": null,
   "metadata": {},
   "outputs": [],
   "source": []
  }
 ],
 "metadata": {
  "kernelspec": {
   "display_name": "Python 3",
   "language": "python",
   "name": "python3"
  },
  "language_info": {
   "codemirror_mode": {
    "name": "ipython",
    "version": 3
   },
   "file_extension": ".py",
   "mimetype": "text/x-python",
   "name": "python",
   "nbconvert_exporter": "python",
   "pygments_lexer": "ipython3",
   "version": "3.7.1"
  }
 },
 "nbformat": 4,
 "nbformat_minor": 2
}
