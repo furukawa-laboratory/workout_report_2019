{
 "cells": [
  {
   "cell_type": "markdown",
   "metadata": {},
   "source": [
    "# KerasでMnistデータを学習(全結合型NN)"
   ]
  },
  {
   "cell_type": "code",
   "execution_count": 3,
   "metadata": {
    "scrolled": true
   },
   "outputs": [
    {
     "name": "stdout",
     "output_type": "stream",
     "text": [
      "Train on 60000 samples, validate on 10000 samples\n",
      "Epoch 1/20\n",
      "60000/60000 [==============================] - 2s 29us/step - loss: 0.5892 - acc: 0.8555 - val_loss: 0.3409 - val_acc: 0.9099\n",
      "Epoch 2/20\n",
      "60000/60000 [==============================] - 1s 20us/step - loss: 0.3306 - acc: 0.9087 - val_loss: 0.3016 - val_acc: 0.9143\n",
      "Epoch 3/20\n",
      "60000/60000 [==============================] - 1s 20us/step - loss: 0.3016 - acc: 0.9157 - val_loss: 0.2864 - val_acc: 0.9214\n",
      "Epoch 4/20\n",
      "60000/60000 [==============================] - 1s 20us/step - loss: 0.2884 - acc: 0.9195 - val_loss: 0.2803 - val_acc: 0.9228\n",
      "Epoch 5/20\n",
      "60000/60000 [==============================] - 1s 21us/step - loss: 0.2803 - acc: 0.9217 - val_loss: 0.2748 - val_acc: 0.9237\n",
      "Epoch 6/20\n",
      "60000/60000 [==============================] - 1s 20us/step - loss: 0.2748 - acc: 0.9239 - val_loss: 0.2737 - val_acc: 0.9243\n",
      "Epoch 7/20\n",
      "60000/60000 [==============================] - 1s 21us/step - loss: 0.2708 - acc: 0.9252 - val_loss: 0.2741 - val_acc: 0.9254\n",
      "Epoch 8/20\n",
      "60000/60000 [==============================] - 1s 23us/step - loss: 0.2675 - acc: 0.9261 - val_loss: 0.2686 - val_acc: 0.9249\n",
      "Epoch 9/20\n",
      "60000/60000 [==============================] - 1s 21us/step - loss: 0.2650 - acc: 0.9272 - val_loss: 0.2694 - val_acc: 0.9252\n",
      "Epoch 10/20\n",
      "60000/60000 [==============================] - 1s 20us/step - loss: 0.2627 - acc: 0.9281 - val_loss: 0.2684 - val_acc: 0.9261\n",
      "Epoch 11/20\n",
      "60000/60000 [==============================] - 1s 20us/step - loss: 0.2611 - acc: 0.9285 - val_loss: 0.2677 - val_acc: 0.9263\n",
      "Epoch 12/20\n",
      "60000/60000 [==============================] - 1s 21us/step - loss: 0.2595 - acc: 0.9292 - val_loss: 0.2666 - val_acc: 0.9277\n",
      "Epoch 13/20\n",
      "60000/60000 [==============================] - 1s 20us/step - loss: 0.2583 - acc: 0.9299 - val_loss: 0.2689 - val_acc: 0.9262\n",
      "Epoch 14/20\n",
      "60000/60000 [==============================] - 1s 20us/step - loss: 0.2569 - acc: 0.9303 - val_loss: 0.2688 - val_acc: 0.9261\n",
      "Epoch 15/20\n",
      "60000/60000 [==============================] - 1s 20us/step - loss: 0.2557 - acc: 0.9306 - val_loss: 0.2713 - val_acc: 0.9259\n",
      "Epoch 16/20\n",
      "60000/60000 [==============================] - 1s 20us/step - loss: 0.2550 - acc: 0.9307 - val_loss: 0.2687 - val_acc: 0.9269\n",
      "Epoch 17/20\n",
      "60000/60000 [==============================] - 1s 21us/step - loss: 0.2542 - acc: 0.9311 - val_loss: 0.2702 - val_acc: 0.9261\n",
      "Epoch 18/20\n",
      "60000/60000 [==============================] - 1s 20us/step - loss: 0.2530 - acc: 0.9318 - val_loss: 0.2712 - val_acc: 0.9274\n",
      "Epoch 19/20\n",
      "60000/60000 [==============================] - 1s 20us/step - loss: 0.2526 - acc: 0.9317 - val_loss: 0.2696 - val_acc: 0.9268\n",
      "Epoch 20/20\n",
      "60000/60000 [==============================] - 1s 20us/step - loss: 0.2521 - acc: 0.9320 - val_loss: 0.2706 - val_acc: 0.9267\n",
      "10000/10000 [==============================] - 0s 27us/step\n",
      "\n",
      "Test loss: 0.270620703920722\n",
      "Test accuracy: 0.9267\n"
     ]
    },
    {
     "data": {
      "image/png": "[encoded data removed]",
      "text/plain": [
       "<Figure size 432x288 with 1 Axes>"
      ]
     },
     "metadata": {
      "needs_background": "light"
     },
     "output_type": "display_data"
    }
   ],
   "source": [
    "import keras\n",
    "from keras.datasets import mnist\n",
    "from keras.models import Sequential\n",
    "from keras.layers import Dense, Dropout, InputLayer\n",
    "from keras.optimizers import RMSprop\n",
    "import matplotlib.pyplot as plt\n",
    "# MNISTデータを読込む\n",
    "(x_train, y_train), (x_test, y_test) = mnist.load_data()\n",
    "\n",
    "x_train  = x_train.reshape(60000, 784)#トレーニングデータを60000行784列の行列に変形\n",
    "x_test   = x_test.reshape(10000, 784)#テストデータを10000行784列の行列に変形\n",
    "x_train  = x_train.astype('float32')#データをfloat型に変換\n",
    "x_test   = x_test.astype('float32')#同上\n",
    "x_train /= 255#データの範囲を0~255から0~1に変換\n",
    "x_test  /= 255#同上\n",
    "y_train  = keras.utils.to_categorical(y_train, 10)#答えのデータを0,1に変換\n",
    "y_test   = keras.utils.to_categorical(y_test, 10)#同上\n",
    "\n",
    "# モデルの構築\n",
    "model = Sequential()\n",
    "model.add(InputLayer(input_shape=(784,)))#入力を784次元にする\n",
    "model.add(Dense(10, activation='softmax'))#出力は10次元で、それぞれsoftmax関数を損失関数とする\n",
    "model.compile(loss='categorical_crossentropy', optimizer='rmsprop', metrics=['accuracy'])\n",
    "\n",
    "# 学習\n",
    "epochs = 20\n",
    "batch_size = 128\n",
    "history = model.fit(x_train, y_train, batch_size=batch_size, epochs=epochs, verbose=1, validation_data=(x_test, y_test))\n",
    "\n",
    "# 検証\n",
    "score = model.evaluate(x_test, y_test, verbose=1)\n",
    "print()\n",
    "print('Test loss:', score[0])\n",
    "print('Test accuracy:', score[1])\n",
    "loss     = history.history['loss']\n",
    "val_loss = history.history['val_loss']\n",
    "\n",
    "nb_epoch = len(loss)\n",
    "plt.plot(range(nb_epoch), loss,     marker='.', label='loss')\n",
    "plt.plot(range(nb_epoch), val_loss, marker='.', label='val_loss')\n",
    "plt.legend(loc='best', fontsize=10)\n",
    "plt.grid()\n",
    "plt.xlabel('epoch')\n",
    "plt.ylabel('loss')\n",
    "plt.show()"
   ]
  },
  {
   "cell_type": "markdown",
   "metadata": {},
   "source": [
    "# KerasでCIFAR10を学習"
   ]
  }
 ],
 "metadata": {
  "kernelspec": {
   "display_name": "Python 3",
   "language": "python",
   "name": "python3"
  }
 },
 "nbformat": 4,
 "nbformat_minor": 2
}
