{
 "cells": [
  {
   "cell_type": "markdown",
   "metadata": {},
   "source": [
    "# KerasでMnistデータを学習(全結合型NN)"
   ]
  },
  {
   "cell_type": "code",
   "execution_count": 1,
   "metadata": {
    "scrolled": true
   },
   "outputs": [
    {
     "name": "stderr",
     "output_type": "stream",
     "text": [
      "Using TensorFlow backend.\n"
     ]
    },
    {
     "name": "stdout",
     "output_type": "stream",
     "text": [
      "WARNING:tensorflow:From c:\\Anaconda3\\lib\\site-packages\\tensorflow\\python\\framework\\op_def_library.py:263: colocate_with (from tensorflow.python.framework.ops) is deprecated and will be removed in a future version.\n",
      "Instructions for updating:\n",
      "Colocations handled automatically by placer.\n",
      "WARNING:tensorflow:From c:\\Anaconda3\\lib\\site-packages\\tensorflow\\python\\ops\\math_ops.py:3066: to_int32 (from tensorflow.python.ops.math_ops) is deprecated and will be removed in a future version.\n",
      "Instructions for updating:\n",
      "Use tf.cast instead.\n",
      "Train on 60000 samples, validate on 10000 samples\n",
      "Epoch 1/20\n",
      "60000/60000 [==============================] - 2s 28us/step - loss: 0.6051 - acc: 0.8510 - val_loss: 0.3411 - val_acc: 0.9082\n",
      "Epoch 2/20\n",
      "60000/60000 [==============================] - 1s 20us/step - loss: 0.3313 - acc: 0.9079 - val_loss: 0.3003 - val_acc: 0.9163\n",
      "Epoch 3/20\n",
      "60000/60000 [==============================] - 1s 20us/step - loss: 0.3021 - acc: 0.9156 - val_loss: 0.2899 - val_acc: 0.9186\n",
      "Epoch 4/20\n",
      "60000/60000 [==============================] - 1s 24us/step - loss: 0.2886 - acc: 0.9189 - val_loss: 0.2763 - val_acc: 0.9244\n",
      "Epoch 5/20\n",
      "60000/60000 [==============================] - 2s 26us/step - loss: 0.2802 - acc: 0.9221 - val_loss: 0.2718 - val_acc: 0.9251\n",
      "Epoch 6/20\n",
      "60000/60000 [==============================] - 1s 21us/step - loss: 0.2746 - acc: 0.9235 - val_loss: 0.2707 - val_acc: 0.9258\n",
      "Epoch 7/20\n",
      "60000/60000 [==============================] - 2s 25us/step - loss: 0.2707 - acc: 0.9252 - val_loss: 0.2702 - val_acc: 0.9251\n",
      "Epoch 8/20\n",
      "60000/60000 [==============================] - 1s 25us/step - loss: 0.2671 - acc: 0.9266 - val_loss: 0.2685 - val_acc: 0.9262\n",
      "Epoch 9/20\n",
      "60000/60000 [==============================] - 1s 23us/step - loss: 0.2645 - acc: 0.9269 - val_loss: 0.2683 - val_acc: 0.9262\n",
      "Epoch 10/20\n",
      "60000/60000 [==============================] - 1s 24us/step - loss: 0.2628 - acc: 0.9281 - val_loss: 0.2713 - val_acc: 0.9258\n",
      "Epoch 11/20\n",
      "60000/60000 [==============================] - 1s 25us/step - loss: 0.2610 - acc: 0.9286 - val_loss: 0.2699 - val_acc: 0.9271\n",
      "Epoch 12/20\n",
      "60000/60000 [==============================] - 1s 23us/step - loss: 0.2593 - acc: 0.9287 - val_loss: 0.2667 - val_acc: 0.9277\n",
      "Epoch 13/20\n",
      "60000/60000 [==============================] - 1s 21us/step - loss: 0.2579 - acc: 0.9297 - val_loss: 0.2668 - val_acc: 0.9285\n",
      "Epoch 14/20\n",
      "60000/60000 [==============================] - 1s 21us/step - loss: 0.2567 - acc: 0.9298 - val_loss: 0.2702 - val_acc: 0.9263\n",
      "Epoch 15/20\n",
      "60000/60000 [==============================] - 1s 25us/step - loss: 0.2558 - acc: 0.9308 - val_loss: 0.2691 - val_acc: 0.9272\n",
      "Epoch 16/20\n",
      "60000/60000 [==============================] - 1s 22us/step - loss: 0.2550 - acc: 0.9312 - val_loss: 0.2687 - val_acc: 0.9275\n",
      "Epoch 17/20\n",
      "60000/60000 [==============================] - 1s 22us/step - loss: 0.2540 - acc: 0.9316 - val_loss: 0.2696 - val_acc: 0.9269\n",
      "Epoch 18/20\n",
      "60000/60000 [==============================] - 1s 21us/step - loss: 0.2534 - acc: 0.9316 - val_loss: 0.2688 - val_acc: 0.9265\n",
      "Epoch 19/20\n",
      "60000/60000 [==============================] - 1s 21us/step - loss: 0.2526 - acc: 0.9316 - val_loss: 0.2688 - val_acc: 0.9288\n",
      "Epoch 20/20\n",
      "60000/60000 [==============================] - 1s 20us/step - loss: 0.2518 - acc: 0.9322 - val_loss: 0.2694 - val_acc: 0.9278\n",
      "10000/10000 [==============================] - 0s 23us/step\n",
      "\n",
      "Test loss: 0.2694238186120987\n",
      "Test accuracy: 0.9278\n"
     ]
    },
    {
     "data": {
      "text/plain": [
       "<Figure size 1000x400 with 2 Axes>"
      ]
     },
     "metadata": {},
     "output_type": "display_data"
    }
   ],
   "source": [
    "import keras\n",
    "from keras.datasets import mnist\n",
    "from keras.models import Sequential\n",
    "from keras.layers import Dense, Dropout, InputLayer\n",
    "from keras.optimizers import RMSprop\n",
    "import matplotlib.pyplot as plt\n",
    "# MNISTデータを読込む\n",
    "(x_train, y_train), (x_test, y_test) = mnist.load_data()\n",
    "\n",
    "x_train  = x_train.reshape(60000, 784)#トレーニングデータを60000行784列の行列に変形\n",
    "x_test   = x_test.reshape(10000, 784)#テストデータを10000行784列の行列に変形\n",
    "x_train  = x_train.astype('float32')#データをfloat型に変換\n",
    "x_test   = x_test.astype('float32')#同上\n",
    "x_train /= 255#データの範囲を0~255から0~1に変換\n",
    "x_test  /= 255#同上\n",
    "y_train  = keras.utils.to_categorical(y_train, 10)#答えのデータを0,1に変換\n",
    "y_test   = keras.utils.to_categorical(y_test, 10)#同上\n",
    "\n",
    "# モデルの構築\n",
    "model = Sequential()\n",
    "model.add(InputLayer(input_shape=(784,)))#入力を784次元にする\n",
    "model.add(Dense(10, activation='softmax'))#出力は10次元で、それぞれsoftmax関数を損失関数とする\n",
    "model.compile(loss='categorical_crossentropy', optimizer='rmsprop', metrics=['accuracy'])\n",
    "\n",
    "# 学習\n",
    "epochs = 20#60000のトレーニングデータを20周する\n",
    "batch_size = 128#60000のデータを128個ずつ学習する\n",
    "history = model.fit(x_train, y_train, batch_size=batch_size, epochs=epochs, verbose=1, validation_data=(x_test, y_test))\n",
    "\n",
    "# 検証\n",
    "score = model.evaluate(x_test, y_test, verbose=1)\n",
    "print()\n",
    "print('Test loss:', score[0])\n",
    "print('Test accuracy:', score[1])\n",
    "loss     = history.history['loss']\n",
    "val_loss = history.history['val_loss']\n",
    "\n",
    "nb_epoch = len(loss)\n",
    "acc     = history.history['acc']\n",
    "val_acc = history.history['val_acc']\n",
    "nb_epoch = len(loss)\n",
    "fig, ax = plt.subplots(1, 2, figsize=(10, 4))\n",
    "ax[0].plot(loss, marker='.', label='loss')\n",
    "ax[0].plot(val_loss, marker='.', label='val_loss')\n",
    "ax[0].legend(loc='best')\n",
    "ax[0].grid(True)\n",
    "ax[0].set_xlabel('epoch')\n",
    "ax[0].set_ylabel('loss')\n",
    "ax[0].set_xlim(0)\n",
    "ax[1].plot(acc, marker='.', label='acc')\n",
    "ax[1].plot(val_acc, marker='.', label='val_acc')\n",
    "ax[1].legend(loc='best')\n",
    "ax[1].grid(True)\n",
    "ax[1].set_xlabel('epoch')\n",
    "ax[1].set_ylabel('acc')\n",
    "ax[1].set_xlim(0)\n",
    "plt.show()"
   ]
  },
  {
   "cell_type": "markdown",
   "metadata": {},
   "source": [
    "# KerasでCIFAR10を学習"
   ]
  },
  {
   "cell_type": "markdown",
   "metadata": {},
   "source": [
    "# (https://newtechnologylifestyle.net/cifar-10%E3%81%AE%E3%83%87%E3%83%BC%E3%82%BF%E3%82%BB%E3%83%83%E3%83%88%E3%82%92%E7%94%A8%E3%81%84%E3%81%A6cnn%E3%81%AE%E7%94%BB%E5%83%8F%E8%AA%8D%E8%AD%98%E3%82%92%E8%A1%8C%E3%81%A3%E3%81%A6%E3%81%BF/)"
   ]
  },
  {
   "cell_type": "code",
   "execution_count": null,
   "metadata": {},
   "outputs": [
    {
     "name": "stdout",
     "output_type": "stream",
     "text": [
      "Train on 50000 samples, validate on 10000 samples\n",
      "Epoch 1/20\n",
      "50000/50000 [==============================] - 3s 52us/step - loss: 3.4959 - acc: 0.2457 - val_loss: 3.4817 - val_acc: 0.2489\n",
      "Epoch 2/20\n",
      "50000/50000 [==============================] - 2s 43us/step - loss: 3.4168 - acc: 0.2893 - val_loss: 3.4686 - val_acc: 0.2755\n",
      "Epoch 3/20\n",
      "50000/50000 [==============================] - 2s 50us/step - loss: 3.4129 - acc: 0.2939 - val_loss: 3.4975 - val_acc: 0.3069\n",
      "Epoch 4/20\n",
      "50000/50000 [==============================] - 3s 51us/step - loss: 3.4265 - acc: 0.3144 - val_loss: 3.4013 - val_acc: 0.3101\n",
      "Epoch 5/20\n",
      "48896/50000 [============================>.] - ETA: 0s - loss: 3.4287 - acc: 0.3206"
     ]
    }
   ],
   "source": [
    "import keras\n",
    "from keras.datasets import cifar10\n",
    "from keras.models import Sequential\n",
    "from keras.layers import Dense, Dropout, InputLayer\n",
    "from keras.optimizers import RMSprop\n",
    "import matplotlib.pyplot as plt\n",
    "\n",
    "(X_train,Y_train),(X_test,Y_test) = cifar10.load_data()\n",
    "\n",
    "X_train  = X_train.reshape(50000, 3072)#トレーニングデータを60000行784列の行列に変形\n",
    "X_test   = X_test.reshape(10000, 3072)#テストデータを10000行784列の行列に変形\n",
    "X_train  = X_train.astype('float32')#データをfloat型に変換\n",
    "X_test   = X_test.astype('float32')#同上\n",
    "X_train /= 255#データの範囲を0~255から0~1に変換\n",
    "X_test  /= 255#同上\n",
    "Y_train  = keras.utils.to_categorical(Y_train, 10)#答えのデータを0,1に変換\n",
    "Y_test   = keras.utils.to_categorical(Y_test, 10)#同上\n",
    "\n",
    "# モデルの構築\n",
    "model = Sequential()\n",
    "model.add(InputLayer(input_shape=(3072,)))#入力を784次元にする\n",
    "model.add(Dense(10, activation='relu'))#出力は10次元で、それぞれsoftmax関数を損失関数とする\n",
    "model.compile(loss='categorical_crossentropy', optimizer='rmsprop', metrics=['accuracy'])\n",
    "\n",
    "# 学習\n",
    "epochs = 20#60000のトレーニングデータを20周する\n",
    "batch_size = 128#60000のデータを128個ずつ学習する\n",
    "history = model.fit(X_train, Y_train, batch_size=batch_size, epochs=epochs, verbose=1, validation_data=(X_test, Y_test))\n",
    "\n",
    "# 検証\n",
    "score = model.evaluate(X_test, Y_test, verbose=1)\n",
    "print()\n",
    "print('Test loss:', score[0])\n",
    "print('Test accuracy:', score[1])\n",
    "loss     = history.history['loss']\n",
    "val_loss = history.history['val_loss']\n",
    "nb_epoch = len(loss)\n",
    "acc     = history.history['acc']\n",
    "val_acc = history.history['val_acc']\n",
    "fig, ax = plt.subplots(1, 2, figsize=(10, 4))\n",
    "ax[0].plot(loss, marker='.', label='loss')\n",
    "ax[0].plot(val_loss, marker='.', label='val_loss')\n",
    "ax[0].legend(loc='best')\n",
    "ax[0].grid(True)\n",
    "ax[0].set_xlabel('epoch')\n",
    "ax[0].set_ylabel('loss')\n",
    "ax[0].set_xlim(0)\n",
    "ax[1].plot(acc, marker='.', label='acc')\n",
    "ax[1].plot(val_acc, marker='.', label='val_acc')\n",
    "ax[1].legend(loc='best')\n",
    "ax[1].grid(True)\n",
    "ax[1].set_xlabel('epoch')\n",
    "ax[1].set_ylabel('acc')\n",
    "ax[1].set_xlim(0)\n",
    "plt.show()"
   ]
  },
  {
   "cell_type": "markdown",
   "metadata": {},
   "source": [
    "# 全結合層でCIFAR10は識別できない。逆にMNISTが非常に簡単なデータだと分かった"
   ]
  }
 ],
 "metadata": {
  "kernelspec": {
   "display_name": "Python 3",
   "language": "python",
   "name": "python3"
  },
  "language_info": {
   "codemirror_mode": {
    "name": "ipython",
    "version": 3
   },
   "file_extension": ".py",
   "mimetype": "text/x-python",
   "name": "python",
   "nbconvert_exporter": "python",
   "pygments_lexer": "ipython3",
   "version": "3.7.1"
  }
 },
 "nbformat": 4,
 "nbformat_minor": 2
}
