{
 "cells": [
  {
   "cell_type": "markdown",
   "metadata": {},
   "source": [
    "# CNNでMNISTを学習"
   ]
  },
  {
   "cell_type": "code",
   "execution_count": 5,
   "metadata": {
    "scrolled": false
   },
   "outputs": [
    {
     "name": "stdout",
     "output_type": "stream",
     "text": [
      "Train on 60000 samples, validate on 10500 samples\n",
      "Epoch 1/10\n",
      "60000/60000 [==============================] - 112s 2ms/step - loss: 0.2367 - acc: 0.9285 - val_loss: 0.0542 - val_acc: 0.9839\n",
      "Epoch 2/10\n",
      "60000/60000 [==============================] - 112s 2ms/step - loss: 0.0921 - acc: 0.9736 - val_loss: 0.0400 - val_acc: 0.9880\n",
      "Epoch 3/10\n",
      "60000/60000 [==============================] - 113s 2ms/step - loss: 0.0708 - acc: 0.9797 - val_loss: 0.0409 - val_acc: 0.9888\n",
      "Epoch 4/10\n",
      "60000/60000 [==============================] - 111s 2ms/step - loss: 0.0620 - acc: 0.9823 - val_loss: 0.0294 - val_acc: 0.9909\n",
      "Epoch 5/10\n",
      "60000/60000 [==============================] - 111s 2ms/step - loss: 0.0584 - acc: 0.9834 - val_loss: 0.0240 - val_acc: 0.9923\n",
      "Epoch 6/10\n",
      "60000/60000 [==============================] - 110s 2ms/step - loss: 0.0550 - acc: 0.9843 - val_loss: 0.0229 - val_acc: 0.9931\n",
      "Epoch 7/10\n",
      "60000/60000 [==============================] - 110s 2ms/step - loss: 0.0551 - acc: 0.9842 - val_loss: 0.0196 - val_acc: 0.9935\n",
      "Epoch 8/10\n",
      "60000/60000 [==============================] - 111s 2ms/step - loss: 0.0552 - acc: 0.9847 - val_loss: 0.0196 - val_acc: 0.9937\n",
      "Epoch 9/10\n",
      "60000/60000 [==============================] - 110s 2ms/step - loss: 0.0581 - acc: 0.9839 - val_loss: 0.0210 - val_acc: 0.9932\n",
      "Epoch 10/10\n",
      "60000/60000 [==============================] - 110s 2ms/step - loss: 0.0582 - acc: 0.9843 - val_loss: 0.0190 - val_acc: 0.9936\n",
      "Test loss: 0.03592265981569799\n",
      "Test accuracy: 0.9888\n"
     ]
    },
    {
     "data": {
      "image/png": "[encoded data removed]",
      "text/plain": [
       "<Figure size 720x288 with 2 Axes>"
      ]
     },
     "metadata": {
      "needs_background": "light"
     },
     "output_type": "display_data"
    }
   ],
   "source": [
    "import keras\n",
    "from keras.models import Sequential\n",
    "from keras.layers import Dense, Dropout, Flatten\n",
    "from keras.layers import Conv2D, MaxPooling2D\n",
    "from sklearn.model_selection import train_test_split\n",
    "from keras.optimizers import RMSprop\n",
    "from keras.datasets import mnist\n",
    "import matplotlib.pyplot as plt\n",
    "(x_train, y_train), (x_test, y_test) = mnist.load_data()\n",
    "x_train1, x_valid, y_train1, y_valid = train_test_split(x_train, y_train, test_size=0.175)\n",
    "model = Sequential()\n",
    "model.add(Conv2D(32, kernel_size=(3, 3), activation='relu', input_shape=(28, 28, 1)))\n",
    "model.add(Conv2D(64, (3, 3), activation='relu'))\n",
    "model.add(MaxPooling2D(pool_size=(2, 2)))\n",
    "model.add(Dropout(0.25))\n",
    "model.add(Flatten())\n",
    "model.add(Dense(128, activation='relu'))\n",
    "model.add(Dropout(0.5))\n",
    "model.add(Dense(10, activation='softmax'))\n",
    "\n",
    "x_train = x_train.reshape(x_train.shape[0], 28, 28, 1)\n",
    "x_valid = x_valid.reshape(x_valid.shape[0], 28, 28, 1)\n",
    "x_test = x_test.reshape(x_test.shape[0], 28, 28, 1)\n",
    "\n",
    "x_train = x_train.astype('float32')\n",
    "x_valid = x_valid.astype('float32')\n",
    "x_test = x_test.astype('float32')\n",
    "x_train /= 255\n",
    "x_valid /= 255\n",
    "x_test /= 255\n",
    "\n",
    "\n",
    "y_train = keras.utils.to_categorical(y_train, 10)\n",
    "y_valid = keras.utils.to_categorical(y_valid, 10)\n",
    "y_test = keras.utils.to_categorical(y_test, 10)\n",
    "\n",
    "model.compile(loss='categorical_crossentropy',\n",
    "              optimizer=RMSprop(),\n",
    "              metrics=['accuracy'])\n",
    "\n",
    "history = model.fit(x_train, y_train,\n",
    "                    batch_size=128,\n",
    "                    epochs=10,\n",
    "                    verbose=1,\n",
    "                    validation_data=(x_valid, y_valid))\n",
    "score = model.evaluate(x_test, y_test, verbose=0)\n",
    "print('Test loss:', score[0])\n",
    "print('Test accuracy:', score[1])\n",
    "loss     = history.history['loss']\n",
    "val_loss = history.history['val_loss']\n",
    "acc     = history.history['acc']\n",
    "val_acc = history.history['val_acc']\n",
    "nb_epoch = len(loss)\n",
    "fig, ax = plt.subplots(1, 2, figsize=(10, 4))\n",
    "ax[0].plot(loss, marker='.', label='loss')\n",
    "ax[0].plot(val_loss, marker='.', label='val_loss')\n",
    "ax[0].legend(loc='best')\n",
    "ax[0].grid(True)\n",
    "ax[0].set_xlabel('epoch')\n",
    "ax[0].set_ylabel('loss')\n",
    "ax[0].set_xlim(0)\n",
    "ax[1].plot(acc, marker='.', label='acc')\n",
    "ax[1].plot(val_acc, marker='.', label='val_acc')\n",
    "ax[1].legend(loc='best')\n",
    "ax[1].grid(True)\n",
    "ax[1].set_xlabel('epoch')\n",
    "ax[1].set_ylabel('acc')\n",
    "ax[1].set_xlim(0)\n",
    "plt.show()"
   ]
  },
  {
   "cell_type": "markdown",
   "metadata": {},
   "source": [
    "# CNNでCIFAR10を学習"
   ]
  },
  {
   "cell_type": "code",
   "execution_count": null,
   "metadata": {
    "scrolled": true
   },
   "outputs": [
    {
     "name": "stdout",
     "output_type": "stream",
     "text": [
      "Train on 50000 samples, validate on 8750 samples\n",
      "Epoch 1/20\n",
      "50000/50000 [==============================] - 119s 2ms/step - loss: 1.7641 - acc: 0.3743 - val_loss: 1.3248 - val_acc: 0.5371\n",
      "Epoch 2/20\n",
      "50000/50000 [==============================] - 118s 2ms/step - loss: 1.3696 - acc: 0.5188 - val_loss: 1.1901 - val_acc: 0.5850\n",
      "Epoch 3/20\n",
      "50000/50000 [==============================] - 117s 2ms/step - loss: 1.2260 - acc: 0.5688 - val_loss: 0.9551 - val_acc: 0.6674\n",
      "Epoch 4/20\n",
      "50000/50000 [==============================] - 123s 2ms/step - loss: 1.1275 - acc: 0.6031 - val_loss: 0.8555 - val_acc: 0.7080\n",
      "Epoch 5/20\n",
      "50000/50000 [==============================] - 127s 3ms/step - loss: 1.0698 - acc: 0.6256 - val_loss: 0.8459 - val_acc: 0.6919\n",
      "Epoch 6/20\n",
      "50000/50000 [==============================] - 123s 2ms/step - loss: 1.0227 - acc: 0.6452 - val_loss: 0.7904 - val_acc: 0.7175\n",
      "Epoch 7/20\n",
      "50000/50000 [==============================] - 121s 2ms/step - loss: 0.9815 - acc: 0.6586 - val_loss: 0.7595 - val_acc: 0.7440\n",
      "Epoch 8/20\n",
      "50000/50000 [==============================] - 122s 2ms/step - loss: 0.9656 - acc: 0.6623 - val_loss: 0.7031 - val_acc: 0.7645\n",
      "Epoch 9/20\n",
      "50000/50000 [==============================] - 121s 2ms/step - loss: 0.9371 - acc: 0.6728 - val_loss: 0.6689 - val_acc: 0.7761\n",
      "Epoch 10/20\n",
      "50000/50000 [==============================] - 121s 2ms/step - loss: 0.9137 - acc: 0.6836 - val_loss: 0.7204 - val_acc: 0.7779\n",
      "Epoch 11/20\n",
      "50000/50000 [==============================] - 124s 2ms/step - loss: 0.9084 - acc: 0.6861 - val_loss: 0.5926 - val_acc: 0.7909\n",
      "Epoch 12/20\n",
      "50000/50000 [==============================] - 139s 3ms/step - loss: 0.8983 - acc: 0.6937 - val_loss: 0.5828 - val_acc: 0.8003\n",
      "Epoch 13/20\n",
      " 9472/50000 [====>.........................] - ETA: 1:39 - loss: 0.9065 - acc: 0.6894"
     ]
    }
   ],
   "source": [
    "import keras\n",
    "from keras.models import Sequential\n",
    "from keras.layers import Dense, Dropout, Flatten\n",
    "from keras.layers import Conv2D, MaxPooling2D\n",
    "from sklearn.model_selection import train_test_split\n",
    "from keras.optimizers import RMSprop\n",
    "from keras.datasets import cifar10\n",
    "import matplotlib.pyplot as plt\n",
    "(x_train, y_train), (x_test, y_test) = cifar10.load_data()\n",
    "x_train1, x_valid, y_train1, y_valid = train_test_split(x_train, y_train, test_size=0.175)\n",
    "model = Sequential()\n",
    "model.add(Conv2D(32, kernel_size=(3, 3), activation='relu', input_shape=(32, 32, 3)))\n",
    "model.add(Conv2D(64, (3, 3), activation='relu'))\n",
    "model.add(MaxPooling2D(pool_size=(2, 2)))\n",
    "model.add(Dropout(0.25))\n",
    "model.add(Flatten())\n",
    "model.add(Dense(128, activation='relu'))\n",
    "model.add(Dropout(0.5))\n",
    "model.add(Dense(10, activation='softmax'))\n",
    "# 28 x 28の画像がgrayscaleで1chなので、28, 28, 1にreshapeする\n",
    "x_train = x_train.reshape(x_train.shape[0], 32, 32, 3)\n",
    "x_valid = x_valid.reshape(x_valid.shape[0], 32, 32, 3)\n",
    "x_test = x_test.reshape(x_test.shape[0], 32, 32, 3)\n",
    "\n",
    "# 0-255の整数値を0〜1の小数に変換する\n",
    "# MNISTって必ずこの処理入るけれど、意味あるのかな\n",
    "x_train = x_train.astype('float32')\n",
    "x_valid = x_valid.astype('float32')\n",
    "x_test = x_test.astype('float32')\n",
    "x_train /= 255\n",
    "x_valid /= 255\n",
    "x_test /= 255\n",
    "\n",
    "# one-hot vector形式に変換する\n",
    "y_train = keras.utils.to_categorical(y_train, 10)\n",
    "y_valid = keras.utils.to_categorical(y_valid, 10)\n",
    "y_test = keras.utils.to_categorical(y_test, 10)\n",
    "\n",
    "model.compile(loss='categorical_crossentropy',\n",
    "              optimizer=RMSprop(),\n",
    "              metrics=['accuracy'])\n",
    "\n",
    "history = model.fit(x_train, y_train,\n",
    "                    batch_size=128,\n",
    "                    epochs=20,\n",
    "                    verbose=1,\n",
    "                    validation_data=(x_valid, y_valid))\n",
    "score = model.evaluate(x_test, y_test, verbose=0)\n",
    "print('Test loss:', score[0])\n",
    "print('Test accuracy:', score[1])\n",
    "loss     = history.history['loss']\n",
    "val_loss = history.history['val_loss']\n",
    "nb_epoch = len(loss)\n",
    "ax[0].plot(loss, marker='.', label='loss')\n",
    "ax[0].plot(val_loss, marker='.', label='val_loss')\n",
    "ax[0].legend(loc='best')\n",
    "ax[0].grid(True)\n",
    "ax[0].set_xlabel('epoch')\n",
    "ax[0].set_ylabel('loss')\n",
    "ax[0].set_xlim(0)\n",
    "ax[1].plot(acc, marker='.', label='acc')\n",
    "ax[1].plot(val_acc, marker='.', label='val_acc')\n",
    "ax[1].legend(loc='best')\n",
    "ax[1].grid(True)\n",
    "ax[1].set_xlabel('epoch')\n",
    "ax[1].set_ylabel('acc')\n",
    "ax[1].set_xlim(0)\n",
    "plt.show()"
   ]
  },
  {
   "cell_type": "code",
   "execution_count": 2,
   "metadata": {
    "scrolled": true
   },
   "outputs": [
    {
     "data": {
      "image/png": "[encoded data removed]",
      "text/plain": [
       "<Figure size 432x288 with 1 Axes>"
      ]
     },
     "metadata": {
      "needs_background": "light"
     },
     "output_type": "display_data"
    }
   ],
   "source": [
    "plt.plot(range(nb_epoch), loss,     marker='.', label='loss')\n",
    "plt.plot(range(nb_epoch), val_loss, marker='.', label='val_loss')\n",
    "plt.legend(loc='best', fontsize=10)\n",
    "plt.grid()\n",
    "plt.xlabel('epoch')\n",
    "plt.ylabel('loss')\n",
    "plt.show()"
   ]
  },
  {
   "cell_type": "markdown",
   "metadata": {},
   "source": [
    "#### val_lossがこれ以上下がりそうにないため、これ以上学習しても意味はなさそうだ"
   ]
  }
 ],
 "metadata": {
  "kernelspec": {
   "display_name": "Python 3",
   "language": "python",
   "name": "python3"
  },
  "language_info": {
   "codemirror_mode": {
    "name": "ipython",
    "version": 3
   },
   "file_extension": ".py",
   "mimetype": "text/x-python",
   "name": "python",
   "nbconvert_exporter": "python",
   "pygments_lexer": "ipython3",
   "version": "3.7.1"
  }
 },
 "nbformat": 4,
 "nbformat_minor": 2
}
