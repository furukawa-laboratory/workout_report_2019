{
 "cells": [
  {
   "cell_type": "markdown",
   "metadata": {},
   "source": [
    "# CNNでMNISTを学習"
   ]
  },
  {
   "cell_type": "code",
   "execution_count": 5,
   "metadata": {
    "scrolled": false
   },
   "outputs": [
    {
     "name": "stdout",
     "output_type": "stream",
     "text": [
      "Train on 60000 samples, validate on 10500 samples\n",
      "Epoch 1/10\n",
      "60000/60000 [==============================] - 96s 2ms/step - loss: 0.2189 - acc: 0.9330 - val_loss: 0.0562 - val_acc: 0.9838\n",
      "Epoch 2/10\n",
      "60000/60000 [==============================] - 94s 2ms/step - loss: 0.0822 - acc: 0.9750 - val_loss: 0.0403 - val_acc: 0.9898\n",
      "Epoch 3/10\n",
      "60000/60000 [==============================] - 95s 2ms/step - loss: 0.0633 - acc: 0.9816 - val_loss: 0.0364 - val_acc: 0.9898\n",
      "Epoch 4/10\n",
      "60000/60000 [==============================] - 104s 2ms/step - loss: 0.0571 - acc: 0.9832 - val_loss: 0.0269 - val_acc: 0.9931\n",
      "Epoch 5/10\n",
      "60000/60000 [==============================] - 97s 2ms/step - loss: 0.0557 - acc: 0.9835 - val_loss: 0.0254 - val_acc: 0.9929\n",
      "Epoch 6/10\n",
      "60000/60000 [==============================] - 99s 2ms/step - loss: 0.0552 - acc: 0.9843 - val_loss: 0.0262 - val_acc: 0.9935\n",
      "Epoch 7/10\n",
      "60000/60000 [==============================] - 94s 2ms/step - loss: 0.0558 - acc: 0.9841 - val_loss: 0.0339 - val_acc: 0.9909 \n",
      "Epoch 8/10\n",
      "60000/60000 [==============================] - 95s 2ms/step - loss: 0.0581 - acc: 0.9839 - val_loss: 0.0268 - val_acc: 0.9929\n",
      "Epoch 9/10\n",
      "60000/60000 [==============================] - 94s 2ms/step - loss: 0.0584 - acc: 0.9846 - val_loss: 0.0302 - val_acc: 0.9936\n",
      "Epoch 10/10\n",
      "60000/60000 [==============================] - 94s 2ms/step - loss: 0.0584 - acc: 0.9844 - val_loss: 0.0358 - val_acc: 0.9911\n",
      "Test loss: 0.05470556191641663\n",
      "Test accuracy: 0.9871\n"
     ]
    },
    {
     "data": {
      "image/png": "[encoded data removed]",
      "text/plain": [
       "<Figure size 432x288 with 1 Axes>"
      ]
     },
     "metadata": {
      "needs_background": "light"
     },
     "output_type": "display_data"
    }
   ],
   "source": [
    "import keras\n",
    "from keras.models import Sequential\n",
    "from keras.layers import Dense, Dropout, Flatten\n",
    "from keras.layers import Conv2D, MaxPooling2D\n",
    "from sklearn.model_selection import train_test_split\n",
    "from keras.optimizers import RMSprop\n",
    "from keras.datasets import mnist\n",
    "import matplotlib.pyplot as plt\n",
    "(x_train, y_train), (x_test, y_test) = mnist.load_data()\n",
    "x_train1, x_valid, y_train1, y_valid = train_test_split(x_train, y_train, test_size=0.175)\n",
    "model = Sequential()\n",
    "model.add(Conv2D(32, kernel_size=(3, 3), activation='relu', input_shape=(28, 28, 1)))# 32個の３＊３サイズのフィルターを作る\n",
    "model.add(Conv2D(64, (3, 3), activation='relu'))\n",
    "model.add(MaxPooling2D(pool_size=(2, 2)))\n",
    "model.add(Dropout(0.25))\n",
    "model.add(Flatten())\n",
    "model.add(Dense(128, activation='relu'))\n",
    "model.add(Dropout(0.5))\n",
    "model.add(Dense(10, activation='softmax'))\n",
    "# 28 x 28の画像がgrayscaleで1chなので、28, 28, 1にreshapeする\n",
    "x_train = x_train.reshape(x_train.shape[0], 28, 28, 1)\n",
    "x_valid = x_valid.reshape(x_valid.shape[0], 28, 28, 1)\n",
    "x_test = x_test.reshape(x_test.shape[0], 28, 28, 1)\n",
    "\n",
    "# 0-255の整数値を0〜1の小数に変換する\n",
    "# MNISTって必ずこの処理入るけれど、意味あるのかな\n",
    "x_train = x_train.astype('float32')\n",
    "x_valid = x_valid.astype('float32')\n",
    "x_test = x_test.astype('float32')\n",
    "x_train /= 255\n",
    "x_valid /= 255\n",
    "x_test /= 255\n",
    "\n",
    "# one-hot vector形式に変換する\n",
    "y_train = keras.utils.to_categorical(y_train, 10)\n",
    "y_valid = keras.utils.to_categorical(y_valid, 10)\n",
    "y_test = keras.utils.to_categorical(y_test, 10)\n",
    "\n",
    "model.compile(loss='categorical_crossentropy',\n",
    "              optimizer=RMSprop(),\n",
    "              metrics=['accuracy'])\n",
    "\n",
    "history = model.fit(x_train, y_train,\n",
    "                    batch_size=128,\n",
    "                    epochs=10,\n",
    "                    verbose=1,\n",
    "                    validation_data=(x_valid, y_valid))\n",
    "score = model.evaluate(x_test, y_test, verbose=0)\n",
    "print('Test loss:', score[0])\n",
    "print('Test accuracy:', score[1])\n",
    "loss     = history.history['loss']\n",
    "val_loss = history.history['val_loss']\n",
    "nb_epoch = len(loss)\n",
    "plt.plot(range(nb_epoch), loss,     marker='.', label='loss')\n",
    "plt.plot(range(nb_epoch), val_loss, marker='.', label='val_loss')\n",
    "plt.legend(loc='best', fontsize=10)\n",
    "plt.grid()\n",
    "plt.xlabel('epoch')\n",
    "plt.ylabel('loss')\n",
    "plt.show()"
   ]
  },
  {
   "cell_type": "markdown",
   "metadata": {},
   "source": [
    "# CNNでCIFAR10を学習"
   ]
  },
  {
   "cell_type": "code",
   "execution_count": 1,
   "metadata": {
    "scrolled": true
   },
   "outputs": [
    {
     "name": "stderr",
     "output_type": "stream",
     "text": [
      "Using TensorFlow backend.\n"
     ]
    },
    {
     "name": "stdout",
     "output_type": "stream",
     "text": [
      "WARNING:tensorflow:From c:\\Anaconda3\\lib\\site-packages\\tensorflow\\python\\framework\\op_def_library.py:263: colocate_with (from tensorflow.python.framework.ops) is deprecated and will be removed in a future version.\n",
      "Instructions for updating:\n",
      "Colocations handled automatically by placer.\n",
      "WARNING:tensorflow:From c:\\Anaconda3\\lib\\site-packages\\keras\\backend\\tensorflow_backend.py:3445: calling dropout (from tensorflow.python.ops.nn_ops) with keep_prob is deprecated and will be removed in a future version.\n",
      "Instructions for updating:\n",
      "Please use `rate` instead of `keep_prob`. Rate should be set to `rate = 1 - keep_prob`.\n",
      "WARNING:tensorflow:From c:\\Anaconda3\\lib\\site-packages\\tensorflow\\python\\ops\\math_ops.py:3066: to_int32 (from tensorflow.python.ops.math_ops) is deprecated and will be removed in a future version.\n",
      "Instructions for updating:\n",
      "Use tf.cast instead.\n",
      "Train on 50000 samples, validate on 8750 samples\n",
      "Epoch 1/20\n",
      "50000/50000 [==============================] - 121s 2ms/step - loss: 1.7740 - acc: 0.3687 - val_loss: 1.3368 - val_acc: 0.5402\n",
      "Epoch 2/20\n",
      "50000/50000 [==============================] - 120s 2ms/step - loss: 1.3591 - acc: 0.5204 - val_loss: 1.1032 - val_acc: 0.6248\n",
      "Epoch 3/20\n",
      "50000/50000 [==============================] - 121s 2ms/step - loss: 1.2088 - acc: 0.5781 - val_loss: 1.0086 - val_acc: 0.6405\n",
      "Epoch 4/20\n",
      "50000/50000 [==============================] - 120s 2ms/step - loss: 1.1224 - acc: 0.6080 - val_loss: 0.8547 - val_acc: 0.6998\n",
      "Epoch 5/20\n",
      "50000/50000 [==============================] - 120s 2ms/step - loss: 1.0557 - acc: 0.6302 - val_loss: 0.7895 - val_acc: 0.7272\n",
      "Epoch 6/20\n",
      "50000/50000 [==============================] - 120s 2ms/step - loss: 1.0044 - acc: 0.6505 - val_loss: 0.7387 - val_acc: 0.7453\n",
      "Epoch 7/20\n",
      "50000/50000 [==============================] - 116s 2ms/step - loss: 0.9669 - acc: 0.6647 - val_loss: 0.6974 - val_acc: 0.7624\n",
      "Epoch 8/20\n",
      "50000/50000 [==============================] - 116s 2ms/step - loss: 0.9338 - acc: 0.6743 - val_loss: 0.6986 - val_acc: 0.7664\n",
      "Epoch 9/20\n",
      "50000/50000 [==============================] - 116s 2ms/step - loss: 0.9112 - acc: 0.6860 - val_loss: 0.5979 - val_acc: 0.7926\n",
      "Epoch 10/20\n",
      "50000/50000 [==============================] - 116s 2ms/step - loss: 0.8925 - acc: 0.6919 - val_loss: 0.6458 - val_acc: 0.7878\n",
      "Epoch 11/20\n",
      "50000/50000 [==============================] - 116s 2ms/step - loss: 0.8758 - acc: 0.6971 - val_loss: 0.6534 - val_acc: 0.7815\n",
      "Epoch 12/20\n",
      "50000/50000 [==============================] - 116s 2ms/step - loss: 0.8659 - acc: 0.7025 - val_loss: 0.6253 - val_acc: 0.7941\n",
      "Epoch 13/20\n",
      "50000/50000 [==============================] - 116s 2ms/step - loss: 0.8475 - acc: 0.7120 - val_loss: 0.6544 - val_acc: 0.8166\n",
      "Epoch 14/20\n",
      "50000/50000 [==============================] - 116s 2ms/step - loss: 0.8413 - acc: 0.7118 - val_loss: 0.5987 - val_acc: 0.7912\n",
      "Epoch 15/20\n",
      "50000/50000 [==============================] - 116s 2ms/step - loss: 0.8304 - acc: 0.7197 - val_loss: 0.4972 - val_acc: 0.8359\n",
      "Epoch 16/20\n",
      "50000/50000 [==============================] - 115s 2ms/step - loss: 0.8216 - acc: 0.7202 - val_loss: 0.5331 - val_acc: 0.8161\n",
      "Epoch 17/20\n",
      "50000/50000 [==============================] - 116s 2ms/step - loss: 0.8174 - acc: 0.7225 - val_loss: 0.4810 - val_acc: 0.8393\n",
      "Epoch 18/20\n",
      "50000/50000 [==============================] - 117s 2ms/step - loss: 0.8019 - acc: 0.7288 - val_loss: 0.4351 - val_acc: 0.8545\n",
      "Epoch 19/20\n",
      "50000/50000 [==============================] - 116s 2ms/step - loss: 0.8126 - acc: 0.7262 - val_loss: 0.5040 - val_acc: 0.8433\n",
      "Epoch 20/20\n",
      "50000/50000 [==============================] - 116s 2ms/step - loss: 0.7931 - acc: 0.7303 - val_loss: 0.6282 - val_acc: 0.8277\n",
      "Test loss: 0.9445059183120728\n",
      "Test accuracy: 0.6854\n"
     ]
    },
    {
     "data": {
      "text/plain": [
       "<Figure size 640x480 with 1 Axes>"
      ]
     },
     "metadata": {},
     "output_type": "display_data"
    }
   ],
   "source": [
    "import keras\n",
    "from keras.models import Sequential\n",
    "from keras.layers import Dense, Dropout, Flatten\n",
    "from keras.layers import Conv2D, MaxPooling2D\n",
    "from sklearn.model_selection import train_test_split\n",
    "from keras.optimizers import RMSprop\n",
    "from keras.datasets import cifar10\n",
    "import matplotlib.pyplot as plt\n",
    "(x_train, y_train), (x_test, y_test) = cifar10.load_data()\n",
    "x_train1, x_valid, y_train1, y_valid = train_test_split(x_train, y_train, test_size=0.175)\n",
    "model = Sequential()\n",
    "model.add(Conv2D(32, kernel_size=(3, 3), activation='relu', input_shape=(32, 32, 3)))\n",
    "model.add(Conv2D(64, (3, 3), activation='relu'))\n",
    "model.add(MaxPooling2D(pool_size=(2, 2)))\n",
    "model.add(Dropout(0.25))\n",
    "model.add(Flatten())\n",
    "model.add(Dense(128, activation='relu'))\n",
    "model.add(Dropout(0.5))\n",
    "model.add(Dense(10, activation='softmax'))\n",
    "# 28 x 28の画像がgrayscaleで1chなので、28, 28, 1にreshapeする\n",
    "x_train = x_train.reshape(x_train.shape[0], 32, 32, 3)\n",
    "x_valid = x_valid.reshape(x_valid.shape[0], 32, 32, 3)\n",
    "x_test = x_test.reshape(x_test.shape[0], 32, 32, 3)\n",
    "\n",
    "# 0-255の整数値を0〜1の小数に変換する\n",
    "# MNISTって必ずこの処理入るけれど、意味あるのかな\n",
    "x_train = x_train.astype('float32')\n",
    "x_valid = x_valid.astype('float32')\n",
    "x_test = x_test.astype('float32')\n",
    "x_train /= 255\n",
    "x_valid /= 255\n",
    "x_test /= 255\n",
    "\n",
    "# one-hot vector形式に変換する\n",
    "y_train = keras.utils.to_categorical(y_train, 10)\n",
    "y_valid = keras.utils.to_categorical(y_valid, 10)\n",
    "y_test = keras.utils.to_categorical(y_test, 10)\n",
    "\n",
    "model.compile(loss='categorical_crossentropy',\n",
    "              optimizer=RMSprop(),\n",
    "              metrics=['accuracy'])\n",
    "\n",
    "history = model.fit(x_train, y_train,\n",
    "                    batch_size=128,\n",
    "                    epochs=20,\n",
    "                    verbose=1,\n",
    "                    validation_data=(x_valid, y_valid))\n",
    "score = model.evaluate(x_test, y_test, verbose=0)\n",
    "print('Test loss:', score[0])\n",
    "print('Test accuracy:', score[1])\n",
    "loss     = history.history['loss']\n",
    "val_loss = history.history['val_loss']\n",
    "nb_epoch = len(loss)\n",
    "plt.plot(range(nb_epoch), loss,     marker='.', label='loss')\n",
    "plt.plot(range(nb_epoch), val_loss, marker='.', label='val_loss')\n",
    "plt.legend(loc='best', fontsize=10)\n",
    "plt.grid()\n",
    "plt.xlabel('epoch')\n",
    "plt.ylabel('loss')\n",
    "plt.show()"
   ]
  },
  {
   "cell_type": "code",
   "execution_count": 2,
   "metadata": {},
   "outputs": [
    {
     "data": {
      "image/png": "[encoded data removed]",
      "text/plain": [
       "<Figure size 432x288 with 1 Axes>"
      ]
     },
     "metadata": {
      "needs_background": "light"
     },
     "output_type": "display_data"
    }
   ],
   "source": [
    "plt.plot(range(nb_epoch), loss,     marker='.', label='loss')\n",
    "plt.plot(range(nb_epoch), val_loss, marker='.', label='val_loss')\n",
    "plt.legend(loc='best', fontsize=10)\n",
    "plt.grid()\n",
    "plt.xlabel('epoch')\n",
    "plt.ylabel('loss')\n",
    "plt.show()"
   ]
  }
 ],
 "metadata": {
  "kernelspec": {
   "display_name": "Python 3",
   "language": "python",
   "name": "python3"
  },
  "language_info": {
   "codemirror_mode": {
    "name": "ipython",
    "version": 3
   },
   "file_extension": ".py",
   "mimetype": "text/x-python",
   "name": "python",
   "nbconvert_exporter": "python",
   "pygments_lexer": "ipython3",
   "version": "3.7.1"
  }
 },
 "nbformat": 4,
 "nbformat_minor": 2
}
