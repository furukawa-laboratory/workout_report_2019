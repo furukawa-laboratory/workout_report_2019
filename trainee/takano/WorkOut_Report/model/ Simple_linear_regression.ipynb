{
 "cells": [
  {
   "cell_type": "code",
   "execution_count": 17,
   "metadata": {},
   "outputs": [
    {
     "name": "stdout",
     "output_type": "stream",
     "text": [
      "Automatically created module for IPython interactive environment\n",
      "Coefficients: \n",
      " [9.15492093]\n",
      "Mean squared error: 18.15\n",
      "Variance score: 0.15\n"
     ]
    },
    {
     "data": {
      "image/png": "[encoded data removed]",
      "text/plain": [
       "<Figure size 432x288 with 1 Axes>"
      ]
     },
     "metadata": {
      "needs_background": "light"
     },
     "output_type": "display_data"
    }
   ],
   "source": [
    "print(__doc__)\n",
    "\n",
    "#単回帰：入力が1次元　重回帰：入力が多次元\n",
    "# Code source: Jaques Grobler\n",
    "# License: BSD 3 clause\n",
    "\n",
    "\n",
    "import matplotlib.pyplot as plt#グラフを作るためのライブラリ\n",
    "import numpy as np\n",
    "#import numpy as np#多次元配列の計算が早くなる\n",
    "from sklearn import datasets, linear_model#サイキットランから回帰データを持ってくる\n",
    "from sklearn.metrics import mean_squared_error, r2_score#平均二乗誤差をする関数を持ってくる\n",
    "\n",
    "boston = datasets.load_boston()#サイキットランからボストンの家の値段のデータを持ってくる\n",
    "\n",
    "\n",
    "# Use only one feature\n",
    "boston_X = boston.data[:,np.newaxis,5]#コロンはある列のすべての値を持ってくる。np.newaxisは1次元行列を2次元行列と掛け算できるようにする。\n",
    "#print(boston_X_test.shape)\n",
    "boston_y_train = boston.target[:-30]#最後から20番目までをトレインデータとする（486個）\n",
    "boston_y_test = boston.target[-30:]#最後から20番目からをテストデータとする（20個）\n",
    "\n",
    "# Create linear regression object\n",
    "regr = linear_model.LinearRegression()#回帰モデルを呼び出す\n",
    "\n",
    "# Train the model using the training sets\n",
    "regr.fit(boston_X_train, boston_y_train)#トレーニングデータをセットする\n",
    "\n",
    "# Make predictions using the testing set\n",
    "boston_y_pred = regr.predict(boston_X_test)\n",
    "\n",
    "# The coefficients\n",
    "print('Coefficients: \\n', regr.coef_)\n",
    "# The mean squared error\n",
    "print(\"Mean squared error: %.2f\"\n",
    "      % mean_squared_error(boston_y_test, boston_y_pred))\n",
    "# Explained variance score: 1 is perfect prediction\n",
    "print('Variance score: %.2f' % r2_score(boston_y_test, boston_y_pred))\n",
    "\n",
    "# Plot outputs\n",
    "plt.scatter(boston_X_test, boston_y_test,  color='black')\n",
    "#print(boston_X_test)\n",
    "plt.plot(boston_X_test, boston_y_pred, color='blue', linewidth=3)\n",
    "plt.xlabel('% lower status of the population [LSTAT]')\n",
    "plt.ylabel(\"Y-axis\")\n",
    "plt.show()\n",
    "\n"
   ]
  }
 ],
 "metadata": {
  "kernelspec": {
   "display_name": "Python 3",
   "language": "python",
   "name": "python3"
  },
  "language_info": {
   "codemirror_mode": {
    "name": "ipython",
    "version": 3
   },
   "file_extension": ".py",
   "mimetype": "text/x-python",
   "name": "python",
   "nbconvert_exporter": "python",
   "pygments_lexer": "ipython3",
   "version": "3.7.1"
  }
 },
 "nbformat": 4,
 "nbformat_minor": 2
}
